{
 "cells": [
  {
   "attachments": {},
   "cell_type": "markdown",
   "id": "222a0390",
   "metadata": {},
   "source": [
    "# JSSP"
   ]
  },
  {
   "attachments": {},
   "cell_type": "markdown",
   "id": "6a48fe9f",
   "metadata": {},
   "source": [
    "### Imports"
   ]
  },
  {
   "cell_type": "code",
   "execution_count": 87,
   "id": "58dfb4b3",
   "metadata": {},
   "outputs": [],
   "source": [
    "# from dwave.system import DWaveSampler, EmbeddingComposite\n",
    "# import dwave.inspector as inspector\n",
    "import pandas as pd\n",
    "import numpy as np\n",
    "# import cvxpy as cp\n",
    "import time\n",
    "import dimod\n",
    "import matplotlib.pyplot as plt\n",
    "from matplotlib import rc\n",
    "import gurobipy as gp\n",
    "import math"
   ]
  },
  {
   "attachments": {},
   "cell_type": "markdown",
   "id": "79787ac1",
   "metadata": {},
   "source": [
    "### Annealing simulation functions"
   ]
  },
  {
   "cell_type": "code",
   "execution_count": 88,
   "id": "6aa303da",
   "metadata": {},
   "outputs": [],
   "source": [
    "def sendToDwave(qubo, shots=100, beta_range=None):\n",
    "    # Description: functions that solves a particular qubo problem\n",
    "\n",
    "    # INPUT:\n",
    "    # qubo: (matrix) representation of the xt*Q*x problem\n",
    "\n",
    "    # OUTPUT:\n",
    "    # sampleset: array of tuples of the form (solution, energy) of length \"shots\" containing posible (but not neccesarily feasible) solutions\n",
    "    \n",
    "    tic = time.perf_counter() # for time measuring\n",
    "    sampleset = dimod.SimulatedAnnealingSampler().sample_qubo(qubo, num_reads=shots, beta_range=beta_range)\n",
    "    sampleset = sampleset.aggregate() # solo agrega soluciones DIFERENTES.\n",
    "    sampleset = [(sample, energy) for sample, energy in zip(sampleset.record.sample, sampleset.record.energy)]\n",
    "    toc = time.perf_counter() # for time measuring\n",
    "    print(f\"Simulating {shots} instances of annealing took: {(toc-tic)}s\")\n",
    "    # print(\"Sampleset sin filtrar: \", sampleset)\n",
    "    return sampleset\n",
    "\n",
    "def from_sample_to_int(sample):\n",
    "    binary_list = sample[0].tolist()\n",
    "\n",
    "    # Convert the binary list to a string and join the elements\n",
    "    binary_string = ''.join(str(x) for x in binary_list)\n",
    "    # Use the int() function with base 2 to convert the binary string to an integer\n",
    "    result = int(binary_string, 2)\n",
    "    return result\n",
    "\n",
    "def count_elements(sample_list, total_spaces):\n",
    "    frequency_dict = {}\n",
    "    energy_dict = {}\n",
    "    for item in sample_list:\n",
    "        hashable_item = from_sample_to_int(item)\n",
    "        if hashable_item in frequency_dict:\n",
    "            frequency_dict[hashable_item] += 1\n",
    "        else:\n",
    "            energy_dict[hashable_item] = int(item[1])\n",
    "            frequency_dict[hashable_item] = 1\n",
    "    results_list = [bin(item)[2:] for item in frequency_dict]\n",
    "    energies = list(energy_dict.values())\n",
    "    frequencies = list(frequency_dict.values())\n",
    "\n",
    "    new_results = []\n",
    "    for result in results_list:\n",
    "        if len(result) != total_spaces:\n",
    "            ceros_string = '0' * int(total_spaces - len(result))\n",
    "            result = ceros_string + result\n",
    "        new_results.append(result)\n",
    "    result = {'results': new_results, 'energies': energies, 'frequencies': frequencies}\n",
    "    return result\n",
    "\n",
    "def make_histogram(samples_dict):\n",
    "    # Constructing an histogram to represent the solutions\n",
    "\n",
    "    df = pd.DataFrame(samples_dict)\n",
    "    print(df)\n",
    "\n",
    "    # Sample data\n",
    "    data = samples_dict\n",
    "\n",
    "    # Extract the labels and the amounts into separate lists\n",
    "    labels = data['results']\n",
    "    amounts = data['frequencies']\n",
    "    energies = data['energies']\n",
    "\n",
    "    # Create a bar plot\n",
    "    plt.bar(labels, amounts)\n",
    "\n",
    "    for i, count in enumerate(amounts):\n",
    "        plt.text(i, count, str(count), ha='center', va='bottom')\n",
    "\n",
    "    # Add labels and title to the plot\n",
    "    plt.xlabel('Soluciones')\n",
    "    plt.ylabel('Cantidades')\n",
    "    plt.title('Soluciones y cantidad de veces que aparecen')\n",
    "\n",
    "    # Show the plot\n",
    "    plt.show()\n"
   ]
  },
  {
   "cell_type": "code",
   "execution_count": 89,
   "id": "0fdce316",
   "metadata": {},
   "outputs": [],
   "source": [
    "def lowest_energy(sampleset):  # Finds the lowest energy solution\n",
    "    \n",
    "    # Description: given a full sampleset (tuples of the form (solution, energy) finds the lowest energy SAMPLE.\n",
    "    # INPUTS:\n",
    "    # Sampleset: a sampleset of the form list((solution, energy))\n",
    "\n",
    "    # OUTPUTS:\n",
    "    # best: a tuple of the form (solution, energy)\n",
    "\n",
    "    if len(sampleset):\n",
    "        energies = np.array([el[1] for el in sampleset])  # energias\n",
    "        index = np.argmin(energies)  # indice de la de menor energia\n",
    "        ret = sampleset[index]  # solucion de menor energia\n",
    "        return ret\n",
    "\n",
    "    else:\n",
    "        return None"
   ]
  },
  {
   "cell_type": "code",
   "execution_count": 90,
   "id": "87032dda",
   "metadata": {},
   "outputs": [],
   "source": [
    "# def sendToDwaveSampler(qubo, shots=100):\n",
    "#     sampler = DWaveSampler(solver={'topology__type':'pegasus'})\n",
    "#     embedding = EmbeddingComposite(sampler)\n",
    "#     sampleset = embedding.sample_qubo(qubo, num_reads=shots)\n",
    "#     # inspector.show(running)\n",
    "#     # print(running)\n",
    "#     return sampleset"
   ]
  },
  {
   "attachments": {},
   "cell_type": "markdown",
   "id": "c1acafa7",
   "metadata": {},
   "source": [
    "### Auxiliary functions"
   ]
  },
  {
   "cell_type": "code",
   "execution_count": 91,
   "id": "c473ae28",
   "metadata": {},
   "outputs": [],
   "source": [
    "def get_index(v_list, value):\n",
    "    index = 0\n",
    "    for l in v_list:\n",
    "        if l == value:\n",
    "            return index\n",
    "        index += 1\n",
    "    return None\n"
   ]
  },
  {
   "cell_type": "code",
   "execution_count": 92,
   "id": "45ef620d",
   "metadata": {},
   "outputs": [],
   "source": [
    "def get_subindexes(item):\n",
    "    index_list = \"\"\n",
    "    for sub_item in item:\n",
    "        if index_list == \"\":\n",
    "            index_list += str(sub_item)\n",
    "        else:\n",
    "            index_list += \",\"\n",
    "            index_list += str(sub_item)\n",
    "    return index_list"
   ]
  },
  {
   "cell_type": "code",
   "execution_count": 93,
   "id": "e1c52391",
   "metadata": {},
   "outputs": [],
   "source": [
    "def get_variable_index(x, var_name):\n",
    "    try:\n",
    "        arr = x.index(var_name)\n",
    "        return arr\n",
    "    except:\n",
    "        return None"
   ]
  },
  {
   "cell_type": "code",
   "execution_count": 94,
   "id": "a7a3afdd",
   "metadata": {},
   "outputs": [],
   "source": [
    "def add_Q_value(x, q_list, i, j, value):\n",
    "    index_i = get_variable_index(x, i)\n",
    "    index_j = get_variable_index(x, j)\n",
    "    \n",
    "    if index_i is not None and index_j is not None:\n",
    "        q_list.append([index_i, index_j, value])\n"
   ]
  },
  {
   "cell_type": "code",
   "execution_count": 95,
   "id": "8a9ab77e",
   "metadata": {},
   "outputs": [],
   "source": [
    "\n",
    "# list1 = []\n",
    "# x = [\"v1\", \"v2\"]\n",
    "# add_Q_value(x, list1, \"v2\", \"v2\", -10)\n"
   ]
  },
  {
   "cell_type": "code",
   "execution_count": 96,
   "id": "24aed0c3",
   "metadata": {},
   "outputs": [],
   "source": [
    "def update_Q(Q, newQ, p = 1):\n",
    "    for q in newQ:\n",
    "        if q[0] == q[1]:\n",
    "            Q[q[0]][q[0]] += p * q[2]\n",
    "        else:\n",
    "            Q[q[0]][q[1]] += p * q[2]\n",
    "            Q[q[1]][q[0]] += p * q[2]\n",
    "\n"
   ]
  },
  {
   "cell_type": "code",
   "execution_count": 97,
   "id": "a5a70b4d",
   "metadata": {},
   "outputs": [
    {
     "name": "stdout",
     "output_type": "stream",
     "text": [
      "[[0 0]\n",
      " [0 0]]\n",
      "[[-1 -2]\n",
      " [-2  0]]\n"
     ]
    }
   ],
   "source": [
    "\n",
    "Q = np.array([[0,0],[0,0]])\n",
    "print(Q)\n",
    "newQ = [[0, 0, -1], [0, 1, -2]]\n",
    "update_Q(Q,newQ)\n",
    "print(Q)"
   ]
  },
  {
   "cell_type": "code",
   "execution_count": 98,
   "id": "fc79b6a5",
   "metadata": {},
   "outputs": [],
   "source": [
    "def get_Q_value(Q, x, i, j):\n",
    "    index_i = get_variable_index(x, i)\n",
    "    index_j = get_variable_index(x, j)\n",
    "    if index_i is not None and index_j is not None:\n",
    "        return Q[index_i][index_j]\n",
    "    \n",
    "    "
   ]
  },
  {
   "cell_type": "code",
   "execution_count": 99,
   "id": "b87bfb74",
   "metadata": {},
   "outputs": [],
   "source": [
    "def print_Q_item(Q, x, i, j):\n",
    "    # i, j numeric indexes\n",
    "    if i>=0 and i<len(x) and j>=0 and j<len(x):\n",
    "        var_i = x[i]\n",
    "        var_j = x[j]\n",
    "        print(\"{\", var_i, \",\", var_j, \"} =\", Q[i][j])"
   ]
  },
  {
   "cell_type": "code",
   "execution_count": 100,
   "id": "dac8b0a9",
   "metadata": {},
   "outputs": [],
   "source": [
    "def print_Q_nonZero(Q, x):\n",
    "    for i in range(len(Q)):\n",
    "        for j in range(len(Q[i])):\n",
    "            if Q[i][j] != 0:\n",
    "                print_Q_item(Q, x, i, j)\n"
   ]
  },
  {
   "cell_type": "code",
   "execution_count": 101,
   "id": "e55237e8",
   "metadata": {},
   "outputs": [],
   "source": [
    "a = np.matrix([1,2,4,8])\n",
    "\n",
    "\n",
    "a = np.zeros((1,2))\n",
    "a[0][1] = 3\n",
    "q = a.transpose()*a"
   ]
  },
  {
   "cell_type": "code",
   "execution_count": 102,
   "id": "1090946b",
   "metadata": {},
   "outputs": [],
   "source": [
    "def linear_constraint(x, vars, a, b=0):\n",
    "\n",
    "    Q_list = []\n",
    "    if len(vars) != len(a):\n",
    "        print(\"Linear constraint variables error!!!!\")\n",
    "        return Q_list\n",
    "\n",
    "    a_vector = np.array(a)\n",
    "    matrix = np.outer(a_vector, a_vector) - 2*b*np.diag(a_vector)\n",
    "\n",
    "    # print(np.outer(a_vector, a_vector))\n",
    "    # print(- 2*b*np.diag(a_vector))\n",
    "\n",
    "    # print(matrix)\n",
    "    \n",
    "    for i in range(len(matrix)):\n",
    "        for j in range(i, len(matrix[i])):\n",
    "            add_Q_value(x, Q_list, vars[i], vars[j], matrix[i][j])\n",
    "    \n",
    "    return Q_list\n"
   ]
  },
  {
   "cell_type": "code",
   "execution_count": 103,
   "id": "860ecfb7",
   "metadata": {},
   "outputs": [],
   "source": [
    "def print_all_variables(bitvector, x, S_q, L_q, E_q, slack,X, qb_amount):\n",
    "    i = 0\n",
    "    print(len(x))\n",
    "    while i < len(x):\n",
    "        if isinstance(x[i], S_q):\n",
    "            bits = [bitvector[i+j] for j in range(qb_amount)]\n",
    "            var = x[i].s\n",
    "            i+=qb_amount\n",
    "        elif isinstance(x[i], L_q):\n",
    "            bits = [bitvector[i+j] for j in range(qb_amount)]\n",
    "            var = x[i].l\n",
    "            i+=qb_amount\n",
    "        elif isinstance(x[i], E_q):\n",
    "            bits = [bitvector[i+j] for j in range(qb_amount)]\n",
    "            var = x[i].e\n",
    "            i+=qb_amount\n",
    "        elif isinstance(x[i], slack):\n",
    "            slacks = [s for s in x if x[i].same(s)]\n",
    "            bits = [bitvector[x.index(s)] for s in slacks]\n",
    "            var = x[i].full_slack_string()\n",
    "            i+=len(slacks)\n",
    "        elif isinstance(x[i], X):\n",
    "            Xs = [s for s in x if x[i].same(s)]\n",
    "            bits = np.array([bitvector[x.index(s)] for s in Xs])\n",
    "            n = int(np.sqrt(len(Xs)))\n",
    "            bits = bits.reshape((n,n)).transpose()\n",
    "            var = x[i].matrix_name()\n",
    "            print(f\"{var} =\")\n",
    "            print(bits.astype(int))\n",
    "            i+=len(Xs)\n",
    "            continue\n",
    "        else:\n",
    "            print(f\"{x[i]} = {bitvector[i]}\")\n",
    "            i+=1\n",
    "            continue\n",
    "        print(f\"{var} = {np.inner(bits, 2**np.arange(len(bits)))}\")"
   ]
  },
  {
   "attachments": {},
   "cell_type": "markdown",
   "id": "9c4d6828",
   "metadata": {},
   "source": [
    "## (1) Constants and Definitions\n"
   ]
  },
  {
   "attachments": {},
   "cell_type": "markdown",
   "id": "23d542d8",
   "metadata": {},
   "source": [
    "\n",
    "### 1.1) Time slots\n",
    "\n",
    "T_slots = {1,2,3,... 16} (4 bits: 4qb)"
   ]
  },
  {
   "cell_type": "code",
   "execution_count": 104,
   "id": "8b91a6da",
   "metadata": {},
   "outputs": [],
   "source": [
    "qb_amount = 4"
   ]
  },
  {
   "attachments": {},
   "cell_type": "markdown",
   "id": "3ecf251d",
   "metadata": {},
   "source": [
    "### 1.2) Products\n",
    "P = {B1, B2, LAM1, LAM2}\n",
    "              = {0,   1,    2,    3}"
   ]
  },
  {
   "cell_type": "code",
   "execution_count": 105,
   "id": "47970e73",
   "metadata": {},
   "outputs": [],
   "source": [
    "class Product:\n",
    "    def __init__(self, name:str) -> None:\n",
    "        self.name = name\n",
    "    \n",
    "    def __str__(self) -> str:\n",
    "        return self.name\n",
    "    \n",
    "    def __eq__(self, __value: object) -> bool:\n",
    "        return type(__value) == type(self) and self.name == __value.name\n",
    "\n",
    "P = [Product(\"B1\"), Product(\"B2\"), Product(\"LAM1\"), Product(\"LAM2\")]"
   ]
  },
  {
   "attachments": {},
   "cell_type": "markdown",
   "id": "0a698665",
   "metadata": {},
   "source": [
    "### 1.3) Jobs\n",
    "J = {JB1, JB2}"
   ]
  },
  {
   "cell_type": "code",
   "execution_count": 106,
   "id": "e7bf7cb4",
   "metadata": {},
   "outputs": [],
   "source": [
    "class Job:\n",
    "    def __init__(self, name:str, final_product: Product = None, amount: int=None, deadline: int=None) -> None:\n",
    "        self.name = name\n",
    "        self.final_product = final_product\n",
    "        self.final_operations = []\n",
    "        self.amount = amount\n",
    "        self.deadline = deadline\n",
    "\n",
    "    def __str__(self) -> str:\n",
    "        return self.name\n",
    "    \n",
    "    def __eq__(self, __value: object) -> bool:\n",
    "        return type(__value) == type(self) and self.name == __value.name\n",
    "\n",
    "\n",
    "J = [Job(\"JB1\"), Job(\"JB2\")]\n",
    "\n"
   ]
  },
  {
   "attachments": {},
   "cell_type": "markdown",
   "id": "056c122f",
   "metadata": {},
   "source": [
    "### 1.4) successors:\n",
    "      LAM1 -> B1 ---- P2 -> P0\n",
    "      LAM2 -> B1 ----   P3 -> P0\n",
    "      LAM1 -> B2 ----   P2 -> P1"
   ]
  },
  {
   "cell_type": "code",
   "execution_count": 107,
   "id": "35345e8f",
   "metadata": {},
   "outputs": [],
   "source": [
    "successors = [[P[2], P[0]], [P[3], P[0]], [P[2], P[1]]]"
   ]
  },
  {
   "attachments": {},
   "cell_type": "markdown",
   "id": "06163f34",
   "metadata": {},
   "source": [
    "### 1.5) amounts:\n",
    "      a_JB1 = 4\n",
    "      a_JB2 = 2"
   ]
  },
  {
   "cell_type": "code",
   "execution_count": 108,
   "id": "b8f7b69d",
   "metadata": {},
   "outputs": [],
   "source": [
    "J[0].amount = 4\n",
    "J[1].amount = 2"
   ]
  },
  {
   "attachments": {},
   "cell_type": "markdown",
   "id": "74bfa881",
   "metadata": {},
   "source": [
    "### 1.6) final product of job:\n",
    "      JB1 : B1\n",
    "      JB2 : B2"
   ]
  },
  {
   "cell_type": "code",
   "execution_count": 109,
   "id": "3f244aa0",
   "metadata": {},
   "outputs": [],
   "source": [
    "for j in J:\n",
    "    j.final_product = P[J.index(j)]\n"
   ]
  },
  {
   "attachments": {},
   "cell_type": "markdown",
   "id": "97de0742",
   "metadata": {},
   "source": [
    "### 1.7) deadline:\n",
    "      D_JB1 = 10\n",
    "      D_JB2 = 11"
   ]
  },
  {
   "cell_type": "code",
   "execution_count": 110,
   "id": "84e87111",
   "metadata": {},
   "outputs": [],
   "source": [
    "J[0].deadline = 10\n",
    "J[1].deadline = 11"
   ]
  },
  {
   "attachments": {},
   "cell_type": "markdown",
   "id": "288f9e7d",
   "metadata": {},
   "source": [
    "### 1.8) Machines\n",
    "M = {M1, M2, M3}"
   ]
  },
  {
   "cell_type": "code",
   "execution_count": 111,
   "id": "8971019b",
   "metadata": {},
   "outputs": [],
   "source": [
    "class Machine:\n",
    "    def __init__(self, name:str) -> None:\n",
    "        self.name = name\n",
    "    \n",
    "    def __str__(self) -> str:\n",
    "        return self.name\n",
    "    \n",
    "    def __eq__(self, __value: object) -> bool:\n",
    "        return type(__value) == type(self) and self.name == __value.name\n",
    "\n",
    "M = [Machine(\"M1\"), Machine(\"M2\"), Machine(\"M3\")]"
   ]
  },
  {
   "attachments": {},
   "cell_type": "markdown",
   "id": "766d465a",
   "metadata": {},
   "source": [
    "#### 1.8.1) speeds = 1 for each machine\n",
    "\n",
    "#### 1.8.2) production machines:\n",
    "\n",
    "        LAM1, LAM2 -> M1\n",
    "        B1, B2 -> M2\n",
    "        B1 -> M3\n",
    "\n",
    "### 1.9) Operations\n",
    "\n",
    "      {O_jpms : j=job, i=product, m=machine, s=splitting}\n",
    "\n",
    "      O_(JB1,LAM1,M1,1)     ->   O_(J0,P2,M0,1) -> O[0]\n",
    "      O_(JB1,LAM1,M1,2)     ->   O_(J0,P2,M0,2) -> O[1]\n",
    "      O_(JB1,LAM2,M1,1)     ->   O_(J0,P3,M0,1) -> O[2]\n",
    "      O_(JB1,LAM2,M1,2)     ->   O_(J0,P3,M0,2) -> O[3]\n",
    "      O_(JB1,B1,M2,1)       ->   O_(J0,P0,M1,1) -> O[4]\n",
    "      O_(JB1,B1,M3,1)       ->   O_(J0,P0,M2,1) -> O[5]\n",
    "      O_(JB2,LAM1,M1,1)     ->   O_(J1,P2,M0,1) -> O[6]\n",
    "      O_(JB2,B2,M2,1)       ->   O_(J1,P1,M1,1) -> O[7]"
   ]
  },
  {
   "cell_type": "code",
   "execution_count": 112,
   "id": "3ef551a0",
   "metadata": {},
   "outputs": [],
   "source": [
    "class Operation:\n",
    "    def __init__(self, job: Job, product: Product, machine: Machine, splitting: int=None) -> None:\n",
    "        self.job = job\n",
    "        self.product = product\n",
    "        self.machine = machine\n",
    "        self.splitting = splitting\n",
    "\n",
    "    def __str__(self) -> str:\n",
    "        if self.splitting is not None:\n",
    "            return f\"{self.job},{self.product},{self.machine},{self.splitting}\"\n",
    "        else:\n",
    "            return f\"{self.job},{self.product},{self.machine}\"\n",
    "        \n",
    "    def to_x_index(self) -> str:\n",
    "        if self.splitting is not None:\n",
    "            return f\"{self.job},{self.product},{self.splitting}\"\n",
    "        else:\n",
    "            return f\"{self.job},{self.product}\"\n",
    "        \n",
    "    def __eq__(self, __value: object) -> bool:\n",
    "        return type(__value) == type(self) and self.job == __value.job and self.product == __value.product and \\\n",
    "            self.machine == __value.machine and (self.splitting is None or self.splitting == __value.splitting)"
   ]
  },
  {
   "cell_type": "code",
   "execution_count": 113,
   "id": "a1534819",
   "metadata": {},
   "outputs": [],
   "source": [
    "O = [ Operation(J[0], P[2], M[0], 1),\n",
    "     Operation(J[0], P[2], M[0], 2), \n",
    "     Operation(J[0], P[3], M[0], 1),\n",
    "     Operation(J[0], P[3], M[0], 2),\n",
    "     Operation(J[0], P[0], M[1]),      #omit splitting when not needed\n",
    "     Operation(J[0], P[0], M[2]),\n",
    "     Operation(J[1], P[2], M[0]),\n",
    "     Operation(J[1], P[1], M[1])\n",
    "     ]"
   ]
  },
  {
   "cell_type": "code",
   "execution_count": 114,
   "id": "fe63ce2c",
   "metadata": {},
   "outputs": [],
   "source": [
    "# final operations by job\n",
    "\n",
    "for o in O:\n",
    "    for j in J:\n",
    "        if o.job == j and o.product == j.final_product:\n",
    "            j.final_operations.append(o)\n"
   ]
  },
  {
   "attachments": {},
   "cell_type": "markdown",
   "id": "80625151",
   "metadata": {},
   "source": [
    "### 1.10) Operations by Machine m:\n",
    "\n",
    "        OM_m' = {O_jpms : m=m'}\n",
    "        o_m = #(OM_m)\n",
    "\n",
    "      M1: {\n",
    "            O_(JB1,LAM1,M1,1);\n",
    "            O_(JB1,LAM1,M1,2)\n",
    "            O_(JB1,LAM2,M1,1)\n",
    "            O_(JB1,LAM2,M1,2)\n",
    "            O_(JB2,LAM1,M1,1)\n",
    "      }\n",
    "      o_M1 = 5\n",
    "\n",
    "      M2: {\n",
    "          O_(JB1,B1,M2,1);\n",
    "          O_(JB2,B2,M2,1)\n",
    "      }\n",
    "      o_M2 = 2\n",
    "\n",
    "      M3: { O_(JB1,B1,M3,1) }\n",
    "      o_M3 = 1\n"
   ]
  },
  {
   "cell_type": "code",
   "execution_count": 115,
   "id": "2ff3d534",
   "metadata": {},
   "outputs": [],
   "source": [
    "OM = []\n",
    "for m in M:\n",
    "     count = 0\n",
    "     op_list = []\n",
    "     for o in O:\n",
    "          if o.machine == m:\n",
    "               op_list.append(o)\n",
    "     OM.append(op_list)\n",
    "\n"
   ]
  },
  {
   "attachments": {},
   "cell_type": "markdown",
   "id": "59227a15",
   "metadata": {},
   "source": [
    "1.11) (jps), [jpms] : lexicographic order\n",
    "\n",
    "### 1.12) Transition Cost : TC^m_(i,i')"
   ]
  },
  {
   "cell_type": "code",
   "execution_count": 116,
   "id": "274446d7",
   "metadata": {},
   "outputs": [],
   "source": [
    "TC1 = [\n",
    "     [0,       1500,\t0,\t1500,\t0],\n",
    "     [200,\t0,\t     200,\t0,\t     200],\n",
    "     [0,\t     1500,\t0,\t1500,\t0],\n",
    "     [200,\t0,\t     200, 0,\t     200],\n",
    "     [0,\t     1500,\t0,\t1500,\t0]\n",
    "]\n",
    "TC2 = [\n",
    "     [0, 200],\n",
    "     [200, 0]\n",
    "]\n",
    "TC3 = [[0]]\n",
    "\n",
    "TC = [TC1, TC2, TC3]"
   ]
  },
  {
   "attachments": {},
   "cell_type": "markdown",
   "id": "b9a62e22",
   "metadata": {},
   "source": [
    "### 1.13) Transition Time : TT^m_(p,p')"
   ]
  },
  {
   "cell_type": "code",
   "execution_count": 117,
   "id": "3d4ed36d",
   "metadata": {},
   "outputs": [],
   "source": [
    "TT1 = [\n",
    "     [0,\t1,\t0,\t1,\t0],\n",
    "     [0,\t0,\t0,\t0,\t0],\n",
    "     [0,\t1,\t0,\t1,\t0],\n",
    "     [0,\t0,\t0,\t0,\t0],\n",
    "     [0,\t1,\t0,\t1,\t0]\n",
    "]\n",
    "TT2 = [\n",
    "     [0, 1],\n",
    "     [2, 0]\n",
    "]\n",
    "TT3 = [[0]]\n",
    "\n",
    "TT = [TT1, TT2, TT3]"
   ]
  },
  {
   "attachments": {},
   "cell_type": "markdown",
   "id": "462fd2fc",
   "metadata": {},
   "source": [
    "### 1.14) Realizations\n",
    "\n",
    "      A_JB1,1     = {O_(JB1,LAM1,M1,1); O_(JB1,LAM2,M1,1); O_(JB1,B1,M2,1)}\n",
    "                  = [O[0], O[2], O[4]]\n",
    "      A_JB1,2 = {O_(JB1,LAM1,M1,2); O_(JB1,LAM2,M1,2); O_(JB1,B1,M3,1)}\n",
    "                  = [O[1], O[3], O[5]]\n",
    "      A_JB2,1 = {O_(JB2,LAM1,M1,1); O_(JB2,B2,M2,1)}\n",
    "                  = [O[6], O[7]]\n",
    "\n",
    "      O_(JB1,LAM1,M1,1)     ~   O_(J0,P2,M0,1) ~ O[0]\n",
    "      O_(JB1,LAM1,M1,2)     ~   O_(J0,P2,M0,2) ~ O[1]\n",
    "      O_(JB1,LAM2,M1,1)     ~   O_(J0,P3,M0,1) ~ O[2]\n",
    "      O_(JB1,LAM2,M1,2)     ~   O_(J0,P3,M0,2) ~ O[3]\n",
    "      O_(JB1,B1,M2,1)       ~   O_(J0,P0,M1,1) ~ O[4]\n",
    "      O_(JB1,B1,M3,1)       ~   O_(J0,P0,M2,1) ~ O[5]\n",
    "      O_(JB2,LAM1,M1,1)     ~   O_(J1,P2,M0,1) ~ O[6]\n",
    "      O_(JB2,B2,M2,1)       ~   O_(J1,P1,M1,1) ~ O[7]\n"
   ]
  },
  {
   "cell_type": "code",
   "execution_count": 118,
   "id": "5341fa88",
   "metadata": {},
   "outputs": [],
   "source": [
    "A = [\n",
    "     [O[0], O[2], O[4]],\n",
    "     [O[1], O[3], O[5]],\n",
    "     [O[6], O[7]]\n",
    "]"
   ]
  },
  {
   "attachments": {},
   "cell_type": "markdown",
   "id": "3dbfffc6",
   "metadata": {},
   "source": [
    "1.14.1) Precedences (operations)\n",
    "\n",
    "      A_JB1,1:\n",
    "          O_(JB1,LAM1,M1,1) -> O_(JB1,B1,M2,1)\n",
    "          O_(JB1,LAM2,M1,1) -> O_(JB1,B1,M2,1)\n",
    "      A_JB1,2:\n",
    "          O_(JB1,LAM1,M1,2) -> O_(JB1,B1,M3,1)\n",
    "          O_(JB1,LAM2,M1,2) -> O_(JB1,B1,M3,1)\n",
    "      A_JB2,1:\n",
    "          O_(JB2,LAM1,M1,1) -> O_(JB2,B2,M2,1)"
   ]
  },
  {
   "cell_type": "code",
   "execution_count": 119,
   "id": "3ede19a6",
   "metadata": {},
   "outputs": [],
   "source": [
    "prec = [\n",
    "          [O[0], O[4]],\n",
    "          [O[2], O[4]],\n",
    "          [O[1], O[5]],\n",
    "          [O[3], O[5]],\n",
    "          [O[6], O[7]],\n",
    "]"
   ]
  },
  {
   "attachments": {},
   "cell_type": "markdown",
   "id": "c4793a6d",
   "metadata": {},
   "source": [
    "### 1.15) Costs K\n",
    "\n",
    "1.15.1) K1 = 500 (K0) for both jobs\n",
    "\n",
    "1.15.2) K2 = 100 (K1) for both jobs\n",
    "\n",
    "1.15.3) K3 = 1200 (K2) for all machines\n",
    "\n",
    "1.15.4) K4 = 50 (K3) for all machines"
   ]
  },
  {
   "cell_type": "code",
   "execution_count": 120,
   "id": "19b06517",
   "metadata": {},
   "outputs": [],
   "source": [
    "K1 = 500\n",
    "K2 = 100\n",
    "K3 = 1200\n",
    "K4 = 50"
   ]
  },
  {
   "cell_type": "code",
   "execution_count": 121,
   "id": "599060ab",
   "metadata": {},
   "outputs": [
    {
     "name": "stdout",
     "output_type": "stream",
     "text": [
      "None\n"
     ]
    }
   ],
   "source": [
    "index_of_JB1 = get_index(J,\"JB2\") # ejemplo para obtener el indice de una variable\n",
    "print(index_of_JB1)"
   ]
  },
  {
   "attachments": {},
   "cell_type": "markdown",
   "id": "7087b28c",
   "metadata": {},
   "source": [
    "## (2) Variables"
   ]
  },
  {
   "attachments": {},
   "cell_type": "markdown",
   "id": "b29e64c5",
   "metadata": {},
   "source": [
    "### Variable Classes"
   ]
  },
  {
   "cell_type": "code",
   "execution_count": 122,
   "id": "aadf5c04",
   "metadata": {},
   "outputs": [],
   "source": [
    "#Start Time\n",
    "class S:\n",
    "    def __init__(self, operation: Operation)->None:\n",
    "        self.operation = operation\n",
    "\n",
    "    def __str__(self) -> str:\n",
    "        return f\"S{{{self.operation}}}\"\n",
    "    \n",
    "    def __eq__(self, __value: object) -> bool:\n",
    "        return type(__value) == type(self) and self.operation == __value.operation\n",
    "    \n",
    "#Start Time qbits\n",
    "class S_q:\n",
    "    def __init__(self, s:S, qbit: int) -> None:\n",
    "        self.s = s\n",
    "        self.qbit = qbit\n",
    "    \n",
    "    def __str__(self) -> str:\n",
    "        return f\"{self.s}_{self.qbit}\"\n",
    "\n",
    "    def __eq__(self, __value: object) -> bool:\n",
    "        return type(__value) == type(self) and self.s == __value.s and self.qbit == __value.qbit\n",
    "    \n",
    "#Time Interval\n",
    "class L:\n",
    "    def __init__(self, operation:Operation)->None:\n",
    "        self.operation = operation\n",
    "\n",
    "    def __str__(self) -> str:\n",
    "        return f\"L{{{self.operation}}}\"\n",
    "    \n",
    "    def __eq__(self, __value: object) -> bool:\n",
    "        return type(__value) == type(self) and self.operation == __value.operation\n",
    "    \n",
    "#Time Interval qbits\n",
    "class L_q:\n",
    "    def __init__(self, l:L, qbit: int) -> None:\n",
    "        self.l = l\n",
    "        self.qbit = qbit\n",
    "    \n",
    "    def __str__(self) -> str:\n",
    "        return f\"{self.l}_{self.qbit}\"\n",
    "\n",
    "    def __eq__(self, __value: object) -> bool:\n",
    "        return type(__value) == type(self) and self.l == __value.l and self.qbit == __value.qbit\n",
    "    \n",
    "#Job Finish Time\n",
    "class E:\n",
    "    def __init__(self, job: Job) -> None:\n",
    "        self.job = job\n",
    "    \n",
    "    def __str__(self) -> str:\n",
    "        return f\"E{{{self.job}}}\"\n",
    "\n",
    "    def __eq__(self, __value: object) -> bool:\n",
    "        return type(__value) == type(self) and self.job == __value.job\n",
    "    \n",
    "#Job Finish Time qbits\n",
    "class E_q:\n",
    "    def __init__(self, e:E, qbit: int) -> None:\n",
    "        self.e = e\n",
    "        self.qbit = qbit\n",
    "    \n",
    "    def __str__(self) -> str:\n",
    "        return f\"{self.e}_{self.qbit}\"\n",
    "\n",
    "    def __eq__(self, __value: object) -> bool:\n",
    "        return type(__value) == type(self) and self.e == __value.e and self.qbit == __value.qbit\n",
    "\n",
    "#on time\n",
    "class d:\n",
    "    def __init__(self, job: Job) -> None:\n",
    "        self.job = job\n",
    "\n",
    "    def __str__(self) -> str:\n",
    "        return f\"d{{{self.job}}}\"\n",
    "\n",
    "    def __eq__(self, __value: object) -> bool:\n",
    "        return type(__value) == type(self) and self.job == __value.job\n",
    "    \n",
    "\n",
    "#Operation Not Done\n",
    "class bz:\n",
    "    def __init__(self, l:L)->None:\n",
    "        self.l = l\n",
    "\n",
    "    def __str__(self) -> str:\n",
    "        return f\"bz{{{self.l}}}\"\n",
    "    \n",
    "    def __eq__(self, __value: object) -> bool:\n",
    "        return type(__value) == type(self) and self.l == __value.l\n",
    "\n",
    "#X Matrix Elements\n",
    "class X:\n",
    "    def __init__(self, operation:Operation, k: int)->None:\n",
    "        self.operation = operation\n",
    "        self.k = k\n",
    "\n",
    "    def __str__(self) -> str:\n",
    "        return f\"X^{self.operation.machine}({{{self.operation.to_x_index()}}}, {self.k})\"\n",
    "    \n",
    "    def __eq__(self, __value: object) -> bool:\n",
    "        return type(__value) == type(self) and self.operation == __value.operation and self.k == __value.k\n",
    "    \n",
    "    def same(self, __value: object) -> bool:\n",
    "        return type(__value) == type(self) and self.operation.machine == __value.operation.machine\n",
    "    \n",
    "    def matrix_name(self) -> str:\n",
    "        return f\"X^{self.operation.machine}\"\n",
    "    \n",
    "#Null column indicator on X^m\n",
    "class u:\n",
    "    def __init__(self, machine: Machine, k : int) -> None:\n",
    "        self.machine = machine\n",
    "        self.k = k\n",
    "    \n",
    "    def __str__(self) -> str:\n",
    "        return f\"u_{{{','.join((str(self.machine), str(self.k)))}}}\"\n",
    "\n",
    "    def __eq__(self, __value: object) -> bool:\n",
    "        return type(__value) == type(self) and self.machine == __value.machine and self.k == __value.k\n",
    "    \n",
    "#Auxiliary variable for quadratic interactions between X and L o S (name: y if S, z if L)\n",
    "class AuxQuadXLS:\n",
    "    def __init__(self,operation:Operation, k: int, qbit:int, name:str)->None:\n",
    "        self.operation = operation\n",
    "        self.k = k\n",
    "        self.qbit = qbit\n",
    "        self.name = name\n",
    "\n",
    "    def __str__(self) -> str:\n",
    "        return f\"{self.name}^{self.operation.machine}({{{self.operation.to_x_index()}}}, {self.k})_{self.qbit}\"\n",
    "    \n",
    "    def __eq__(self, __value: object) -> bool:\n",
    "        return type(__value) == type(self) and self.operation == __value.operation and self.k == __value.k\\\n",
    "            and self.name ==__value.name and self.qbit == __value.qbit\n",
    "    \n",
    "#Auxiliary variable for quadratic interactions between X'S\n",
    "class AuxQuadXs:\n",
    "    def __init__(self, operation1:Operation, operation2:Operation, k:int)->None:\n",
    "        self.operation1 = operation1\n",
    "        self.operation2 = operation2\n",
    "        self.k = k\n",
    "\n",
    "    def __str__(self) -> str:\n",
    "        return f\"w^{self.operation1.machine}({','.join((self.operation1.to_x_index(), self.operation2.to_x_index(), str(self.k)))})\"\n",
    "    \n",
    "    def __eq__(self, __value: object) -> bool:\n",
    "        return type(__value) == type(self) and self.operation1 == __value.operation1 and \\\n",
    "            self.operation2 == __value.operation2\n",
    "    \n",
    "class slack:\n",
    "    def __init__(self, constraint: str, id: any, qbit:int) -> None:\n",
    "        self.constraint = constraint\n",
    "        self.id = id\n",
    "        self.qbit = qbit\n",
    "\n",
    "    def __str__(self) -> str:\n",
    "        return f\"slack_{self.constraint}_{self.id}_{self.qbit}\"\n",
    "    \n",
    "    def __eq__(self, __value: object) -> bool:\n",
    "        return type(__value) == type(self) and self.constraint == __value.constraint \\\n",
    "            and self.id == __value.id and self.qbit == __value.qbit\n",
    "    \n",
    "    def same(self, __value: object) -> bool:\n",
    "        return type(__value) == type(self) and self.constraint == __value.constraint \\\n",
    "            and self.id == __value.id\n",
    "\n",
    "    def full_slack_string(self) -> str:\n",
    "        return f\"slack_{self.constraint}_{self.id}\""
   ]
  },
  {
   "cell_type": "code",
   "execution_count": 123,
   "id": "a55ff587",
   "metadata": {},
   "outputs": [],
   "source": [
    "x = []  # all variables vector"
   ]
  },
  {
   "attachments": {},
   "cell_type": "markdown",
   "id": "c35cbe18",
   "metadata": {},
   "source": [
    "### 2.1) Start Time: S_jpms (4qb)"
   ]
  },
  {
   "cell_type": "code",
   "execution_count": 124,
   "id": "a3e6c951",
   "metadata": {},
   "outputs": [],
   "source": [
    "S_list = []\n",
    "for o in O:\n",
    "    S_list.append(S(o))"
   ]
  },
  {
   "attachments": {},
   "cell_type": "markdown",
   "id": "0c05c391",
   "metadata": {},
   "source": [
    "2.1.1) qubit digits:\n",
    "\n",
    "    {S_jpms}_q (binary variable) for each q = 0,1,2,3\n",
    "    S_jpms = sum_q ( 2^q * {S_jpms}_q )"
   ]
  },
  {
   "cell_type": "code",
   "execution_count": 125,
   "id": "fef6e9d0",
   "metadata": {},
   "outputs": [],
   "source": [
    "S_q_list = []\n",
    "for s in S_list:\n",
    "    for q in range(qb_amount):\n",
    "        S_q_list.append(S_q(s,q))\n",
    "\n",
    "x.extend(S_q_list)"
   ]
  },
  {
   "attachments": {},
   "cell_type": "markdown",
   "id": "93f7ac7c",
   "metadata": {},
   "source": [
    "### 2.2) Time Interval: L_jpms (4qb)"
   ]
  },
  {
   "cell_type": "code",
   "execution_count": 126,
   "id": "a94eca95",
   "metadata": {},
   "outputs": [],
   "source": [
    "L_list = []\n",
    "for o in O:\n",
    "    L_list.append(L(o))"
   ]
  },
  {
   "attachments": {},
   "cell_type": "markdown",
   "id": "1b1eb973",
   "metadata": {},
   "source": [
    "2.2.1) qubit digits:\n",
    "\n",
    "    {L_jpms}_q (binary variable) for each q = 0,1,2,3\n",
    "    L_jpms = sum_q ( 2^q * {L_jpms}_q )"
   ]
  },
  {
   "cell_type": "code",
   "execution_count": 127,
   "id": "2b8ece19",
   "metadata": {},
   "outputs": [],
   "source": [
    "L_q_list = []\n",
    "for l in L_list:\n",
    "    for q in range(qb_amount):\n",
    "        L_q_list.append(L_q(l, q))\n",
    "\n",
    "x.extend(L_q_list)"
   ]
  },
  {
   "attachments": {},
   "cell_type": "markdown",
   "id": "c8c3166d",
   "metadata": {},
   "source": [
    "### 2.3) Job finish time / Dummy operation start time:\n",
    "\n",
    "    E_j (4qb)"
   ]
  },
  {
   "cell_type": "code",
   "execution_count": 128,
   "id": "2594af45",
   "metadata": {},
   "outputs": [],
   "source": [
    "E_list = []\n",
    "for j in J:\n",
    "    E_list.append(E(j))"
   ]
  },
  {
   "attachments": {},
   "cell_type": "markdown",
   "id": "cdbff535",
   "metadata": {},
   "source": [
    "2.3.1) qubit digits:\n",
    "\n",
    "    {E_j}_q (binary variable) for each q = 0,1,2,3\n",
    "      E_JB1 = sum_q ( 2^q * {E_JB1}_q )\n",
    "      E_JB2 = S_(JB2,B2,M2,1) + L_(JB2,B2,M2,1)   ((((DEFINED BY OTHER VARIABLES))))\n"
   ]
  },
  {
   "cell_type": "code",
   "execution_count": 129,
   "id": "803225bd",
   "metadata": {},
   "outputs": [],
   "source": [
    "E_q_list = []\n",
    "for e in E_list:\n",
    "    for q in range(qb_amount):\n",
    "        E_q_list.append(E_q(e,q))\n",
    "\n",
    "x.extend(E_q_list)"
   ]
  },
  {
   "attachments": {},
   "cell_type": "markdown",
   "id": "8735a62a",
   "metadata": {},
   "source": [
    "### 2.4) Job excess time:\n",
    "\n",
    "      delta_j^max = E_j - D_j    ((((Not needed, replaceable by E_j -  D_j ))))"
   ]
  },
  {
   "attachments": {},
   "cell_type": "markdown",
   "id": "932576a8",
   "metadata": {},
   "source": [
    "### 2.5) \"On time\" binary variable:\n",
    "\n",
    "      d_j = ( E_j <= D_j )"
   ]
  },
  {
   "cell_type": "code",
   "execution_count": 130,
   "id": "e2ce74e3",
   "metadata": {},
   "outputs": [],
   "source": [
    "d_list = []\n",
    "for j in J:\n",
    "    d_list.append(d(j))\n",
    "\n",
    "x.extend(d_list)"
   ]
  },
  {
   "attachments": {},
   "cell_type": "markdown",
   "id": "886099de",
   "metadata": {},
   "source": [
    "### 2.6) Operation not done / discarded / null operation:\n",
    "\n",
    "      bz_jpms = (\"O_jpms discarded\") = (L_jpms == 0)"
   ]
  },
  {
   "cell_type": "code",
   "execution_count": 131,
   "id": "e2cdc271",
   "metadata": {},
   "outputs": [],
   "source": [
    "bz_list = []\n",
    "for l in L_list:\n",
    "    bz_list.append(bz(l))\n",
    "    \n",
    "x.extend(bz_list)"
   ]
  },
  {
   "attachments": {},
   "cell_type": "markdown",
   "id": "b1df7418",
   "metadata": {},
   "source": [
    "### 2.7) Null operations amount in machine m:\n",
    "\n",
    "      ntz_m = sum_jps( bz_jpms )      (((always replaceable by the sum)))\n",
    "\n",
    "### 2.8) The X matrix: X^m, for each machine m\n",
    "\n",
    "      X^m_(jpms, k) = (\"O_jpms is done in k-th place in machine m\")\n",
    "      X^M1, 5x5       \n",
    "      X^M2, 2x2\n",
    "      X^M3, 1x1\n",
    "      (((( X^m_(jpms, k) = 0 if k > o_m - ntz_m ))))"
   ]
  },
  {
   "cell_type": "code",
   "execution_count": 132,
   "id": "824eaf42",
   "metadata": {},
   "outputs": [],
   "source": [
    "X_list = []\n",
    "\n",
    "for m in M:\n",
    "    for k in range(len(OM[M.index(m)])):\n",
    "        for o in OM[M.index(m)]:\n",
    "            X_list.append(X(o, k+1))\n",
    "\n",
    "\n",
    "x.extend(X_list)"
   ]
  },
  {
   "attachments": {},
   "cell_type": "markdown",
   "id": "ef38aef8",
   "metadata": {},
   "source": [
    "### 2.9) Null column indicator in X^m matrix\n",
    "\n",
    "      u_mk = ( k <= o_m - ntz_m)"
   ]
  },
  {
   "cell_type": "code",
   "execution_count": 133,
   "id": "8cc73d52",
   "metadata": {},
   "outputs": [],
   "source": [
    "u_list = []\n",
    "m_index = 0\n",
    "for m in M:\n",
    "    for k in range(len(OM[m_index])):\n",
    "        u_list.append(u(m, k+1))\n",
    "    m_index += 1\n",
    "\n",
    "x.extend(u_list)"
   ]
  },
  {
   "attachments": {},
   "cell_type": "markdown",
   "id": "10a75154",
   "metadata": {},
   "source": [
    "### 2.10) Auxiliary variables for quadratic constraints\n",
    "\n",
    "(*) i and j represents a set of indexes (j,p,m,s) of an operation\n",
    "\n",
    "2.10.1)\n",
    "\n",
    "    y^m_ikq = X^m_(i,k) * {S_i}_q\n",
    "\n",
    "2.10.2)\n",
    "\n",
    "    z^m_ikq = X^m_(i,k) * {L_i}_q"
   ]
  },
  {
   "cell_type": "code",
   "execution_count": 134,
   "id": "3e1372c0",
   "metadata": {},
   "outputs": [],
   "source": [
    "y = []\n",
    "z = []\n",
    "\n",
    "m_index = 0\n",
    "for m in M:\n",
    "    for o in OM[m_index]:\n",
    "        for k in range(len(OM[m_index])):\n",
    "            for q in range(qb_amount):\n",
    "                y.append(AuxQuadXLS(o,k+1,q,\"y\"))\n",
    "                z.append(AuxQuadXLS(o,k+1,q,\"z\"))\n",
    "    m_index += 1\n",
    "\n",
    "# x.extend(y)\n",
    "# x.extend(z)"
   ]
  },
  {
   "attachments": {},
   "cell_type": "markdown",
   "id": "497f212b",
   "metadata": {},
   "source": [
    "2.10.3)\n",
    "\n",
    "    w^m_ijk = X^m_(i,k) * X^m_(j,k+1)"
   ]
  },
  {
   "cell_type": "code",
   "execution_count": 135,
   "id": "f520b7d8",
   "metadata": {},
   "outputs": [],
   "source": [
    "w = []\n",
    "\n",
    "m_index = 0\n",
    "for m in M:\n",
    "    for o1 in OM[m_index]:\n",
    "        for o2 in OM[m_index]:\n",
    "            if len(OM[m_index])>1 and o1 != o2:\n",
    "                for k in range(len(OM[m_index])):\n",
    "                    w.append(AuxQuadXs(o1, o2, k+1))\n",
    "    m_index += 1\n",
    "\n",
    "# x.extend(w)\n"
   ]
  },
  {
   "attachments": {},
   "cell_type": "markdown",
   "id": "89448ee3",
   "metadata": {},
   "source": [
    "\n",
    "### 2.11) Slack variables"
   ]
  },
  {
   "cell_type": "code",
   "execution_count": 136,
   "id": "3aff514c",
   "metadata": {},
   "outputs": [],
   "source": [
    "for l_q in L_q_list:\n",
    "    x.append(slack(\"2\", l_q.l, l_q.qbit))\n",
    "\n",
    "for e in E_list:\n",
    "    for q in range(qb_amount):\n",
    "        x.append(slack(\"3\", e, q))\n",
    "\n",
    "for u_mk in u_list:\n",
    "    m_op_list = OM[M.index(u_mk.machine)]\n",
    "    n = math.ceil(math.log2(max(u_mk.k, len(m_op_list) - u_mk.k + 1)))\n",
    "    for q in range(n):\n",
    "        x.append(slack(\"6\", u_mk, q))\n",
    "\n",
    "for p in prec:\n",
    "    for q in range(qb_amount):\n",
    "        x.append(slack(\"7_1\", p[0], q))\n",
    "\n",
    "for j in J:\n",
    "    for of in j.final_operations:\n",
    "        for q in range(qb_amount):\n",
    "            x.append(slack(\"7_1_1\", of, q))\n"
   ]
  },
  {
   "cell_type": "code",
   "execution_count": 137,
   "id": "2e75b03d",
   "metadata": {},
   "outputs": [
    {
     "name": "stdout",
     "output_type": "stream",
     "text": [
      "['S{JB1,LAM1,M1,1}_0', 'S{JB1,LAM1,M1,1}_1', 'S{JB1,LAM1,M1,1}_2', 'S{JB1,LAM1,M1,1}_3', 'S{JB1,LAM1,M1,2}_0', 'S{JB1,LAM1,M1,2}_1', 'S{JB1,LAM1,M1,2}_2', 'S{JB1,LAM1,M1,2}_3', 'S{JB1,LAM2,M1,1}_0', 'S{JB1,LAM2,M1,1}_1', 'S{JB1,LAM2,M1,1}_2', 'S{JB1,LAM2,M1,1}_3', 'S{JB1,LAM2,M1,2}_0', 'S{JB1,LAM2,M1,2}_1', 'S{JB1,LAM2,M1,2}_2', 'S{JB1,LAM2,M1,2}_3', 'S{JB1,B1,M2}_0', 'S{JB1,B1,M2}_1', 'S{JB1,B1,M2}_2', 'S{JB1,B1,M2}_3', 'S{JB1,B1,M3}_0', 'S{JB1,B1,M3}_1', 'S{JB1,B1,M3}_2', 'S{JB1,B1,M3}_3', 'S{JB2,LAM1,M1}_0', 'S{JB2,LAM1,M1}_1', 'S{JB2,LAM1,M1}_2', 'S{JB2,LAM1,M1}_3', 'S{JB2,B2,M2}_0', 'S{JB2,B2,M2}_1', 'S{JB2,B2,M2}_2', 'S{JB2,B2,M2}_3', 'L{JB1,LAM1,M1,1}_0', 'L{JB1,LAM1,M1,1}_1', 'L{JB1,LAM1,M1,1}_2', 'L{JB1,LAM1,M1,1}_3', 'L{JB1,LAM1,M1,2}_0', 'L{JB1,LAM1,M1,2}_1', 'L{JB1,LAM1,M1,2}_2', 'L{JB1,LAM1,M1,2}_3', 'L{JB1,LAM2,M1,1}_0', 'L{JB1,LAM2,M1,1}_1', 'L{JB1,LAM2,M1,1}_2', 'L{JB1,LAM2,M1,1}_3', 'L{JB1,LAM2,M1,2}_0', 'L{JB1,LAM2,M1,2}_1', 'L{JB1,LAM2,M1,2}_2', 'L{JB1,LAM2,M1,2}_3', 'L{JB1,B1,M2}_0', 'L{JB1,B1,M2}_1', 'L{JB1,B1,M2}_2', 'L{JB1,B1,M2}_3', 'L{JB1,B1,M3}_0', 'L{JB1,B1,M3}_1', 'L{JB1,B1,M3}_2', 'L{JB1,B1,M3}_3', 'L{JB2,LAM1,M1}_0', 'L{JB2,LAM1,M1}_1', 'L{JB2,LAM1,M1}_2', 'L{JB2,LAM1,M1}_3', 'L{JB2,B2,M2}_0', 'L{JB2,B2,M2}_1', 'L{JB2,B2,M2}_2', 'L{JB2,B2,M2}_3', 'E{JB1}_0', 'E{JB1}_1', 'E{JB1}_2', 'E{JB1}_3', 'E{JB2}_0', 'E{JB2}_1', 'E{JB2}_2', 'E{JB2}_3', 'd{JB1}', 'd{JB2}', 'bz{L{JB1,LAM1,M1,1}}', 'bz{L{JB1,LAM1,M1,2}}', 'bz{L{JB1,LAM2,M1,1}}', 'bz{L{JB1,LAM2,M1,2}}', 'bz{L{JB1,B1,M2}}', 'bz{L{JB1,B1,M3}}', 'bz{L{JB2,LAM1,M1}}', 'bz{L{JB2,B2,M2}}', 'X^M1({JB1,LAM1,1}, 1)', 'X^M1({JB1,LAM1,2}, 1)', 'X^M1({JB1,LAM2,1}, 1)', 'X^M1({JB1,LAM2,2}, 1)', 'X^M1({JB2,LAM1}, 1)', 'X^M1({JB1,LAM1,1}, 2)', 'X^M1({JB1,LAM1,2}, 2)', 'X^M1({JB1,LAM2,1}, 2)', 'X^M1({JB1,LAM2,2}, 2)', 'X^M1({JB2,LAM1}, 2)', 'X^M1({JB1,LAM1,1}, 3)', 'X^M1({JB1,LAM1,2}, 3)', 'X^M1({JB1,LAM2,1}, 3)', 'X^M1({JB1,LAM2,2}, 3)', 'X^M1({JB2,LAM1}, 3)', 'X^M1({JB1,LAM1,1}, 4)', 'X^M1({JB1,LAM1,2}, 4)', 'X^M1({JB1,LAM2,1}, 4)', 'X^M1({JB1,LAM2,2}, 4)', 'X^M1({JB2,LAM1}, 4)', 'X^M1({JB1,LAM1,1}, 5)', 'X^M1({JB1,LAM1,2}, 5)', 'X^M1({JB1,LAM2,1}, 5)', 'X^M1({JB1,LAM2,2}, 5)', 'X^M1({JB2,LAM1}, 5)', 'X^M2({JB1,B1}, 1)', 'X^M2({JB2,B2}, 1)', 'X^M2({JB1,B1}, 2)', 'X^M2({JB2,B2}, 2)', 'X^M3({JB1,B1}, 1)', 'u_{M1,1}', 'u_{M1,2}', 'u_{M1,3}', 'u_{M1,4}', 'u_{M1,5}', 'u_{M2,1}', 'u_{M2,2}', 'u_{M3,1}', 'slack_2_L{JB1,LAM1,M1,1}_0', 'slack_2_L{JB1,LAM1,M1,1}_1', 'slack_2_L{JB1,LAM1,M1,1}_2', 'slack_2_L{JB1,LAM1,M1,1}_3', 'slack_2_L{JB1,LAM1,M1,2}_0', 'slack_2_L{JB1,LAM1,M1,2}_1', 'slack_2_L{JB1,LAM1,M1,2}_2', 'slack_2_L{JB1,LAM1,M1,2}_3', 'slack_2_L{JB1,LAM2,M1,1}_0', 'slack_2_L{JB1,LAM2,M1,1}_1', 'slack_2_L{JB1,LAM2,M1,1}_2', 'slack_2_L{JB1,LAM2,M1,1}_3', 'slack_2_L{JB1,LAM2,M1,2}_0', 'slack_2_L{JB1,LAM2,M1,2}_1', 'slack_2_L{JB1,LAM2,M1,2}_2', 'slack_2_L{JB1,LAM2,M1,2}_3', 'slack_2_L{JB1,B1,M2}_0', 'slack_2_L{JB1,B1,M2}_1', 'slack_2_L{JB1,B1,M2}_2', 'slack_2_L{JB1,B1,M2}_3', 'slack_2_L{JB1,B1,M3}_0', 'slack_2_L{JB1,B1,M3}_1', 'slack_2_L{JB1,B1,M3}_2', 'slack_2_L{JB1,B1,M3}_3', 'slack_2_L{JB2,LAM1,M1}_0', 'slack_2_L{JB2,LAM1,M1}_1', 'slack_2_L{JB2,LAM1,M1}_2', 'slack_2_L{JB2,LAM1,M1}_3', 'slack_2_L{JB2,B2,M2}_0', 'slack_2_L{JB2,B2,M2}_1', 'slack_2_L{JB2,B2,M2}_2', 'slack_2_L{JB2,B2,M2}_3', 'slack_3_E{JB1}_0', 'slack_3_E{JB1}_1', 'slack_3_E{JB1}_2', 'slack_3_E{JB1}_3', 'slack_3_E{JB2}_0', 'slack_3_E{JB2}_1', 'slack_3_E{JB2}_2', 'slack_3_E{JB2}_3', 'slack_6_u_{M1,1}_0', 'slack_6_u_{M1,1}_1', 'slack_6_u_{M1,1}_2', 'slack_6_u_{M1,2}_0', 'slack_6_u_{M1,2}_1', 'slack_6_u_{M1,3}_0', 'slack_6_u_{M1,3}_1', 'slack_6_u_{M1,4}_0', 'slack_6_u_{M1,4}_1', 'slack_6_u_{M1,5}_0', 'slack_6_u_{M1,5}_1', 'slack_6_u_{M1,5}_2', 'slack_6_u_{M2,1}_0', 'slack_6_u_{M2,2}_0', 'slack_7_1_JB1,LAM1,M1,1_0', 'slack_7_1_JB1,LAM1,M1,1_1', 'slack_7_1_JB1,LAM1,M1,1_2', 'slack_7_1_JB1,LAM1,M1,1_3', 'slack_7_1_JB1,LAM2,M1,1_0', 'slack_7_1_JB1,LAM2,M1,1_1', 'slack_7_1_JB1,LAM2,M1,1_2', 'slack_7_1_JB1,LAM2,M1,1_3', 'slack_7_1_JB1,LAM1,M1,2_0', 'slack_7_1_JB1,LAM1,M1,2_1', 'slack_7_1_JB1,LAM1,M1,2_2', 'slack_7_1_JB1,LAM1,M1,2_3', 'slack_7_1_JB1,LAM2,M1,2_0', 'slack_7_1_JB1,LAM2,M1,2_1', 'slack_7_1_JB1,LAM2,M1,2_2', 'slack_7_1_JB1,LAM2,M1,2_3', 'slack_7_1_JB2,LAM1,M1_0', 'slack_7_1_JB2,LAM1,M1_1', 'slack_7_1_JB2,LAM1,M1_2', 'slack_7_1_JB2,LAM1,M1_3', 'slack_7_1_1_JB1,B1,M2_0', 'slack_7_1_1_JB1,B1,M2_1', 'slack_7_1_1_JB1,B1,M2_2', 'slack_7_1_1_JB1,B1,M2_3', 'slack_7_1_1_JB1,B1,M3_0', 'slack_7_1_1_JB1,B1,M3_1', 'slack_7_1_1_JB1,B1,M3_2', 'slack_7_1_1_JB1,B1,M3_3', 'slack_7_1_1_JB2,B2,M2_0', 'slack_7_1_1_JB2,B2,M2_1', 'slack_7_1_1_JB2,B2,M2_2', 'slack_7_1_1_JB2,B2,M2_3']\n",
      "206\n"
     ]
    }
   ],
   "source": [
    "\n",
    "\n",
    "print([str(k) for k in x])\n",
    "print(len(x))\n"
   ]
  },
  {
   "attachments": {},
   "cell_type": "markdown",
   "id": "a1464a33",
   "metadata": {},
   "source": [
    "## (3) Cost: Objective Function (OF)\n",
    "\n",
    "minimize 3.1) + 3.2) + 3.3) = \n",
    "\n",
    "        sum_jpms( (1 - bz_jpms)*(K3_m + K4_m*L_jpms) ) +\n",
    "        sum_mk,jps,j'i's' ( X^m_jps,k-1 * TC^m_i,i' * X^m_j'i's',k ) +\n",
    "        sum_j( (1 - d_j) * ( K1_j + K2_j*(E_j - D_j) ) )"
   ]
  },
  {
   "cell_type": "code",
   "execution_count": 138,
   "id": "9cf6f211",
   "metadata": {},
   "outputs": [],
   "source": [
    "#initializar matriz Q\n",
    "Q = np.zeros((len(x), len(x)))"
   ]
  },
  {
   "attachments": {},
   "cell_type": "markdown",
   "id": "cb089e6f",
   "metadata": {},
   "source": [
    "\n",
    "<h3>3.1) production cost</h3>\n"
   ]
  },
  {
   "cell_type": "code",
   "execution_count": 139,
   "id": "49c091bc",
   "metadata": {},
   "outputs": [],
   "source": [
    "Q_FO1 = [] # lista de indices y valor a sumar, ejemplo: [[1,2,16], [1,1,31], [4,3,-10]]\n",
    "# para cada valor nuevo de Q para la dupla de variables i,j se agrega a la lista de Q_FO1 con add_Q_value(x, q_list, i, j, value)"
   ]
  },
  {
   "attachments": {},
   "cell_type": "markdown",
   "id": "da6fe429",
   "metadata": {},
   "source": [
    "$$\\sum_{jpms}( (1 - bz_{jpms})*(K3_m + K4_m*\\sum_{q}(2^q*{L_{jpms}}_q)) ) = $$\n",
    "\n",
    "  sum_jpms {\n",
    "\n",
    "      K3_m                   //constant, NOT CONSIDERED IN THE OF\n",
    "\n",
    "    }\n"
   ]
  },
  {
   "cell_type": "code",
   "execution_count": 140,
   "id": "9686741b",
   "metadata": {},
   "outputs": [
    {
     "name": "stdout",
     "output_type": "stream",
     "text": [
      "9600\n"
     ]
    }
   ],
   "source": [
    "C_FO1 = K3*len(O)   # constant of FO1\n",
    "print(C_FO1)"
   ]
  },
  {
   "attachments": {},
   "cell_type": "markdown",
   "id": "ada92cb0",
   "metadata": {},
   "source": [
    "\n",
    "  \\+ sum_jpms {\n",
    "\n",
    "      - K3_m * bz_jpms\n",
    "\n",
    "    }\n",
    "    \n",
    "      -> Q_{bz_jpms, bz_jpms} = - K3_m         for all operation jpms"
   ]
  },
  {
   "cell_type": "code",
   "execution_count": 141,
   "id": "526bf3ef",
   "metadata": {},
   "outputs": [],
   "source": [
    "for var in bz_list:\n",
    "    add_Q_value(x, Q_FO1, var, var, -K3)"
   ]
  },
  {
   "attachments": {},
   "cell_type": "markdown",
   "id": "a9b4a44f",
   "metadata": {},
   "source": [
    "\\+ sum_jpmsq {\n",
    "  \n",
    "    K4_m * 2^q * {L_jpms}_q\n",
    "\n",
    "  }\n",
    "  \n",
    "    -> Q_{L_jpms_q, L_jpms_q} = K4_m * 2^q         for all operation jpms, and bit q\n"
   ]
  },
  {
   "cell_type": "code",
   "execution_count": 142,
   "id": "198151f5",
   "metadata": {},
   "outputs": [],
   "source": [
    "# for lq in L_q:\n",
    "#     add_Q_value(x, Q_FO1, lq, lq, K4 * 2 ** (int(lq[-1])))\n",
    "\n",
    "for l in L_list:\n",
    "    for q in range(qb_amount):\n",
    "        lq = L_q(l, q)\n",
    "        add_Q_value(x, Q_FO1, lq, lq, K4 * 2**q)"
   ]
  },
  {
   "attachments": {},
   "cell_type": "markdown",
   "id": "aac3a00c",
   "metadata": {},
   "source": [
    "\\+ sum_jpmsq {\n",
    "\n",
    "    - K4_m * bz_jpms * 2^q * {L_jpms}_q\n",
    "\n",
    "  }\n",
    "  \n",
    "    -> Q_{bz_jpms, L_jpms_q} = -1/2 * K4_m * 2^q         for all operation jpms, and bit q\n"
   ]
  },
  {
   "cell_type": "code",
   "execution_count": 143,
   "id": "c411a5dc",
   "metadata": {},
   "outputs": [],
   "source": [
    "\n",
    "for i in range(len(O)):\n",
    "    var = bz_list[i]\n",
    "    l = L_list[i]\n",
    "    for q in range(qb_amount):\n",
    "        add_Q_value(x, Q_FO1, var, L_q(l,q) , -(1/2) * K4 * 2**q)\n",
    "\n",
    "# print(Q_FO1)\n",
    "update_Q(Q, Q_FO1)"
   ]
  },
  {
   "attachments": {},
   "cell_type": "markdown",
   "id": "aea96d49",
   "metadata": {},
   "source": [
    "<h3>3.2) transition cost</h3>\n",
    "\n",
    "$$\\sum_{mk,jps,j'i's'} ( X^{m}_{jps,k-1} * TC^{m}_{i,i'} * X^{m}_{j'i's',k} ) = $$\n",
    "\n",
    "    sum_m {\n",
    "      sum_k {\n",
    "        sum_i,i' {\n",
    "          TC^m_i,i' * sum_(js)(j's') {\n",
    "            X^m_(jps, k - 1) * X^m_(j'i's', k)   //quadratic (X^2)\n",
    "          }\n",
    "        }\n",
    "      }\n",
    "    }\n",
    "\n",
    "    -> Q_{X^m_(jps, k - 1), X^m_(j'i's', k)} = 1/2 * TC^m_i,i'  \n",
    "    \n",
    "         for all m=1,2,3; column k; i,i'=1,2,...8; j,j'=1,2; s,s'=1,2\n",
    "         \n",
    "      ~ add_Q_value(x, Q_FO2, X^m_(jps, k-1)), X^m_(j'i's', k), 1/2 * TC^m_i,i')"
   ]
  },
  {
   "cell_type": "code",
   "execution_count": 144,
   "id": "2c273fbd",
   "metadata": {},
   "outputs": [],
   "source": [
    "\n",
    "Q_FO2 = []\n",
    "\n",
    "m_index = 0\n",
    "for m in M:\n",
    "    if len(OM[m_index])>1:\n",
    "        for k in range(len(OM[m_index])):\n",
    "            for o1 in OM[m_index]:\n",
    "                for o2 in OM[m_index]:\n",
    "                    new_value = (1/2) * TC[m_index] [get_index(P,o1.product)] [get_index(P,o2.product)]\n",
    "                    if o1 != o2 and new_value != 0:\n",
    "                        add_Q_value(x,Q_FO2,\n",
    "                                    X(o1,k),\n",
    "                                    X(o2,k+1),\n",
    "                                    new_value)\n",
    "    m_index += 1\n",
    "            \n",
    "# update_Q(Q, Q_FO2)"
   ]
  },
  {
   "attachments": {},
   "cell_type": "markdown",
   "id": "4e1650c3",
   "metadata": {},
   "source": [
    "<h3>3.3) out of time cost</h3>"
   ]
  },
  {
   "cell_type": "code",
   "execution_count": 145,
   "id": "d87731fc",
   "metadata": {},
   "outputs": [],
   "source": [
    "Q_FO3 = []"
   ]
  },
  {
   "attachments": {},
   "cell_type": "markdown",
   "id": "aff7d636",
   "metadata": {},
   "source": [
    "  $$\\sum_{j}( (1 - d_j) * ( K1_j + K2_j*(E_j - D_j) ) ) =$$\n",
    "\n",
    "    sum_j {\n",
    "      K1^j - K2^j * D_j       //constant, NOT CONSIDERED IN THE OF\n",
    "    }\n"
   ]
  },
  {
   "cell_type": "code",
   "execution_count": 146,
   "id": "c21b28f5",
   "metadata": {},
   "outputs": [
    {
     "name": "stdout",
     "output_type": "stream",
     "text": [
      "-1100\n"
     ]
    }
   ],
   "source": [
    "C_FO3 = 0    \n",
    "\n",
    "for j in J:\n",
    "    C_FO3 += K1 - K2*j.deadline     # constant of FO3\n",
    "\n",
    "print(C_FO3)"
   ]
  },
  {
   "attachments": {},
   "cell_type": "markdown",
   "id": "2e53c955",
   "metadata": {},
   "source": [
    "\n",
    "  \\+ sum_j {\n",
    "\n",
    "    - ( K1^j - K2^j * D_j ) * d_j   //linear (d_j)\n",
    "\n",
    "  }\n",
    "  \n",
    "      -> Q_{d_j} = K2^j * D_j - K1^j   for all j=1,2\n",
    "\n"
   ]
  },
  {
   "cell_type": "code",
   "execution_count": 147,
   "id": "ec1171d8",
   "metadata": {},
   "outputs": [],
   "source": [
    "for d_j in d_list:\n",
    "    job = d_j.job\n",
    "    new_value = K2 * job.deadline - K1\n",
    "    add_Q_value(x, Q_FO3, d_j, d_j, new_value)"
   ]
  },
  {
   "attachments": {},
   "cell_type": "markdown",
   "id": "201efdf1",
   "metadata": {},
   "source": [
    "\\+ sum_jq {\n",
    "\n",
    "    2^q * K2^j * {E_j}_q   //linear (digits of E_j)\n",
    "\n",
    "  }\n",
    "  \n",
    "      -> Q_{E_j_q} = 2^q * K2^j   for all j=1,2; q=0,1,2,3"
   ]
  },
  {
   "cell_type": "code",
   "execution_count": 148,
   "id": "391c5726",
   "metadata": {},
   "outputs": [],
   "source": [
    "for e in E_list:\n",
    "    for q in range(qb_amount):\n",
    "        new_value = (2**q) * K2\n",
    "        e_q = E_q(e,q)\n",
    "        add_Q_value(x, Q_FO3, e_q, e_q, new_value)"
   ]
  },
  {
   "attachments": {},
   "cell_type": "markdown",
   "id": "73f87231",
   "metadata": {},
   "source": [
    "\\+ sum_jq {\n",
    "\n",
    "    - 2^q * K2^j * d_j * {E_j}_q    //quadratic (d*E)\n",
    "    \n",
    "  }\n",
    "\n",
    "      -> Q_{d_j, E_j_q} = -1/2 * 2^q * K2^j   for all j=1,2; q=0,1,2,3"
   ]
  },
  {
   "cell_type": "code",
   "execution_count": 149,
   "id": "f3354d47",
   "metadata": {},
   "outputs": [
    {
     "name": "stdout",
     "output_type": "stream",
     "text": [
      "None\n",
      "None\n",
      "None\n",
      "74\n"
     ]
    }
   ],
   "source": [
    "for e in E_list:\n",
    "    d_j = d_list[E_list.index(e)]\n",
    "    for q in range(qb_amount):\n",
    "        new_value = -(1/2) * (2**q) * K2\n",
    "        add_Q_value(x, Q_FO3, d_j, E_q(e,q), new_value)\n",
    "        # print(Q_FO3)\n",
    "\n",
    "update_Q(Q, Q_FO3)\n",
    "\n",
    "print(get_Q_value(Q, x, X(Operation(\"JB1\",\"LAM1\",\"M1\",1),1), X(Operation(\"JB1\",\"LAM1\",\"M1\",2),2)))\n",
    "print(get_Q_value(Q, x, X(Operation(\"JB1\",\"LAM1\",\"M1\",1),1), X(Operation(\"JB1\",\"LAM1\",\"M1\",1),2)))\n",
    "print(get_Q_value(Q, x, d(\"JB2\"), d(\"JB2\")))\n",
    "print(get_variable_index(x, bz_list[0]))\n",
    "\n",
    "# print_Q_nonZero(Q, x)\n"
   ]
  },
  {
   "cell_type": "code",
   "execution_count": 150,
   "id": "522a5c53",
   "metadata": {},
   "outputs": [
    {
     "name": "stdout",
     "output_type": "stream",
     "text": [
      "8500\n"
     ]
    }
   ],
   "source": [
    "C_FO = C_FO1 + C_FO3 # constant of FO\n",
    "print(C_FO)"
   ]
  },
  {
   "cell_type": "code",
   "execution_count": 151,
   "id": "6dfd2802",
   "metadata": {},
   "outputs": [],
   "source": [
    "# sampleset = sendToDwave(Q, 10)\n",
    "# samples_dict = count_elements(sampleset, len(Q))\n",
    "# make_histogram(samples_dict)\n",
    "\n"
   ]
  },
  {
   "cell_type": "code",
   "execution_count": 152,
   "id": "586999a1",
   "metadata": {},
   "outputs": [],
   "source": [
    "# for i in x:\n",
    "#     print(f\"{i} = {lowest_energy(sampleset)[0][x.index(i)]}\")"
   ]
  },
  {
   "cell_type": "code",
   "execution_count": 153,
   "id": "46c496bf",
   "metadata": {},
   "outputs": [],
   "source": [
    "# vector=[]\n",
    "# for i in x:\n",
    "#     vector.append(1 if (isinstance(i, bz) or isinstance(i, d) or isinstance(i, E_q)) else 0)\n",
    "# print(vector)\n",
    "# print(np.sum(vector))\n",
    "# vector = np.array(vector)\n",
    "# print(vector.T@Q@vector)\n",
    "# vector = np.array(lowest_energy(sampleset)[0])\n",
    "# print(vector.T@Q@vector)"
   ]
  },
  {
   "attachments": {},
   "cell_type": "markdown",
   "id": "1873aded",
   "metadata": {},
   "source": [
    "## (4) Constraints\n"
   ]
  },
  {
   "attachments": {},
   "cell_type": "markdown",
   "id": "3e3edb05",
   "metadata": {},
   "source": [
    "\n",
    "### 4.1) Products demands"
   ]
  },
  {
   "attachments": {},
   "cell_type": "markdown",
   "id": "31bf516e",
   "metadata": {},
   "source": [
    "#### 4.1.1) Precedent operations\n",
    "\n",
    "$$ L_{jpms} = \\sum_{s'} { L_{jp'm's'}} $$\n",
    "for all precedent operations O_{jp'm'}\n",
    "    \n",
    "    (*) speed = 1 always\n",
    "    (*) alpha = 1 always (precedent product requirements)\n",
    "\n",
    "    L_(JB1,B1,M2,1) = L_(JB1,LAM1,M1,1)\n",
    "    L_(JB1,B1,M2,1) = L_(JB1,LAM2,M1,1)\n",
    "\n",
    "    L_(JB1,B1,M3,1) = L_(JB1,LAM1,M1,2)\n",
    "    L_(JB1,B1,M3,1) = L_(JB1,LAM2,M1,2)\n",
    "\n",
    "    L_(JB2,B2,M2,1) = L_(JB2,LAM1,M1,1)\n"
   ]
  },
  {
   "cell_type": "code",
   "execution_count": 154,
   "id": "6f18af81",
   "metadata": {},
   "outputs": [],
   "source": [
    "# Q = np.zeros((len(x), len(x)))\n",
    "Q_C1 = []\n",
    "for p in prec:\n",
    "    \n",
    "    pre = p[0]\n",
    "    suc = p[1]\n",
    "    \n",
    "    vars = []\n",
    "    a = []\n",
    "    for q in range(qb_amount):\n",
    "        vars.append(L_q(L(suc), q))\n",
    "        a.append(2**q)\n",
    "    for q in range(qb_amount):\n",
    "        vars.append(L_q(L(pre), q))\n",
    "        a.append(-2**q)\n",
    "\n",
    "    Q_C1.extend(linear_constraint(x, vars, a))\n",
    "\n",
    "# print(Q_C1)\n",
    "P_C1 = 2000\n",
    "update_Q(Q, Q_C1, P_C1)\n",
    "# print_Q_nonZero(Q, x)\n"
   ]
  },
  {
   "attachments": {},
   "cell_type": "markdown",
   "id": "502be265",
   "metadata": {},
   "source": [
    "##### 4.1.1.1) Precedent constraints on variables bz (optional)\n",
    "  \n",
    "    bz_i' = 1 if bz_i = 1 for all precedent operations i' -> i\n",
    "\n",
    "  Penalty: bz_i *(1 - bz_i')\n",
    "  \n",
    "    bz_(JB1,B1,M2,1) * (1 - bz_(JB1,LAM1,M1,1) )\n",
    "    bz_(JB1,B1,M2,1) * (1 - bz_(JB1,LAM2,M1,1) )\n",
    "    bz_(JB1,B1,M3,1) * (1 - bz_(JB1,LAM1,M1,2) )\n",
    "    bz_(JB1,B1,M3,1) * (1 - bz_(JB1,LAM2,M1,2) )\n",
    "    bz_(JB2,B2,M2,1) * (1 - bz_(JB2,LAM1,M1,1) )"
   ]
  },
  {
   "attachments": {},
   "cell_type": "markdown",
   "id": "f0799d34",
   "metadata": {},
   "source": [
    "#### 4.1.2) Total amount of job\n",
    "\n",
    "  $$ a_j = \\sum_{ms} {L_{j(p_j)ms}} $$\n",
    "    \n",
    "  (*) p_j = final product of job j\n",
    "\n",
    "    a_j = sum_ms {L_j(p_j)ms}\n",
    "    a_JB1 = L_(JB1,B1,M2,1) + L_(JB1,B1,M3,1)\n",
    "    a_JB2 = L_(jB2,B2,M2,1)"
   ]
  },
  {
   "cell_type": "code",
   "execution_count": 155,
   "id": "e98743c9",
   "metadata": {},
   "outputs": [],
   "source": [
    "# Q = np.zeros((len(x), len(x)))\n",
    "\n",
    "Q_C1_2 = []\n",
    "\n",
    "for j in J:\n",
    "    b = j.amount\n",
    "    vars = []\n",
    "    a = []\n",
    "    for of in j.final_operations:\n",
    "        for q in range(qb_amount):\n",
    "            vars.append(L_q(L(of), q))\n",
    "            a.append(2**q)\n",
    "    \n",
    "    Q_C1_2.extend(linear_constraint(x, vars, a, b))\n",
    "\n",
    "P_C1_2 = P_C1\n",
    "# print(Q_C1_2)\n",
    "update_Q(Q, Q_C1_2, P_C1_2)\n",
    "# print_Q_nonZero(Q, x)\n"
   ]
  },
  {
   "attachments": {},
   "cell_type": "markdown",
   "id": "d246ea0a",
   "metadata": {},
   "source": [
    "\n",
    "### 4.2) Definition of bz\n",
    "\n",
    "$$ bz_{jpms} = 1\\times(L_{jpms} = 0) $$\n",
    "\n",
    "    bz := (L <= 0)\n",
    "    (L + Mbz - 1 - slack)^2\n",
    "    M >= {L_max; 1 - L_min}\n",
    "         -> M = 16\n",
    "    slack_max = M - 1 = 15 (4qb)\n",
    "\n",
    "$$ P {(L_{jpms} + M \\times bz_{jpms} - 1 - slack)} ^2 $$"
   ]
  },
  {
   "cell_type": "code",
   "execution_count": 156,
   "id": "15c093ab",
   "metadata": {},
   "outputs": [],
   "source": [
    "# (L + M*bz - 1 - slack)^2\n",
    "M0 = 16\n",
    "Q_C2 = []\n",
    "\n",
    "b = 1\n",
    "\n",
    "for bz_var in bz_list:\n",
    "\n",
    "    vars = []\n",
    "    a = []\n",
    "    \n",
    "    for q in range(qb_amount):\n",
    "        vars.append(L_q(bz_var.l, q))\n",
    "        a.append(2**q)\n",
    "    \n",
    "    vars.append(bz_var)\n",
    "    a.append(M0)\n",
    "\n",
    "    for q in range(qb_amount):\n",
    "        vars.append(slack(\"2\", bz_var.l, q))\n",
    "        a.append(-2**q)\n",
    "    \n",
    "    Q_C2.extend(linear_constraint(x, vars, a, b))\n",
    "\n",
    "\n",
    "# print(Q_C2)\n",
    "# print(len(Q_C2))\n",
    "# for q in Q_C2:\n",
    "#     print(x[q[0]], x[q[1]], q[2])\n",
    "P_C2 = P_C1\n",
    "update_Q(Q, Q_C2, P_C2)\n",
    "# print_Q_nonZero(Q,x)\n",
    "\n"
   ]
  },
  {
   "cell_type": "code",
   "execution_count": 157,
   "id": "9b367b97",
   "metadata": {},
   "outputs": [],
   "source": [
    "# Q_coef = 1\n",
    "# sampleset = sendToDwave(Q_coef * Q, 150, beta_range=(0.01, 7))\n",
    "# samples_dict = count_elements(sampleset, len(Q))\n",
    "# make_histogram(samples_dict)\n",
    "\n",
    "# for i in x:\n",
    "#     print(f\"{i} = {lowest_energy(sampleset)[0][x.index(i)]}\")\n",
    "\n"
   ]
  },
  {
   "cell_type": "code",
   "execution_count": 158,
   "id": "4db197ba",
   "metadata": {},
   "outputs": [],
   "source": [
    "# print(lowest_energy(sampleset)[1])\n",
    "# print_all_variables(lowest_energy(sampleset)[0], x, S_q, L_q, E_q, slack, qb_amount)"
   ]
  },
  {
   "attachments": {},
   "cell_type": "markdown",
   "id": "510a0dd3",
   "metadata": {},
   "source": [
    "  \n",
    "### 4.3) Definition of d_j\n",
    "\n",
    "$$ d_j = 1 \\times ( E_j \\leq D_j ) $$\n",
    "\n",
    "(delta_j^max not considered)\n",
    "\n",
    "    E_j - D_j >= 1 - M*d_j\n",
    "    -> (E_j - D_j + M*d_j - 1 - slack)^2\n",
    "  con slack <= M - 1      \\\\\\\\ con M = 16, alcanza un slack de 4 qb (slack maximo = 15)\n"
   ]
  },
  {
   "cell_type": "code",
   "execution_count": 159,
   "id": "a69ea1d9",
   "metadata": {},
   "outputs": [],
   "source": [
    "# (E_j - D_j + M*d_j - 1 - slack)^2\n",
    "\n",
    "# FALTA CHEQUEAR !!!!!!\n",
    "M0 = 16\n",
    "Q_C3 = []\n",
    "\n",
    "for e in E_list:\n",
    "    j = e.job\n",
    "\n",
    "    b = 1 + j.deadline\n",
    "    vars = []\n",
    "    a = []\n",
    "    \n",
    "    for q in range(qb_amount):\n",
    "        vars.append(E_q(e, q))\n",
    "        a.append(2**q)\n",
    "    \n",
    "    vars.append(d(j))\n",
    "    a.append(M0)\n",
    "\n",
    "    for q in range(qb_amount):\n",
    "        vars.append(slack(\"3\", e, q))\n",
    "        a.append(-2**q)\n",
    "    \n",
    "    Q_C3.extend(linear_constraint(x, vars, a, b))\n",
    "\n",
    "\n",
    "P_C3 = 2000\n",
    "update_Q(Q, Q_C3, P_C3)\n"
   ]
  },
  {
   "attachments": {},
   "cell_type": "markdown",
   "id": "608b6936",
   "metadata": {},
   "source": [
    "\n",
    "### 4.4) Definition of ntz_m\n",
    "\n",
    "    ntz_m = sum_jps( bz_jpms )  (((((( not necessary ))))))\n"
   ]
  },
  {
   "attachments": {},
   "cell_type": "markdown",
   "id": "c89804c4",
   "metadata": {},
   "source": [
    "\n",
    "<h3>4.5) Definition of X^m matrices.</h3>\n",
    "Null row for each null operation\n",
    "\n",
    "    sum_k ( X^m_(jps,k) ) = 1 - bz_jpms\n"
   ]
  },
  {
   "cell_type": "code",
   "execution_count": 160,
   "id": "ef7313a8",
   "metadata": {},
   "outputs": [],
   "source": [
    "# (sum_k ( X^m_(jps,k) ) + bz_jpms - 1)^2\n",
    "# Q = np.zeros((len(x), len(x)))\n",
    "\n",
    "Q_C5 = []\n",
    "\n",
    "for o in O:\n",
    "\n",
    "    b = 1\n",
    "    vars = []\n",
    "    a = []\n",
    "    \n",
    "    for k in range(len(OM[M.index(o.machine)])):\n",
    "        vars.append(X(o, k+1))\n",
    "        a.append(1)\n",
    "\n",
    "    vars.append(bz(L(o)))\n",
    "    a.append(1)\n",
    "    \n",
    "    Q_C5.extend(linear_constraint(x, vars, a, b))\n",
    "\n",
    "\n",
    "P_C5 = 2000\n",
    "# print(Q_C5)\n",
    "update_Q(Q, Q_C5, P_C5)\n",
    "# print_Q_nonZero(Q,x)\n"
   ]
  },
  {
   "attachments": {},
   "cell_type": "markdown",
   "id": "2d6c8a5b",
   "metadata": {},
   "source": [
    "\n",
    "### 4.6) Definition of u_mk\n",
    "\n",
    "$$ u_{mk} = 1\\times( k <= o_m - \\sum_{jps} {bz_{jpms}} ) $$\n",
    "\n",
    "    for all m and k\n",
    "    \n",
    "      k <= o_m - sum(bz)\n",
    "      -> (k - o_m + sum(bz) + M * u_mk - 1 - slack)^2\n",
    "      -> slack_max = M - 1\n",
    "      -> M >= max{ k , 1 - k + o_m }"
   ]
  },
  {
   "cell_type": "code",
   "execution_count": 161,
   "id": "c01c7ce3",
   "metadata": {},
   "outputs": [],
   "source": [
    "Q_C6 = []\n",
    "\n",
    "# for all m and k    \n",
    "# (k - o_m + sum(bz) + M * u_mk - 1 - slack)^2\n",
    "# slack_max = M - 1\n",
    "# M >= max{ k , 1 - k + o_m }\n",
    "# b = o_m - k + 1\n",
    "# slack de n qubits:\n",
    "#   M = 2^n\n",
    "#   n = techo{ log2(max{k,1-k+o_m}) } = techo{ log2(max{k,b}) }\n",
    "\n",
    "for u_mk in u_list:\n",
    "\n",
    "    m = u_mk.machine\n",
    "    k = u_mk.k\n",
    "\n",
    "    m_op_list = OM[M.index(m)]\n",
    "    \n",
    "    b = len(m_op_list) - k + 1\n",
    "    vars = []\n",
    "    a = []\n",
    "\n",
    "    n = math.ceil(math.log2(max(k, b)))\n",
    "    M_u = 2**n\n",
    "\n",
    "    for o in m_op_list:\n",
    "        vars.append(bz(L(o)))\n",
    "        a.append(1)\n",
    "\n",
    "    for q in range(n):\n",
    "        vars.append(slack(\"6\", u_mk, q))\n",
    "        a.append(-2**q)\n",
    "\n",
    "    vars.append(u_mk)\n",
    "    a.append(M_u)\n",
    "\n",
    "    Q_C6.extend(linear_constraint(x, vars, a, b))\n",
    "    \n",
    "\n",
    "P_C6 = P_C5\n",
    "# print(Q_C6)\n",
    "update_Q(Q, Q_C6, P_C6)\n",
    "# print_Q_nonZero(Q,x)\n",
    "      \n"
   ]
  },
  {
   "attachments": {},
   "cell_type": "markdown",
   "id": "abfe880a",
   "metadata": {},
   "source": [
    "\n",
    "#### 4.6.1) X columns with only one \"1\" or none\n",
    "  $$ \\sum_{jps} { X^m_{jps,k} } = u_{mk} $$\n",
    "    for all m and k\n"
   ]
  },
  {
   "cell_type": "code",
   "execution_count": 162,
   "id": "33f722e5",
   "metadata": {},
   "outputs": [],
   "source": [
    "Q_C6_1 = []\n",
    "\n",
    "# ( sum_jps {X^m_(jps,k)} - u_mk )^2\n",
    "\n",
    "for u_mk in u_list:\n",
    "\n",
    "    m = u_mk.machine\n",
    "    k = u_mk.k\n",
    "\n",
    "    m_op_list = OM[M.index(m)]\n",
    "        \n",
    "    vars = []\n",
    "    a = []\n",
    "\n",
    "    for o in m_op_list:\n",
    "        vars.append(X(o,k))\n",
    "        a.append(1)\n",
    "        \n",
    "    vars.append(u_mk)\n",
    "    a.append(-1)\n",
    "\n",
    "    Q_C6_1.extend(linear_constraint(x, vars, a))\n",
    "\n",
    "P_C6_1 = P_C6\n",
    "# print(Q_C6_1)\n",
    "update_Q(Q, Q_C6_1, P_C6_1)\n",
    "# print_Q_nonZero(Q,x)"
   ]
  },
  {
   "cell_type": "code",
   "execution_count": 163,
   "id": "29a9b814",
   "metadata": {},
   "outputs": [],
   "source": [
    "# gp_model = gp.Model()\n",
    "# xv = np.array([[gp_model.addVar(vtype = gp.GRB.BINARY, name = f'x{i}') for i in range(len(x))]])\n",
    "# obj = (xv*np.matrix(Q)*np.transpose(xv))[0,0]\n",
    "# gp_model.params.NonConvex = -1\n",
    "# gp_model.setParam(\"TimeLimit\", 120)\n",
    "# gp_model.setObjective(obj, gp.GRB.MINIMIZE)\n",
    "# gp_model.optimize()\n",
    "# result = np.array([var.x for var in gp_model.getVars()])"
   ]
  },
  {
   "cell_type": "code",
   "execution_count": 164,
   "id": "bc2d354c",
   "metadata": {},
   "outputs": [],
   "source": [
    "# print((result@np.matrix(Q)@np.transpose(result))[0,0])\n",
    "# print_all_variables(result, x, S_q, L_q, E_q, slack, X, qb_amount)\n"
   ]
  },
  {
   "cell_type": "code",
   "execution_count": 165,
   "id": "8dde3486",
   "metadata": {},
   "outputs": [],
   "source": [
    "# result_2 = [[x[gp_model.getVars().index(var)], var.x] for var in gp_model.getVars()]\n",
    "# i = 0\n",
    "# for v in result_2:\n",
    "#     x_var = x[result_2.index(v)]\n",
    "#     print(x_var)\n",
    "#     if x_var == u(M[1], 1):\n",
    "#         v = 1\n",
    "#         i = result_2.index(v)\n",
    "\n",
    "# print(i)\n",
    "# print(result_2[i])\n",
    "\n",
    "# print((result_2@np.matrix(Q)@np.transpose(result_2))[0,0])\n",
    "# print_all_variables(result, x, S_q, L_q, E_q, slack, X, qb_amount)\n"
   ]
  },
  {
   "attachments": {},
   "cell_type": "markdown",
   "id": "ac7f5083",
   "metadata": {},
   "source": [
    "\n",
    "### 4.7) Precedence restriction\n",
    "\n",
    "#### 4.7.1) By precedence\n",
    "\n",
    "$$ S_{jp'm's'} \\geq S_{jpms} + L_{jpms} $$\n",
    "    for all precedences pms -> p'm's'\n",
    "\n",
    "    (S_jp'm's' - S_jpms - L_jpms - slack)^2\n"
   ]
  },
  {
   "cell_type": "code",
   "execution_count": 166,
   "id": "d6401fa7",
   "metadata": {},
   "outputs": [],
   "source": [
    "\n",
    "Q_C7_1 = []\n",
    "for p in prec:\n",
    "    \n",
    "    pre = p[0]\n",
    "    suc = p[1]\n",
    "    \n",
    "    vars = []\n",
    "    a = []\n",
    "    for q in range(qb_amount):\n",
    "        vars.append(S_q(S(suc), q))\n",
    "        a.append(2**q)\n",
    "    for q in range(qb_amount):\n",
    "        vars.append(S_q(S(pre), q))\n",
    "        a.append(-2**q)\n",
    "    for q in range(qb_amount):\n",
    "        vars.append(L_q(L(pre), q))\n",
    "        a.append(-2**q)\n",
    "    for q in range(qb_amount):\n",
    "        vars.append(slack(\"7_1\", pre, q))\n",
    "        a.append(-2**q)\n",
    "\n",
    "    Q_C7_1.extend(linear_constraint(x, vars, a))\n",
    "\n",
    "# print(Q_C7_1)\n",
    "P_C7_1 = 2000\n",
    "update_Q(Q, Q_C7_1, P_C7_1)\n",
    "# print_Q_nonZero(Q, x)"
   ]
  },
  {
   "attachments": {},
   "cell_type": "markdown",
   "id": "c201d3d3",
   "metadata": {},
   "source": [
    "\n",
    "##### 4.7.1.1) Final dummy operation\n",
    "\n",
    "$$ E_j \\geq S_{jp_{j}ms} + L_{jp_{j}ms} $$\n",
    "\n",
    "    (E_j - S_j(p_j)ms - L_j(p_j)ms - slack)^2\n",
    "    (*) p_j is the final product of job j\n"
   ]
  },
  {
   "cell_type": "code",
   "execution_count": 167,
   "id": "411af320",
   "metadata": {},
   "outputs": [],
   "source": [
    "\n",
    "Q_C7_1_1 = []\n",
    "\n",
    "for j in J:\n",
    "    for of in j.final_operations:\n",
    "        \n",
    "        vars = []\n",
    "        a = []\n",
    "\n",
    "        for q in range(qb_amount):\n",
    "            vars.append(E_q(E(j), q))\n",
    "            a.append(2**q)\n",
    "        for q in range(qb_amount):\n",
    "            vars.append(S_q(S(of), q))\n",
    "            a.append(-2**q)\n",
    "        for q in range(qb_amount):\n",
    "            vars.append(L_q(L(of), q))\n",
    "            a.append(-2**q)\n",
    "        for q in range(qb_amount):\n",
    "            vars.append(slack(\"7_1_1\", of, q))\n",
    "            a.append(-2**q)\n",
    "\n",
    "    Q_C7_1_1.extend(linear_constraint(x, vars, a))\n",
    "\n",
    "# print(Q_C7_1_1)\n",
    "P_C7_1_1 = 2000\n",
    "update_Q(Q, Q_C7_1_1, P_C7_1_1)\n",
    "# print_Q_nonZero(Q, x)"
   ]
  },
  {
   "attachments": {},
   "cell_type": "markdown",
   "id": "ea73578b",
   "metadata": {},
   "source": [
    "\n",
    "#### 4.7.2) Alternatively (+M)\n",
    "\n",
    "$$ S_{jp'm's'} \\geq S_{jpms} + L_{jpms} - M \\times bz_{jpms} $$\n",
    "    \n",
    "    //for all precedences pms -> p'm's'\n",
    "    S_jp'm's' = S_jpms + L_jpms - M * bz_jpms + slack\n",
    "    -> slack_max = max{ S' - S + M } = 15 + M ~ 2*M (5qb)\n",
    "\n",
    "    S' >= S - M\n",
    "    M >= max{S-S'} = 15 -> M = 15 o 16\n"
   ]
  },
  {
   "attachments": {},
   "cell_type": "markdown",
   "id": "fba5c78f",
   "metadata": {},
   "source": [
    "\n",
    "##### 4.7.2.1) Final dummy operation\n",
    "\n",
    "$$ E_j \\geq S_{jp_{j}ms} + L_{jp_{j}ms} - M \\times bz_{jp_{j}ms} $$\n",
    "    for all m, s\n",
    "    E_j = S_j(p_j)ms + L_j(p_j)ms - M * bz_j(p_j)ms + slack\n",
    "    -> slack_max = max{ E - S + M } = 15 + M ~ 2*M (5qb)\n",
    "\n",
    "    M >= S - E iff M >= max{S-E} = 15 -> M = 15 or 16\n"
   ]
  },
  {
   "attachments": {},
   "cell_type": "markdown",
   "id": "073e9f1b",
   "metadata": {},
   "source": [
    "\n",
    "#### 4.7.3) A possible reinforcing constraint\n",
    "\n",
    "$$ \\sum_{k} {X^{m}_{(jp's'),k} \\times k} + M \\times bz_{jp'ms'} \\geq \\sum_{k} {X^m_{(jps)k}\\times k} - M\\times bz_{jpms} $$\n"
   ]
  },
  {
   "cell_type": "code",
   "execution_count": 168,
   "id": "6ee2b76e",
   "metadata": {},
   "outputs": [],
   "source": [
    "# sampleset = sendToDwaveSampler(Q, 100)\n",
    "# samples_dict = count_elements(sampleset.record, len(Q))\n",
    "# make_histogram(samples_dict)\n",
    "\n",
    "# result = np.array(lowest_energy(sampleset.record)[0])\n",
    "# print((result@np.matrix(Q)@np.transpose(result))[0,0])\n",
    "# print_all_variables(result, x, S_q, L_q, E_q, slack, X, qb_amount)\n",
    "\n",
    "# for i in x:\n",
    "#     print(f\"{i} = {lowest_energy(sampleset)[0][x.index(i)]}\")"
   ]
  },
  {
   "cell_type": "code",
   "execution_count": 176,
   "id": "f9097a27",
   "metadata": {},
   "outputs": [
    {
     "name": "stdout",
     "output_type": "stream",
     "text": [
      "Set parameter TimeLimit to value 30\n",
      "Gurobi Optimizer version 10.0.2 build v10.0.2rc0 (win64)\n",
      "\n",
      "CPU model: Intel(R) Core(TM) i7-9750H CPU @ 2.60GHz, instruction set [SSE2|AVX|AVX2]\n",
      "Thread count: 6 physical cores, 12 logical processors, using up to 12 threads\n",
      "\n",
      "Optimize a model with 0 rows, 206 columns and 0 nonzeros\n",
      "Model fingerprint: 0x09ac67ab\n",
      "Model has 1681 quadratic objective terms\n",
      "Variable types: 0 continuous, 206 integer (206 binary)\n",
      "Coefficient statistics:\n",
      "  Matrix range     [0e+00, 0e+00]\n",
      "  Objective range  [0e+00, 0e+00]\n",
      "  QObjective range [2e+02, 1e+06]\n",
      "  Bounds range     [1e+00, 1e+00]\n",
      "  RHS range        [0e+00, 0e+00]\n",
      "Found heuristic solution: objective 0.0000000\n",
      "Found heuristic solution: objective -670700.0000\n",
      "Found heuristic solution: objective -676800.0000\n",
      "Presolve removed 0 rows and 6 columns\n",
      "Presolve time: 0.01s\n",
      "Presolved: 0 rows, 200 columns, 0 nonzeros\n",
      "Presolved model has 1707 quadratic objective terms\n",
      "Variable types: 0 continuous, 200 integer (200 binary)\n",
      "\n",
      "Root relaxation: objective -6.861106e+06, 203 iterations, 0.00 seconds (0.00 work units)\n",
      "\n",
      "    Nodes    |    Current Node    |     Objective Bounds      |     Work\n",
      " Expl Unexpl |  Obj  Depth IntInf | Incumbent    BestBd   Gap | It/Node Time\n",
      "\n",
      "     0     0 -6861105.6    0  196 -676800.00 -6861105.6   914%     -    0s\n",
      "H    0     0                    -686600.0000 -6861105.6   899%     -    0s\n",
      "     0     0 -6861105.6    0  196 -686600.00 -6861105.6   899%     -    0s\n",
      "H    0     0                    -695000.0000 -6861105.6   887%     -    0s\n",
      "     0     2 -6861105.6    0  196 -695000.00 -6861105.6   887%     -    0s\n",
      "H    2     4                    -701150.0000 -6675262.8   852%   1.0    0s\n",
      "H    4     8                    -712250.0000 -6513923.2   815%   1.5    0s\n",
      "H   24    26                    -715650.0000 -6274777.6   777%   1.9    0s\n",
      "H 2132  2032                    -716850.0000 -6138757.5   756%   2.1    0s\n",
      "  2162  2054 -1720033.5   87 1172 -716850.00 -3169467.5   342%   2.2    5s\n",
      "  2181  2071 -2888010.5   26 1142 -716850.00 -2937802.5   310%  14.7   10s\n",
      "  2462  2276 -2413658.1   36 1000 -716850.00 -2581119.3   260%  58.1   15s\n",
      "H 2535  2194                    -717550.0000 -2581119.3   260%  65.5   16s\n",
      "H 2563  2095                    -720250.0000 -2581119.3   258%  67.0   17s\n",
      "  2683  2129 -2052439.5   41 1001 -720250.00 -2581119.3   258%  85.2   20s\n",
      "H 2694  2031                    -722100.0000 -2581119.3   257%  87.0   20s\n",
      "  3133  2342 -1779053.1   48  966 -722100.00 -2581119.3   257%   106   25s\n",
      "  4069  2905 -1546267.0   56  872 -722100.00 -2581119.3   257%   114   30s\n",
      "\n",
      "Cutting planes:\n",
      "  Gomory: 38\n",
      "  Clique: 2\n",
      "  MIR: 84\n",
      "  Flow cover: 864\n",
      "  Zero half: 144\n",
      "  RLT: 484\n",
      "  BQP: 496\n",
      "  PSD: 34\n",
      "\n",
      "Explored 4238 nodes (483743 simplex iterations) in 30.05 seconds (26.67 work units)\n",
      "Thread count was 12 (of 12 available processors)\n",
      "\n",
      "Solution count 10: -722100 -720250 -717550 ... -676800\n",
      "\n",
      "Time limit reached\n",
      "Best objective -7.221000000000e+05, best bound -2.581100000000e+06, gap 257.4436%\n",
      "Set parameter TimeLimit to value 30\n",
      "Gurobi Optimizer version 10.0.2 build v10.0.2rc0 (win64)\n",
      "\n",
      "CPU model: Intel(R) Core(TM) i7-9750H CPU @ 2.60GHz, instruction set [SSE2|AVX|AVX2]\n",
      "Thread count: 6 physical cores, 12 logical processors, using up to 12 threads\n",
      "\n",
      "Optimize a model with 0 rows, 206 columns and 0 nonzeros\n",
      "Model fingerprint: 0x09ac67ab\n",
      "Model has 1681 quadratic objective terms\n",
      "Variable types: 0 continuous, 206 integer (206 binary)\n",
      "Coefficient statistics:\n",
      "  Matrix range     [0e+00, 0e+00]\n",
      "  Objective range  [0e+00, 0e+00]\n",
      "  QObjective range [2e+02, 1e+06]\n",
      "  Bounds range     [1e+00, 1e+00]\n",
      "  RHS range        [0e+00, 0e+00]\n",
      "Found heuristic solution: objective 0.0000000\n",
      "Found heuristic solution: objective -670700.0000\n",
      "Found heuristic solution: objective -676800.0000\n",
      "Presolve removed 0 rows and 6 columns\n",
      "Presolve time: 0.01s\n",
      "Presolved: 0 rows, 200 columns, 0 nonzeros\n",
      "Presolved model has 1707 quadratic objective terms\n",
      "Variable types: 0 continuous, 200 integer (200 binary)\n",
      "\n",
      "Root relaxation: objective -6.861106e+06, 203 iterations, 0.00 seconds (0.00 work units)\n",
      "\n",
      "    Nodes    |    Current Node    |     Objective Bounds      |     Work\n",
      " Expl Unexpl |  Obj  Depth IntInf | Incumbent    BestBd   Gap | It/Node Time\n",
      "\n",
      "     0     0 -6861105.6    0  196 -676800.00 -6861105.6   914%     -    0s\n",
      "H    0     0                    -686600.0000 -6861105.6   899%     -    0s\n",
      "     0     0 -6861105.6    0  196 -686600.00 -6861105.6   899%     -    0s\n",
      "H    0     0                    -695000.0000 -6861105.6   887%     -    0s\n",
      "     0     2 -6861105.6    0  196 -695000.00 -6861105.6   887%     -    0s\n",
      "H    2     4                    -701150.0000 -6675262.8   852%   1.0    0s\n",
      "H    4     8                    -712250.0000 -6513923.2   815%   1.5    0s\n",
      "H   24    26                    -715650.0000 -6274777.6   777%   1.9    0s\n",
      "H 2132  2032                    -716850.0000 -6138757.5   756%   2.1    0s\n",
      "  2163  2054 -3111225.7   27 1162 -716850.00 -3111225.7   334%   2.2    5s\n",
      "  2185  2078 -2824701.3   27 1149 -716850.00 -2887068.4   303%  17.2   10s\n",
      "  2426  2259 -2326880.9   36  915 -716850.00 -2581119.3   260%  56.4   15s\n",
      "H 2535  2194                    -717550.0000 -2581119.3   260%  65.5   16s\n",
      "H 2563  2095                    -720250.0000 -2581119.3   258%  67.0   17s\n",
      "  2683  2129 -2052439.5   41 1001 -720250.00 -2581119.3   258%  85.2   20s\n",
      "H 2694  2031                    -722100.0000 -2581119.3   257%  87.0   20s\n",
      "  3070  2281 -1807639.9   47  964 -722100.00 -2581119.3   257%   103   25s\n",
      "  4069  2811 -1546267.0   56  872 -722100.00 -2581119.3   257%   114   30s\n",
      "\n",
      "Cutting planes:\n",
      "  Gomory: 38\n",
      "  Clique: 2\n",
      "  MIR: 84\n",
      "  Flow cover: 864\n",
      "  Zero half: 144\n",
      "  RLT: 484\n",
      "  BQP: 496\n",
      "  PSD: 34\n",
      "\n",
      "Explored 4131 nodes (470021 simplex iterations) in 30.05 seconds (26.30 work units)\n",
      "Thread count was 12 (of 12 available processors)\n",
      "\n",
      "Solution count 10: -722100 -720250 -717550 ... -676800\n",
      "\n",
      "Time limit reached\n",
      "Best objective -7.221000000000e+05, best bound -2.581100000000e+06, gap 257.4436%\n",
      "Set parameter TimeLimit to value 30\n",
      "Gurobi Optimizer version 10.0.2 build v10.0.2rc0 (win64)\n",
      "\n",
      "CPU model: Intel(R) Core(TM) i7-9750H CPU @ 2.60GHz, instruction set [SSE2|AVX|AVX2]\n",
      "Thread count: 6 physical cores, 12 logical processors, using up to 12 threads\n",
      "\n",
      "Optimize a model with 0 rows, 206 columns and 0 nonzeros\n",
      "Model fingerprint: 0x09ac67ab\n",
      "Model has 1681 quadratic objective terms\n",
      "Variable types: 0 continuous, 206 integer (206 binary)\n",
      "Coefficient statistics:\n",
      "  Matrix range     [0e+00, 0e+00]\n",
      "  Objective range  [0e+00, 0e+00]\n",
      "  QObjective range [2e+02, 1e+06]\n",
      "  Bounds range     [1e+00, 1e+00]\n",
      "  RHS range        [0e+00, 0e+00]\n",
      "Found heuristic solution: objective 0.0000000\n",
      "Found heuristic solution: objective -670700.0000\n",
      "Found heuristic solution: objective -676800.0000\n",
      "Presolve removed 0 rows and 6 columns\n",
      "Presolve time: 0.01s\n",
      "Presolved: 0 rows, 200 columns, 0 nonzeros\n",
      "Presolved model has 1707 quadratic objective terms\n",
      "Variable types: 0 continuous, 200 integer (200 binary)\n",
      "\n",
      "Root relaxation: objective -6.861106e+06, 203 iterations, 0.00 seconds (0.00 work units)\n",
      "\n",
      "    Nodes    |    Current Node    |     Objective Bounds      |     Work\n",
      " Expl Unexpl |  Obj  Depth IntInf | Incumbent    BestBd   Gap | It/Node Time\n",
      "\n",
      "     0     0 -6861105.6    0  196 -676800.00 -6861105.6   914%     -    0s\n",
      "H    0     0                    -686600.0000 -6861105.6   899%     -    0s\n",
      "     0     0 -6861105.6    0  196 -686600.00 -6861105.6   899%     -    0s\n",
      "H    0     0                    -695000.0000 -6861105.6   887%     -    0s\n",
      "     0     2 -6861105.6    0  196 -695000.00 -6861105.6   887%     -    0s\n",
      "H    2     4                    -701150.0000 -6675262.8   852%   1.0    0s\n",
      "H    4     8                    -712250.0000 -6513923.2   815%   1.5    0s\n",
      "H   24    26                    -715650.0000 -6274777.6   777%   1.9    0s\n",
      "H 2132  2032                    -716850.0000 -6138757.5   756%   2.1    0s\n",
      "  2162  2054 -1720033.5   87 1172 -716850.00 -3169467.5   342%   2.2    5s\n",
      "  2181  2071 -2888010.5   26 1142 -716850.00 -2937802.5   310%  14.7   10s\n",
      "  2406  2235 -2338860.3   35  956 -716850.00 -2581119.3   260%  54.2   15s\n",
      "H 2535  2194                    -717550.0000 -2581119.3   260%  65.5   16s\n",
      "H 2563  2095                    -720250.0000 -2581119.3   258%  67.0   17s\n",
      "  2683  2129 -2052439.5   41 1001 -720250.00 -2581119.3   258%  85.2   21s\n",
      "H 2694  2031                    -722100.0000 -2581119.3   257%  87.0   21s\n",
      "  2982  2250 -1810545.5   46  976 -722100.00 -2581119.3   257%   101   25s\n",
      "  3804  2696 -1472383.6   54  868 -722100.00 -2581119.3   257%   112   30s\n",
      "\n",
      "Cutting planes:\n",
      "  Gomory: 38\n",
      "  Clique: 2\n",
      "  MIR: 84\n",
      "  Flow cover: 864\n",
      "  Zero half: 144\n",
      "  RLT: 484\n",
      "  BQP: 496\n",
      "  PSD: 34\n",
      "\n",
      "Explored 3900 nodes (440194 simplex iterations) in 30.05 seconds (25.44 work units)\n",
      "Thread count was 12 (of 12 available processors)\n",
      "\n",
      "Solution count 10: -722100 -720250 -717550 ... -676800\n",
      "\n",
      "Time limit reached\n",
      "Best objective -7.221000000000e+05, best bound -2.581100000000e+06, gap 257.4436%\n",
      "Set parameter TimeLimit to value 30\n",
      "Gurobi Optimizer version 10.0.2 build v10.0.2rc0 (win64)\n",
      "\n",
      "CPU model: Intel(R) Core(TM) i7-9750H CPU @ 2.60GHz, instruction set [SSE2|AVX|AVX2]\n",
      "Thread count: 6 physical cores, 12 logical processors, using up to 12 threads\n",
      "\n",
      "Optimize a model with 0 rows, 206 columns and 0 nonzeros\n",
      "Model fingerprint: 0x09ac67ab\n",
      "Model has 1681 quadratic objective terms\n",
      "Variable types: 0 continuous, 206 integer (206 binary)\n",
      "Coefficient statistics:\n",
      "  Matrix range     [0e+00, 0e+00]\n",
      "  Objective range  [0e+00, 0e+00]\n",
      "  QObjective range [2e+02, 1e+06]\n",
      "  Bounds range     [1e+00, 1e+00]\n",
      "  RHS range        [0e+00, 0e+00]\n",
      "Found heuristic solution: objective 0.0000000\n",
      "Found heuristic solution: objective -670700.0000\n",
      "Found heuristic solution: objective -676800.0000\n",
      "Presolve removed 0 rows and 6 columns\n",
      "Presolve time: 0.01s\n",
      "Presolved: 0 rows, 200 columns, 0 nonzeros\n",
      "Presolved model has 1707 quadratic objective terms\n",
      "Variable types: 0 continuous, 200 integer (200 binary)\n",
      "\n",
      "Root relaxation: objective -6.861106e+06, 203 iterations, 0.00 seconds (0.00 work units)\n",
      "\n",
      "    Nodes    |    Current Node    |     Objective Bounds      |     Work\n",
      " Expl Unexpl |  Obj  Depth IntInf | Incumbent    BestBd   Gap | It/Node Time\n",
      "\n",
      "     0     0 -6861105.6    0  196 -676800.00 -6861105.6   914%     -    0s\n",
      "H    0     0                    -686600.0000 -6861105.6   899%     -    0s\n",
      "     0     0 -6861105.6    0  196 -686600.00 -6861105.6   899%     -    0s\n",
      "H    0     0                    -695000.0000 -6861105.6   887%     -    0s\n",
      "     0     2 -6861105.6    0  196 -695000.00 -6861105.6   887%     -    0s\n",
      "H    2     4                    -701150.0000 -6675262.8   852%   1.0    0s\n",
      "H    4     8                    -712250.0000 -6513923.2   815%   1.5    0s\n",
      "H   24    26                    -715650.0000 -6274777.6   777%   1.9    0s\n",
      "H 2132  2032                    -716850.0000 -6138757.5   756%   2.1    0s\n",
      "  2162  2054 -1720033.5   87 1172 -716850.00 -3169467.5   342%   2.2    5s\n",
      "  2181  2071 -2888010.5   26 1142 -716850.00 -2937802.5   310%  14.7   10s\n",
      "  2406  2235 -2338860.3   35  956 -716850.00 -2581119.3   260%  54.2   15s\n",
      "H 2535  2194                    -717550.0000 -2581119.3   260%  65.5   17s\n",
      "H 2563  2095                    -720250.0000 -2581119.3   258%  67.0   17s\n",
      "  2683  2129 -2052439.5   41 1001 -720250.00 -2581119.3   258%  85.2   21s\n",
      "H 2694  2031                    -722100.0000 -2581119.3   257%  87.0   21s\n",
      "  2982  2250 -1810545.5   46  976 -722100.00 -2581119.3   257%   101   25s\n",
      "  4069  2788 -1831684.7   48  869 -722100.00 -2581119.3   257%   114   30s\n",
      "\n",
      "Cutting planes:\n",
      "  Gomory: 38\n",
      "  Clique: 2\n",
      "  MIR: 84\n",
      "  Flow cover: 864\n",
      "  Zero half: 144\n",
      "  RLT: 484\n",
      "  BQP: 496\n",
      "  PSD: 34\n",
      "\n",
      "Explored 4092 nodes (465757 simplex iterations) in 30.04 seconds (26.18 work units)\n",
      "Thread count was 12 (of 12 available processors)\n",
      "\n",
      "Solution count 10: -722100 -720250 -717550 ... -676800\n",
      "\n",
      "Time limit reached\n",
      "Best objective -7.221000000000e+05, best bound -2.581100000000e+06, gap 257.4436%\n"
     ]
    }
   ],
   "source": [
    "result_array = []\n",
    "reads = 4\n",
    "\n",
    "for i in range(reads):\n",
    "    gp_model = gp.Model()\n",
    "    xv = np.array([[gp_model.addVar(vtype = gp.GRB.BINARY, name = f'x{i}') for i in range(len(x))]])\n",
    "    obj = (xv*np.matrix(Q)*np.transpose(xv))[0,0]\n",
    "    gp_model.params.NonConvex = -1\n",
    "    gp_model.setParam(\"TimeLimit\", 30)\n",
    "    gp_model.setObjective(obj, gp.GRB.MINIMIZE)\n",
    "    gp_model.optimize()\n",
    "    res = np.array([var.x for var in gp_model.getVars()])\n",
    "    result_array.append( [ res, (res@np.matrix(Q)@np.transpose(res))[0,0] ] )\n",
    "    \n",
    "result = lowest_energy(result_array)[0][0]"
   ]
  },
  {
   "cell_type": "code",
   "execution_count": null,
   "id": "bea02d06",
   "metadata": {},
   "outputs": [
    {
     "name": "stdout",
     "output_type": "stream",
     "text": [
      "-722100.0\n",
      "206\n",
      "S{JB1,LAM1,M1,1} = 0.0\n",
      "S{JB1,LAM1,M1,2} = 4.0\n",
      "S{JB1,LAM2,M1,1} = 1.0\n",
      "S{JB1,LAM2,M1,2} = 2.0\n",
      "S{JB1,B1,M2} = 5.0\n",
      "S{JB1,B1,M3} = 9.0\n",
      "S{JB2,LAM1,M1} = 2.0\n",
      "S{JB2,B2,M2} = 7.0\n",
      "L{JB1,LAM1,M1,1} = 3.0\n",
      "L{JB1,LAM1,M1,2} = 1.0\n",
      "L{JB1,LAM2,M1,1} = 3.0\n",
      "L{JB1,LAM2,M1,2} = 1.0\n",
      "L{JB1,B1,M2} = 3.0\n",
      "L{JB1,B1,M3} = 1.0\n",
      "L{JB2,LAM1,M1} = 2.0\n",
      "L{JB2,B2,M2} = 2.0\n",
      "E{JB1} = 10.0\n",
      "E{JB2} = 11.0\n",
      "d{JB1} = 1.0\n",
      "d{JB2} = 1.0\n",
      "bz{L{JB1,LAM1,M1,1}} = 0.0\n",
      "bz{L{JB1,LAM1,M1,2}} = 0.0\n",
      "bz{L{JB1,LAM2,M1,1}} = 0.0\n",
      "bz{L{JB1,LAM2,M1,2}} = 0.0\n",
      "bz{L{JB1,B1,M2}} = 0.0\n",
      "bz{L{JB1,B1,M3}} = 0.0\n",
      "bz{L{JB2,LAM1,M1}} = 0.0\n",
      "bz{L{JB2,B2,M2}} = 0.0\n",
      "X^M1 =\n",
      "[[0 0 0 0 1]\n",
      " [1 0 0 0 0]\n",
      " [0 0 0 1 0]\n",
      " [0 0 1 0 0]\n",
      " [0 1 0 0 0]]\n",
      "X^M2 =\n",
      "[[0 1]\n",
      " [1 0]]\n",
      "X^M3 =\n",
      "[[1]]\n",
      "u_{M1,1} = 1.0\n",
      "u_{M1,2} = 1.0\n",
      "u_{M1,3} = 1.0\n",
      "u_{M1,4} = 1.0\n",
      "u_{M1,5} = 1.0\n",
      "u_{M2,1} = 1.0\n",
      "u_{M2,2} = 1.0\n",
      "u_{M3,1} = 1.0\n",
      "slack_2_L{JB1,LAM1,M1,1} = 2.0\n",
      "slack_2_L{JB1,LAM1,M1,2} = 0.0\n",
      "slack_2_L{JB1,LAM2,M1,1} = 2.0\n",
      "slack_2_L{JB1,LAM2,M1,2} = 0.0\n",
      "slack_2_L{JB1,B1,M2} = 2.0\n",
      "slack_2_L{JB1,B1,M3} = 0.0\n",
      "slack_2_L{JB2,LAM1,M1} = 1.0\n",
      "slack_2_L{JB2,B2,M2} = 1.0\n",
      "slack_3_E{JB1} = 15.0\n",
      "slack_3_E{JB2} = 15.0\n",
      "slack_6_u_{M1,1} = 3.0\n",
      "slack_6_u_{M1,2} = 0.0\n",
      "slack_6_u_{M1,3} = 1.0\n",
      "slack_6_u_{M1,4} = 2.0\n",
      "slack_6_u_{M1,5} = 7.0\n",
      "slack_6_u_{M2,1} = 0.0\n",
      "slack_6_u_{M2,2} = 1.0\n",
      "slack_7_1_JB1,LAM1,M1,1 = 2.0\n",
      "slack_7_1_JB1,LAM2,M1,1 = 1.0\n",
      "slack_7_1_JB1,LAM1,M1,2 = 4.0\n",
      "slack_7_1_JB1,LAM2,M1,2 = 6.0\n",
      "slack_7_1_JB2,LAM1,M1 = 3.0\n",
      "slack_7_1_1_JB1,B1,M2 = 0.0\n",
      "slack_7_1_1_JB1,B1,M3 = 0.0\n",
      "slack_7_1_1_JB2,B2,M2 = 2.0\n"
     ]
    }
   ],
   "source": [
    "print((result@np.matrix(Q)@np.transpose(result))[0,0])\n",
    "print_all_variables(result, x, S_q, L_q, E_q, slack, X, qb_amount)"
   ]
  },
  {
   "cell_type": "code",
   "execution_count": null,
   "id": "5a63d199",
   "metadata": {},
   "outputs": [],
   "source": [
    "# result_2 = result.copy()\n",
    "# for v in x:\n",
    "#     if v == d(J[1]) or (isinstance(v, slack) and v.same(slack('3',E(J[1]),0))):\n",
    "#         result_2[x.index(v)] = 0\n",
    "        \n",
    "# print(len(result_2))\n",
    "# print((result@np.matrix(Q)@np.transpose(result))[0,0])\n",
    "# print((result_2@np.matrix(Q)@np.transpose(result_2))[0,0])\n",
    "# print_all_variables(result_2, x, S_q, L_q, E_q, slack, X, qb_amount)"
   ]
  },
  {
   "attachments": {},
   "cell_type": "markdown",
   "id": "4df35aa8",
   "metadata": {},
   "source": [
    "\n",
    "### 4.8) Non-superposition of operations:\n",
    "for each machine m, k = 2,...o_m\n",
    "\n",
    "    sum_jps{\n",
    "      S_jpms * X^m_(jps,k)\n",
    "    }\n",
    "\n",
    "    >= sum_jps {\n",
    "      ( S_jpms + Ljpms ) * X^m_(jps,k-1)\n",
    "    }\n",
    "\n",
    "    + sum_(jps, j'p's') {\n",
    "      X^m_(jps,k-1) * TT^m_p,p' * X^m_(j'p's',k)\n",
    "    }\n",
    "    \n",
    "    - M * (1 - u_mk)\n",
    "\n"
   ]
  },
  {
   "attachments": {},
   "cell_type": "markdown",
   "id": "830fb3a5",
   "metadata": {},
   "source": [
    "\n",
    "#### 4.8.1) Avoiding the quadratic terms\n",
    "  \n",
    "    sum_jps{\n",
    "      y^m_(jps,k)\n",
    "    }\n",
    "    >= sum_jps {\n",
    "      y^m_(jps,k-1) + Ljpms * z^m_(jps,k-1)\n",
    "    }\n",
    "    + sum_(jps, j'p's') {\n",
    "      TT^m_p,p' w^m_(jps,j'p's',k-1)\n",
    "    }\n",
    "    - M * (1 - u_mk)\n",
    "\n"
   ]
  },
  {
   "attachments": {},
   "cell_type": "markdown",
   "id": "60e21cf5",
   "metadata": {},
   "source": [
    "\n",
    "### 4.9) Quadratic constraint auxiliary variables\n"
   ]
  },
  {
   "attachments": {},
   "cell_type": "markdown",
   "id": "9a3c392e",
   "metadata": {},
   "source": [
    "\n",
    "#### 4.9.1) X and S\n",
    "\n",
    "$$ y^m_{jps,k,q} = X^m_{jps,k} * {S_{jpms}}_q $$\n",
    "$$ P \\times ( 3 \\times y^m_{jps,k,q} + X^m_{jps,k} \\times {S_{jpms}}_q - 2 \\times {S_{jpms}}_q \\times y^m_{jps,k,q} - 2 \\times X^m_{jps,k} \\times y^m_{jps,k,q} ) $$\n"
   ]
  },
  {
   "attachments": {},
   "cell_type": "markdown",
   "id": "b3eb8223",
   "metadata": {},
   "source": [
    "\n",
    "#### 4.9.2) X and L\n",
    "$$ z^m_{jps,k,q} = X^m_{jps,k} * {L_{jpms}}_q $$\n",
    "$$ P \\times ( 3 \\times z^m_{jps,k,q} + X^m_{jps,k} \\times {L_{jpms}}_q - 2 \\times {L_{jpms}}_q \\times z^m_{jps,k,q} - 2 \\times X^m_{jps,k} \\times z^m_{jps,k,q} ) $$\n"
   ]
  },
  {
   "attachments": {},
   "cell_type": "markdown",
   "id": "e7691d1d",
   "metadata": {},
   "source": [
    "\n",
    "#### 4.9.3) X and X\n",
    "$$ w^m_{(jps),(j'p's'),k} = X^m_{jps,k} * X^m_{j'p's',k+1} $$\n",
    "$$ P \\times ( 3 \\times w^m_{(jps),(j'p's'),k} + X^m_{jps,k} \\times X^m_{j'p's',k+1} - 2 \\times X^m_{j'p's',k+1} \\times w^m_{(jps),(j'p's'),k} - 2 \\times X^m_{jps,k} \\times w^m_{(jps),(j'p's'),k} ) $$\n"
   ]
  },
  {
   "cell_type": "code",
   "execution_count": null,
   "id": "6188a57c",
   "metadata": {},
   "outputs": [],
   "source": [
    "# sampleset = sendToDwave(Q, 10)\n",
    "# print(sampleset)\n",
    "# samples_dict = count_elements(sampleset, len(Q))\n",
    "# make_histogram(samples_dict)\n",
    "\n"
   ]
  }
 ],
 "metadata": {
  "kernelspec": {
   "display_name": "Python 3",
   "language": "python",
   "name": "python3"
  },
  "language_info": {
   "codemirror_mode": {
    "name": "ipython",
    "version": 3
   },
   "file_extension": ".py",
   "mimetype": "text/x-python",
   "name": "python",
   "nbconvert_exporter": "python",
   "pygments_lexer": "ipython3",
   "version": "3.10.8"
  },
  "vscode": {
   "interpreter": {
    "hash": "369f2c481f4da34e4445cda3fffd2e751bd1c4d706f27375911949ba6bb62e1c"
   }
  }
 },
 "nbformat": 4,
 "nbformat_minor": 5
}
