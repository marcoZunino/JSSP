{
 "cells": [
  {
   "attachments": {},
   "cell_type": "markdown",
   "id": "222a0390",
   "metadata": {},
   "source": [
    "# JSSP"
   ]
  },
  {
   "attachments": {},
   "cell_type": "markdown",
   "id": "6a48fe9f",
   "metadata": {},
   "source": [
    "### Imports"
   ]
  },
  {
   "cell_type": "code",
   "execution_count": 334,
   "id": "58dfb4b3",
   "metadata": {},
   "outputs": [],
   "source": [
    "from dwave.system import DWaveSampler, EmbeddingComposite\n",
    "import dwave.inspector as inspector\n",
    "import pandas as pd\n",
    "import numpy as np\n",
    "# import cvxpy as cp\n",
    "import time\n",
    "import dimod\n",
    "import matplotlib.pyplot as plt\n",
    "from matplotlib import rc\n",
    "import gurobipy as gp\n",
    "import math"
   ]
  },
  {
   "attachments": {},
   "cell_type": "markdown",
   "id": "79787ac1",
   "metadata": {},
   "source": [
    "### Annealing simulation functions"
   ]
  },
  {
   "cell_type": "code",
   "execution_count": 335,
   "id": "6aa303da",
   "metadata": {},
   "outputs": [],
   "source": [
    "def sendToDwave(qubo, shots=100, beta_range=None):\n",
    "    # Description: functions that solves a particular qubo problem\n",
    "\n",
    "    # INPUT:\n",
    "    # qubo: (matrix) representation of the xt*Q*x problem\n",
    "\n",
    "    # OUTPUT:\n",
    "    # sampleset: array of tuples of the form (solution, energy) of length \"shots\" containing posible (but not neccesarily feasible) solutions\n",
    "    \n",
    "    tic = time.perf_counter() # for time measuring\n",
    "    sampleset = dimod.SimulatedAnnealingSampler().sample_qubo(qubo, num_reads=shots, beta_range=beta_range)\n",
    "    sampleset = sampleset.aggregate() # solo agrega soluciones DIFERENTES.\n",
    "    sampleset = [(sample, energy) for sample, energy in zip(sampleset.record.sample, sampleset.record.energy)]\n",
    "    toc = time.perf_counter() # for time measuring\n",
    "    print(f\"Simulating {shots} instances of annealing took: {(toc-tic)}s\")\n",
    "    # print(\"Sampleset sin filtrar: \", sampleset)\n",
    "    return sampleset\n",
    "\n",
    "def from_sample_to_int(sample):\n",
    "    binary_list = sample[0].tolist()\n",
    "\n",
    "    # Convert the binary list to a string and join the elements\n",
    "    binary_string = ''.join(str(x) for x in binary_list)\n",
    "    # Use the int() function with base 2 to convert the binary string to an integer\n",
    "    result = int(binary_string, 2)\n",
    "    return result\n",
    "\n",
    "def count_elements(sample_list, total_spaces):\n",
    "    frequency_dict = {}\n",
    "    energy_dict = {}\n",
    "    for item in sample_list:\n",
    "        hashable_item = from_sample_to_int(item)\n",
    "        if hashable_item in frequency_dict:\n",
    "            frequency_dict[hashable_item] += 1\n",
    "        else:\n",
    "            energy_dict[hashable_item] = int(item[1])\n",
    "            frequency_dict[hashable_item] = 1\n",
    "    results_list = [bin(item)[2:] for item in frequency_dict]\n",
    "    energies = list(energy_dict.values())\n",
    "    frequencies = list(frequency_dict.values())\n",
    "\n",
    "    new_results = []\n",
    "    for result in results_list:\n",
    "        if len(result) != total_spaces:\n",
    "            ceros_string = '0' * int(total_spaces - len(result))\n",
    "            result = ceros_string + result\n",
    "        new_results.append(result)\n",
    "    result = {'results': new_results, 'energies': energies, 'frequencies': frequencies}\n",
    "    return result\n",
    "\n",
    "def make_histogram(samples_dict):\n",
    "    # Constructing an histogram to represent the solutions\n",
    "\n",
    "    df = pd.DataFrame(samples_dict)\n",
    "    print(df)\n",
    "\n",
    "    # Sample data\n",
    "    data = samples_dict\n",
    "\n",
    "    # Extract the labels and the amounts into separate lists\n",
    "    labels = data['results']\n",
    "    amounts = data['frequencies']\n",
    "    energies = data['energies']\n",
    "\n",
    "    # Create a bar plot\n",
    "    plt.bar(labels, amounts)\n",
    "\n",
    "    for i, count in enumerate(amounts):\n",
    "        plt.text(i, count, str(count), ha='center', va='bottom')\n",
    "\n",
    "    # Add labels and title to the plot\n",
    "    plt.xlabel('Soluciones')\n",
    "    plt.ylabel('Cantidades')\n",
    "    plt.title('Soluciones y cantidad de veces que aparecen')\n",
    "\n",
    "    # Show the plot\n",
    "    plt.show()\n"
   ]
  },
  {
   "cell_type": "code",
   "execution_count": 336,
   "id": "0fdce316",
   "metadata": {},
   "outputs": [],
   "source": [
    "def lowest_energy(sampleset):  # Finds the lowest energy solution\n",
    "    \n",
    "    # Description: given a full sampleset (tuples of the form (solution, energy) finds the lowest energy SAMPLE.\n",
    "    # INPUTS:\n",
    "    # Sampleset: a sampleset of the form list((solution, energy))\n",
    "\n",
    "    # OUTPUTS:\n",
    "    # best: a tuple of the form (solution, energy)\n",
    "\n",
    "    if len(sampleset):\n",
    "        energies = np.array([el[1] for el in sampleset])  # energias\n",
    "        index = np.argmin(energies)  # indice de la de menor energia\n",
    "        ret = sampleset[index]  # solucion de menor energia\n",
    "        return ret\n",
    "\n",
    "    else:\n",
    "        return None"
   ]
  },
  {
   "cell_type": "code",
   "execution_count": null,
   "id": "87032dda",
   "metadata": {},
   "outputs": [],
   "source": [
    "def sendToDwaveSampler(qubo, shots=100):\n",
    "    sampler = DWaveSampler(solver={'topology_type':'pegasus'})\n",
    "    embedding = EmbeddingComposite(sampler)\n",
    "    sampleset = embedding.sample_qubo(qubo, num_reads=shots)\n",
    "    inspector.show(running)\n",
    "    print(running)\n",
    "    return sampleset"
   ]
  },
  {
   "attachments": {},
   "cell_type": "markdown",
   "id": "c1acafa7",
   "metadata": {},
   "source": [
    "### Auxiliary functions"
   ]
  },
  {
   "cell_type": "code",
   "execution_count": 337,
   "id": "c473ae28",
   "metadata": {},
   "outputs": [],
   "source": [
    "def get_index(v_list, value):\n",
    "    index = 0\n",
    "    for l in v_list:\n",
    "        if l == value:\n",
    "            return index\n",
    "        index += 1\n",
    "    return None\n"
   ]
  },
  {
   "cell_type": "code",
   "execution_count": 338,
   "id": "45ef620d",
   "metadata": {},
   "outputs": [],
   "source": [
    "def get_subindexes(item):\n",
    "    index_list = \"\"\n",
    "    for sub_item in item:\n",
    "        if index_list == \"\":\n",
    "            index_list += str(sub_item)\n",
    "        else:\n",
    "            index_list += \",\"\n",
    "            index_list += str(sub_item)\n",
    "    return index_list"
   ]
  },
  {
   "cell_type": "code",
   "execution_count": 339,
   "id": "e1c52391",
   "metadata": {},
   "outputs": [],
   "source": [
    "def get_variable_index(x, var_name):\n",
    "    try:\n",
    "        arr = x.index(var_name)\n",
    "        return arr\n",
    "    except:\n",
    "        return None"
   ]
  },
  {
   "cell_type": "code",
   "execution_count": 340,
   "id": "a7a3afdd",
   "metadata": {},
   "outputs": [],
   "source": [
    "def add_Q_value(x, q_list, i, j, value):\n",
    "    index_i = get_variable_index(x, i)\n",
    "    index_j = get_variable_index(x, j)\n",
    "    \n",
    "    if index_i is not None and index_j is not None:\n",
    "        q_list.append([index_i, index_j, value])\n"
   ]
  },
  {
   "cell_type": "code",
   "execution_count": 341,
   "id": "8a9ab77e",
   "metadata": {},
   "outputs": [],
   "source": [
    "\n",
    "# list1 = []\n",
    "# x = [\"v1\", \"v2\"]\n",
    "# add_Q_value(x, list1, \"v2\", \"v2\", -10)\n"
   ]
  },
  {
   "cell_type": "code",
   "execution_count": 342,
   "id": "24aed0c3",
   "metadata": {},
   "outputs": [],
   "source": [
    "def update_Q(Q, newQ, p = 1):\n",
    "    for q in newQ:\n",
    "        if q[0] == q[1]:\n",
    "            Q[q[0]][q[0]] += p * q[2]\n",
    "        else:\n",
    "            Q[q[0]][q[1]] += p * q[2]\n",
    "            Q[q[1]][q[0]] += p * q[2]\n",
    "\n"
   ]
  },
  {
   "cell_type": "code",
   "execution_count": 343,
   "id": "a5a70b4d",
   "metadata": {},
   "outputs": [
    {
     "name": "stdout",
     "output_type": "stream",
     "text": [
      "[[0 0]\n",
      " [0 0]]\n",
      "[[-1 -2]\n",
      " [-2  0]]\n"
     ]
    }
   ],
   "source": [
    "\n",
    "Q = np.array([[0,0],[0,0]])\n",
    "print(Q)\n",
    "newQ = [[0, 0, -1], [0, 1, -2]]\n",
    "update_Q(Q,newQ)\n",
    "print(Q)"
   ]
  },
  {
   "cell_type": "code",
   "execution_count": 344,
   "id": "fc79b6a5",
   "metadata": {},
   "outputs": [],
   "source": [
    "def get_Q_value(Q, x, i, j):\n",
    "    index_i = get_variable_index(x, i)\n",
    "    index_j = get_variable_index(x, j)\n",
    "    if index_i is not None and index_j is not None:\n",
    "        return Q[index_i][index_j]\n",
    "    \n",
    "    "
   ]
  },
  {
   "cell_type": "code",
   "execution_count": 345,
   "id": "b87bfb74",
   "metadata": {},
   "outputs": [],
   "source": [
    "def print_Q_item(Q, x, i, j):\n",
    "    # i, j numeric indexes\n",
    "    if i>=0 and i<len(x) and j>=0 and j<len(x):\n",
    "        var_i = x[i]\n",
    "        var_j = x[j]\n",
    "        print(\"{\", var_i, \",\", var_j, \"} =\", Q[i][j])"
   ]
  },
  {
   "cell_type": "code",
   "execution_count": 346,
   "id": "dac8b0a9",
   "metadata": {},
   "outputs": [],
   "source": [
    "def print_Q_nonZero(Q, x):\n",
    "    for i in range(len(Q)):\n",
    "        for j in range(len(Q[i])):\n",
    "            if Q[i][j] != 0:\n",
    "                print_Q_item(Q, x, i, j)\n"
   ]
  },
  {
   "cell_type": "code",
   "execution_count": 347,
   "id": "e55237e8",
   "metadata": {},
   "outputs": [],
   "source": [
    "a = np.matrix([1,2,4,8])\n",
    "\n",
    "\n",
    "a = np.zeros((1,2))\n",
    "a[0][1] = 3\n",
    "q = a.transpose()*a"
   ]
  },
  {
   "cell_type": "code",
   "execution_count": 348,
   "id": "1090946b",
   "metadata": {},
   "outputs": [],
   "source": [
    "def linear_constraint(x, vars, a, b=0):\n",
    "\n",
    "    Q_list = []\n",
    "    if len(vars) != len(a):\n",
    "        print(\"Linear constraint variables error!!!!\")\n",
    "        return Q_list\n",
    "\n",
    "    a_vector = np.array(a)\n",
    "    matrix = np.outer(a_vector, a_vector) - 2*b*np.diag(a_vector)\n",
    "\n",
    "    # print(np.outer(a_vector, a_vector))\n",
    "    # print(- 2*b*np.diag(a_vector))\n",
    "\n",
    "    # print(matrix)\n",
    "    \n",
    "    for i in range(len(matrix)):\n",
    "        for j in range(i, len(matrix[i])):\n",
    "            add_Q_value(x, Q_list, vars[i], vars[j], matrix[i][j])\n",
    "    \n",
    "    return Q_list\n"
   ]
  },
  {
   "cell_type": "code",
   "execution_count": 349,
   "id": "860ecfb7",
   "metadata": {},
   "outputs": [],
   "source": [
    "def print_all_variables(bitvector, x, S_q, L_q, E_q, slack,X, qb_amount):\n",
    "    i = 0\n",
    "    print(len(x))\n",
    "    while i < len(x):\n",
    "        if isinstance(x[i], S_q):\n",
    "            bits = [bitvector[i+j] for j in range(qb_amount)]\n",
    "            var = x[i].s\n",
    "            i+=qb_amount\n",
    "        elif isinstance(x[i], L_q):\n",
    "            bits = [bitvector[i+j] for j in range(qb_amount)]\n",
    "            var = x[i].l\n",
    "            i+=qb_amount\n",
    "        elif isinstance(x[i], E_q):\n",
    "            bits = [bitvector[i+j] for j in range(qb_amount)]\n",
    "            var = x[i].e\n",
    "            i+=qb_amount\n",
    "        elif isinstance(x[i], slack):\n",
    "            slacks = [s for s in x if x[i].same(s)]\n",
    "            bits = [bitvector[x.index(s)] for s in slacks]\n",
    "            var = x[i].full_slack_string()\n",
    "            i+=len(slacks)\n",
    "        elif isinstance(x[i], X):\n",
    "            Xs = [s for s in x if x[i].same(s)]\n",
    "            bits = np.array([bitvector[x.index(s)] for s in Xs])\n",
    "            n = int(np.sqrt(len(Xs)))\n",
    "            bits = bits.reshape((n,n)).transpose()\n",
    "            var = x[i].matrix_name()\n",
    "            print(f\"{var} =\")\n",
    "            print(bits.astype(int))\n",
    "            i+=len(Xs)\n",
    "            continue\n",
    "        else:\n",
    "            print(f\"{x[i]} = {bitvector[i]}\")\n",
    "            i+=1\n",
    "            continue\n",
    "        print(f\"{var} = {np.inner(bits, 2**np.arange(len(bits)))}\")"
   ]
  },
  {
   "attachments": {},
   "cell_type": "markdown",
   "id": "9c4d6828",
   "metadata": {},
   "source": [
    "## (1) Constants and Definitions\n"
   ]
  },
  {
   "attachments": {},
   "cell_type": "markdown",
   "id": "23d542d8",
   "metadata": {},
   "source": [
    "\n",
    "### 1.1) Time slots\n",
    "\n",
    "T_slots = {1,2,3,... 16} (4 bits: 4qb)"
   ]
  },
  {
   "cell_type": "code",
   "execution_count": 350,
   "id": "8b91a6da",
   "metadata": {},
   "outputs": [],
   "source": [
    "qb_amount = 4"
   ]
  },
  {
   "attachments": {},
   "cell_type": "markdown",
   "id": "3ecf251d",
   "metadata": {},
   "source": [
    "### 1.2) Products\n",
    "P = {B1, B2, LAM1, LAM2}\n",
    "              = {0,   1,    2,    3}"
   ]
  },
  {
   "cell_type": "code",
   "execution_count": 351,
   "id": "47970e73",
   "metadata": {},
   "outputs": [],
   "source": [
    "class Product:\n",
    "    def __init__(self, name:str) -> None:\n",
    "        self.name = name\n",
    "    \n",
    "    def __str__(self) -> str:\n",
    "        return self.name\n",
    "    \n",
    "    def __eq__(self, __value: object) -> bool:\n",
    "        return type(__value) == type(self) and self.name == __value.name\n",
    "\n",
    "P = [Product(\"B1\"), Product(\"B2\"), Product(\"LAM1\"), Product(\"LAM2\")]"
   ]
  },
  {
   "attachments": {},
   "cell_type": "markdown",
   "id": "0a698665",
   "metadata": {},
   "source": [
    "### 1.3) Jobs\n",
    "J = {JB1, JB2}"
   ]
  },
  {
   "cell_type": "code",
   "execution_count": 352,
   "id": "e7bf7cb4",
   "metadata": {},
   "outputs": [],
   "source": [
    "class Job:\n",
    "    def __init__(self, name:str, final_product: Product = None, amount: int=None, deadline: int=None) -> None:\n",
    "        self.name = name\n",
    "        self.final_product = final_product\n",
    "        self.final_operations = []\n",
    "        self.amount = amount\n",
    "        self.deadline = deadline\n",
    "\n",
    "    def __str__(self) -> str:\n",
    "        return self.name\n",
    "    \n",
    "    def __eq__(self, __value: object) -> bool:\n",
    "        return type(__value) == type(self) and self.name == __value.name\n",
    "\n",
    "\n",
    "J = [Job(\"JB1\"), Job(\"JB2\")]\n",
    "\n"
   ]
  },
  {
   "attachments": {},
   "cell_type": "markdown",
   "id": "056c122f",
   "metadata": {},
   "source": [
    "### 1.4) successors:\n",
    "      LAM1 -> B1 ---- P2 -> P0\n",
    "      LAM2 -> B1 ----   P3 -> P0\n",
    "      LAM1 -> B2 ----   P2 -> P1"
   ]
  },
  {
   "cell_type": "code",
   "execution_count": 353,
   "id": "35345e8f",
   "metadata": {},
   "outputs": [],
   "source": [
    "successors = [[P[2], P[0]], [P[3], P[0]], [P[2], P[1]]]"
   ]
  },
  {
   "attachments": {},
   "cell_type": "markdown",
   "id": "06163f34",
   "metadata": {},
   "source": [
    "### 1.5) amounts:\n",
    "      a_JB1 = 4\n",
    "      a_JB2 = 2"
   ]
  },
  {
   "cell_type": "code",
   "execution_count": 354,
   "id": "b8f7b69d",
   "metadata": {},
   "outputs": [],
   "source": [
    "J[0].amount = 4\n",
    "J[1].amount = 2"
   ]
  },
  {
   "attachments": {},
   "cell_type": "markdown",
   "id": "74bfa881",
   "metadata": {},
   "source": [
    "### 1.6) final product of job:\n",
    "      JB1 : B1\n",
    "      JB2 : B2"
   ]
  },
  {
   "cell_type": "code",
   "execution_count": 355,
   "id": "3f244aa0",
   "metadata": {},
   "outputs": [],
   "source": [
    "for j in J:\n",
    "    j.final_product = P[J.index(j)]\n"
   ]
  },
  {
   "attachments": {},
   "cell_type": "markdown",
   "id": "97de0742",
   "metadata": {},
   "source": [
    "### 1.7) deadline:\n",
    "      D_JB1 = 10\n",
    "      D_JB2 = 11"
   ]
  },
  {
   "cell_type": "code",
   "execution_count": 356,
   "id": "84e87111",
   "metadata": {},
   "outputs": [],
   "source": [
    "J[0].deadline = 10\n",
    "J[1].deadline = 11"
   ]
  },
  {
   "attachments": {},
   "cell_type": "markdown",
   "id": "288f9e7d",
   "metadata": {},
   "source": [
    "### 1.8) Machines\n",
    "M = {M1, M2, M3}"
   ]
  },
  {
   "cell_type": "code",
   "execution_count": 357,
   "id": "8971019b",
   "metadata": {},
   "outputs": [],
   "source": [
    "class Machine:\n",
    "    def __init__(self, name:str) -> None:\n",
    "        self.name = name\n",
    "    \n",
    "    def __str__(self) -> str:\n",
    "        return self.name\n",
    "    \n",
    "    def __eq__(self, __value: object) -> bool:\n",
    "        return type(__value) == type(self) and self.name == __value.name\n",
    "\n",
    "M = [Machine(\"M1\"), Machine(\"M2\"), Machine(\"M3\")]"
   ]
  },
  {
   "attachments": {},
   "cell_type": "markdown",
   "id": "766d465a",
   "metadata": {},
   "source": [
    "#### 1.8.1) speeds = 1 for each machine\n",
    "\n",
    "#### 1.8.2) production machines:\n",
    "\n",
    "        LAM1, LAM2 -> M1\n",
    "        B1, B2 -> M2\n",
    "        B1 -> M3\n",
    "\n",
    "### 1.9) Operations\n",
    "\n",
    "      {O_jpms : j=job, i=product, m=machine, s=splitting}\n",
    "\n",
    "      O_(JB1,LAM1,M1,1)     ->   O_(J0,P2,M0,1) -> O[0]\n",
    "      O_(JB1,LAM1,M1,2)     ->   O_(J0,P2,M0,2) -> O[1]\n",
    "      O_(JB1,LAM2,M1,1)     ->   O_(J0,P3,M0,1) -> O[2]\n",
    "      O_(JB1,LAM2,M1,2)     ->   O_(J0,P3,M0,2) -> O[3]\n",
    "      O_(JB1,B1,M2,1)       ->   O_(J0,P0,M1,1) -> O[4]\n",
    "      O_(JB1,B1,M3,1)       ->   O_(J0,P0,M2,1) -> O[5]\n",
    "      O_(JB2,LAM1,M1,1)     ->   O_(J1,P2,M0,1) -> O[6]\n",
    "      O_(JB2,B2,M2,1)       ->   O_(J1,P1,M1,1) -> O[7]"
   ]
  },
  {
   "cell_type": "code",
   "execution_count": 358,
   "id": "3ef551a0",
   "metadata": {},
   "outputs": [],
   "source": [
    "class Operation:\n",
    "    def __init__(self, job: Job, product: Product, machine: Machine, splitting: int=None) -> None:\n",
    "        self.job = job\n",
    "        self.product = product\n",
    "        self.machine = machine\n",
    "        self.splitting = splitting\n",
    "\n",
    "    def __str__(self) -> str:\n",
    "        if self.splitting is not None:\n",
    "            return f\"{self.job},{self.product},{self.machine},{self.splitting}\"\n",
    "        else:\n",
    "            return f\"{self.job},{self.product},{self.machine}\"\n",
    "        \n",
    "    def to_x_index(self) -> str:\n",
    "        if self.splitting is not None:\n",
    "            return f\"{self.job},{self.product},{self.splitting}\"\n",
    "        else:\n",
    "            return f\"{self.job},{self.product}\"\n",
    "        \n",
    "    def __eq__(self, __value: object) -> bool:\n",
    "        return type(__value) == type(self) and self.job == __value.job and self.product == __value.product and \\\n",
    "            self.machine == __value.machine and (self.splitting is None or self.splitting == __value.splitting)"
   ]
  },
  {
   "cell_type": "code",
   "execution_count": 359,
   "id": "a1534819",
   "metadata": {},
   "outputs": [],
   "source": [
    "O = [ Operation(J[0], P[2], M[0], 1),\n",
    "     Operation(J[0], P[2], M[0], 2), \n",
    "     Operation(J[0], P[3], M[0], 1),\n",
    "     Operation(J[0], P[3], M[0], 2),\n",
    "     Operation(J[0], P[0], M[1]),      #omit splitting when not needed\n",
    "     Operation(J[0], P[0], M[2]),\n",
    "     Operation(J[1], P[2], M[0]),\n",
    "     Operation(J[1], P[1], M[1])\n",
    "     ]"
   ]
  },
  {
   "cell_type": "code",
   "execution_count": 360,
   "id": "fe63ce2c",
   "metadata": {},
   "outputs": [],
   "source": [
    "# final operations by job\n",
    "\n",
    "for o in O:\n",
    "    for j in J:\n",
    "        if o.job == j and o.product == j.final_product:\n",
    "            j.final_operations.append(o)\n"
   ]
  },
  {
   "attachments": {},
   "cell_type": "markdown",
   "id": "80625151",
   "metadata": {},
   "source": [
    "### 1.10) Operations by Machine m:\n",
    "\n",
    "        OM_m' = {O_jpms : m=m'}\n",
    "        o_m = #(OM_m)\n",
    "\n",
    "      M1: {\n",
    "            O_(JB1,LAM1,M1,1);\n",
    "            O_(JB1,LAM1,M1,2)\n",
    "            O_(JB1,LAM2,M1,1)\n",
    "            O_(JB1,LAM2,M1,2)\n",
    "            O_(JB2,LAM1,M1,1)\n",
    "      }\n",
    "      o_M1 = 5\n",
    "\n",
    "      M2: {\n",
    "          O_(JB1,B1,M2,1);\n",
    "          O_(JB2,B2,M2,1)\n",
    "      }\n",
    "      o_M2 = 2\n",
    "\n",
    "      M3: { O_(JB1,B1,M3,1) }\n",
    "      o_M3 = 1\n"
   ]
  },
  {
   "cell_type": "code",
   "execution_count": 361,
   "id": "2ff3d534",
   "metadata": {},
   "outputs": [],
   "source": [
    "OM = []\n",
    "for m in M:\n",
    "     count = 0\n",
    "     op_list = []\n",
    "     for o in O:\n",
    "          if o.machine == m:\n",
    "               op_list.append(o)\n",
    "     OM.append(op_list)\n",
    "\n"
   ]
  },
  {
   "attachments": {},
   "cell_type": "markdown",
   "id": "59227a15",
   "metadata": {},
   "source": [
    "1.11) (jps), [jpms] : lexicographic order\n",
    "\n",
    "### 1.12) Transition Cost : TC^m_(i,i')"
   ]
  },
  {
   "cell_type": "code",
   "execution_count": 362,
   "id": "274446d7",
   "metadata": {},
   "outputs": [],
   "source": [
    "TC1 = [\n",
    "     [0,       1500,\t0,\t1500,\t0],\n",
    "     [200,\t0,\t     200,\t0,\t     200],\n",
    "     [0,\t     1500,\t0,\t1500,\t0],\n",
    "     [200,\t0,\t     200, 0,\t     200],\n",
    "     [0,\t     1500,\t0,\t1500,\t0]\n",
    "]\n",
    "TC2 = [\n",
    "     [0, 200],\n",
    "     [200, 0]\n",
    "]\n",
    "TC3 = [[0]]\n",
    "\n",
    "TC = [TC1, TC2, TC3]"
   ]
  },
  {
   "attachments": {},
   "cell_type": "markdown",
   "id": "b9a62e22",
   "metadata": {},
   "source": [
    "### 1.13) Transition Time : TT^m_(p,p')"
   ]
  },
  {
   "cell_type": "code",
   "execution_count": 363,
   "id": "3d4ed36d",
   "metadata": {},
   "outputs": [],
   "source": [
    "TT1 = [\n",
    "     [0,\t1,\t0,\t1,\t0],\n",
    "     [0,\t0,\t0,\t0,\t0],\n",
    "     [0,\t1,\t0,\t1,\t0],\n",
    "     [0,\t0,\t0,\t0,\t0],\n",
    "     [0,\t1,\t0,\t1,\t0]\n",
    "]\n",
    "TT2 = [\n",
    "     [0, 1],\n",
    "     [2, 0]\n",
    "]\n",
    "TT3 = [[0]]\n",
    "\n",
    "TT = [TT1, TT2, TT3]"
   ]
  },
  {
   "attachments": {},
   "cell_type": "markdown",
   "id": "462fd2fc",
   "metadata": {},
   "source": [
    "### 1.14) Realizations\n",
    "\n",
    "      A_JB1,1     = {O_(JB1,LAM1,M1,1); O_(JB1,LAM2,M1,1); O_(JB1,B1,M2,1)}\n",
    "                  = [O[0], O[2], O[4]]\n",
    "      A_JB1,2 = {O_(JB1,LAM1,M1,2); O_(JB1,LAM2,M1,2); O_(JB1,B1,M3,1)}\n",
    "                  = [O[1], O[3], O[5]]\n",
    "      A_JB2,1 = {O_(JB2,LAM1,M1,1); O_(JB2,B2,M2,1)}\n",
    "                  = [O[6], O[7]]\n",
    "\n",
    "      O_(JB1,LAM1,M1,1)     ~   O_(J0,P2,M0,1) ~ O[0]\n",
    "      O_(JB1,LAM1,M1,2)     ~   O_(J0,P2,M0,2) ~ O[1]\n",
    "      O_(JB1,LAM2,M1,1)     ~   O_(J0,P3,M0,1) ~ O[2]\n",
    "      O_(JB1,LAM2,M1,2)     ~   O_(J0,P3,M0,2) ~ O[3]\n",
    "      O_(JB1,B1,M2,1)       ~   O_(J0,P0,M1,1) ~ O[4]\n",
    "      O_(JB1,B1,M3,1)       ~   O_(J0,P0,M2,1) ~ O[5]\n",
    "      O_(JB2,LAM1,M1,1)     ~   O_(J1,P2,M0,1) ~ O[6]\n",
    "      O_(JB2,B2,M2,1)       ~   O_(J1,P1,M1,1) ~ O[7]\n"
   ]
  },
  {
   "cell_type": "code",
   "execution_count": 364,
   "id": "5341fa88",
   "metadata": {},
   "outputs": [],
   "source": [
    "A = [\n",
    "     [O[0], O[2], O[4]],\n",
    "     [O[1], O[3], O[5]],\n",
    "     [O[6], O[7]]\n",
    "]"
   ]
  },
  {
   "attachments": {},
   "cell_type": "markdown",
   "id": "3dbfffc6",
   "metadata": {},
   "source": [
    "1.14.1) Precedences (operations)\n",
    "\n",
    "      A_JB1,1:\n",
    "          O_(JB1,LAM1,M1,1) -> O_(JB1,B1,M2,1)\n",
    "          O_(JB1,LAM2,M1,1) -> O_(JB1,B1,M2,1)\n",
    "      A_JB1,2:\n",
    "          O_(JB1,LAM1,M1,2) -> O_(JB1,B1,M3,1)\n",
    "          O_(JB1,LAM2,M1,2) -> O_(JB1,B1,M3,1)\n",
    "      A_JB2,1:\n",
    "          O_(JB2,LAM1,M1,1) -> O_(JB2,B2,M2,1)"
   ]
  },
  {
   "cell_type": "code",
   "execution_count": 365,
   "id": "3ede19a6",
   "metadata": {},
   "outputs": [],
   "source": [
    "prec = [\n",
    "          [O[0], O[4]],\n",
    "          [O[2], O[4]],\n",
    "          [O[1], O[5]],\n",
    "          [O[3], O[5]],\n",
    "          [O[6], O[7]],\n",
    "]"
   ]
  },
  {
   "attachments": {},
   "cell_type": "markdown",
   "id": "c4793a6d",
   "metadata": {},
   "source": [
    "### 1.15) Costs K\n",
    "\n",
    "1.15.1) K1 = 500 (K0) for both jobs\n",
    "\n",
    "1.15.2) K2 = 100 (K1) for both jobs\n",
    "\n",
    "1.15.3) K3 = 1200 (K2) for all machines\n",
    "\n",
    "1.15.4) K4 = 50 (K3) for all machines"
   ]
  },
  {
   "cell_type": "code",
   "execution_count": 366,
   "id": "19b06517",
   "metadata": {},
   "outputs": [],
   "source": [
    "K1 = 500\n",
    "K2 = 100\n",
    "K3 = 1200\n",
    "K4 = 50"
   ]
  },
  {
   "cell_type": "code",
   "execution_count": 367,
   "id": "599060ab",
   "metadata": {},
   "outputs": [
    {
     "name": "stdout",
     "output_type": "stream",
     "text": [
      "None\n"
     ]
    }
   ],
   "source": [
    "index_of_JB1 = get_index(J,\"JB2\") # ejemplo para obtener el indice de una variable\n",
    "print(index_of_JB1)"
   ]
  },
  {
   "attachments": {},
   "cell_type": "markdown",
   "id": "7087b28c",
   "metadata": {},
   "source": [
    "## (2) Variables"
   ]
  },
  {
   "attachments": {},
   "cell_type": "markdown",
   "id": "b29e64c5",
   "metadata": {},
   "source": [
    "### Variable Classes"
   ]
  },
  {
   "cell_type": "code",
   "execution_count": 368,
   "id": "aadf5c04",
   "metadata": {},
   "outputs": [],
   "source": [
    "#Start Time\n",
    "class S:\n",
    "    def __init__(self, operation: Operation)->None:\n",
    "        self.operation = operation\n",
    "\n",
    "    def __str__(self) -> str:\n",
    "        return f\"S{{{self.operation}}}\"\n",
    "    \n",
    "    def __eq__(self, __value: object) -> bool:\n",
    "        return type(__value) == type(self) and self.operation == __value.operation\n",
    "    \n",
    "#Start Time qbits\n",
    "class S_q:\n",
    "    def __init__(self, s:S, qbit: int) -> None:\n",
    "        self.s = s\n",
    "        self.qbit = qbit\n",
    "    \n",
    "    def __str__(self) -> str:\n",
    "        return f\"{self.s}_{self.qbit}\"\n",
    "\n",
    "    def __eq__(self, __value: object) -> bool:\n",
    "        return type(__value) == type(self) and self.s == __value.s and self.qbit == __value.qbit\n",
    "    \n",
    "#Time Interval\n",
    "class L:\n",
    "    def __init__(self, operation:Operation)->None:\n",
    "        self.operation = operation\n",
    "\n",
    "    def __str__(self) -> str:\n",
    "        return f\"L{{{self.operation}}}\"\n",
    "    \n",
    "    def __eq__(self, __value: object) -> bool:\n",
    "        return type(__value) == type(self) and self.operation == __value.operation\n",
    "    \n",
    "#Time Interval qbits\n",
    "class L_q:\n",
    "    def __init__(self, l:L, qbit: int) -> None:\n",
    "        self.l = l\n",
    "        self.qbit = qbit\n",
    "    \n",
    "    def __str__(self) -> str:\n",
    "        return f\"{self.l}_{self.qbit}\"\n",
    "\n",
    "    def __eq__(self, __value: object) -> bool:\n",
    "        return type(__value) == type(self) and self.l == __value.l and self.qbit == __value.qbit\n",
    "    \n",
    "#Job Finish Time\n",
    "class E:\n",
    "    def __init__(self, job: Job) -> None:\n",
    "        self.job = job\n",
    "    \n",
    "    def __str__(self) -> str:\n",
    "        return f\"E{{{self.job}}}\"\n",
    "\n",
    "    def __eq__(self, __value: object) -> bool:\n",
    "        return type(__value) == type(self) and self.job == __value.job\n",
    "    \n",
    "#Job Finish Time qbits\n",
    "class E_q:\n",
    "    def __init__(self, e:E, qbit: int) -> None:\n",
    "        self.e = e\n",
    "        self.qbit = qbit\n",
    "    \n",
    "    def __str__(self) -> str:\n",
    "        return f\"{self.e}_{self.qbit}\"\n",
    "\n",
    "    def __eq__(self, __value: object) -> bool:\n",
    "        return type(__value) == type(self) and self.e == __value.e and self.qbit == __value.qbit\n",
    "\n",
    "#on time\n",
    "class d:\n",
    "    def __init__(self, job: Job) -> None:\n",
    "        self.job = job\n",
    "\n",
    "    def __str__(self) -> str:\n",
    "        return f\"d{{{self.job}}}\"\n",
    "\n",
    "    def __eq__(self, __value: object) -> bool:\n",
    "        return type(__value) == type(self) and self.job == __value.job\n",
    "    \n",
    "\n",
    "#Operation Not Done\n",
    "class bz:\n",
    "    def __init__(self, l:L)->None:\n",
    "        self.l = l\n",
    "\n",
    "    def __str__(self) -> str:\n",
    "        return f\"bz{{{self.l}}}\"\n",
    "    \n",
    "    def __eq__(self, __value: object) -> bool:\n",
    "        return type(__value) == type(self) and self.l == __value.l\n",
    "\n",
    "#X Matrix Elements\n",
    "class X:\n",
    "    def __init__(self, operation:Operation, k: int)->None:\n",
    "        self.operation = operation\n",
    "        self.k = k\n",
    "\n",
    "    def __str__(self) -> str:\n",
    "        return f\"X^{self.operation.machine}({{{self.operation.to_x_index()}}}, {self.k})\"\n",
    "    \n",
    "    def __eq__(self, __value: object) -> bool:\n",
    "        return type(__value) == type(self) and self.operation == __value.operation and self.k == __value.k\n",
    "    \n",
    "    def same(self, __value: object) -> bool:\n",
    "        return type(__value) == type(self) and self.operation.machine == __value.operation.machine\n",
    "    \n",
    "    def matrix_name(self) -> str:\n",
    "        return f\"X^{self.operation.machine}\"\n",
    "    \n",
    "#Null column indicator on X^m\n",
    "class u:\n",
    "    def __init__(self, machine: Machine, k : int) -> None:\n",
    "        self.machine = machine\n",
    "        self.k = k\n",
    "    \n",
    "    def __str__(self) -> str:\n",
    "        return f\"u_{{{','.join((str(self.machine), str(self.k)))}}}\"\n",
    "\n",
    "    def __eq__(self, __value: object) -> bool:\n",
    "        return type(__value) == type(self) and self.machine == __value.machine and self.k == __value.k\n",
    "    \n",
    "#Auxiliary variable for quadratic interactions between X and L o S (name: y if S, z if L)\n",
    "class AuxQuadXLS:\n",
    "    def __init__(self,operation:Operation, k: int, qbit:int, name:str)->None:\n",
    "        self.operation = operation\n",
    "        self.k = k\n",
    "        self.qbit = qbit\n",
    "        self.name = name\n",
    "\n",
    "    def __str__(self) -> str:\n",
    "        return f\"{self.name}^{self.operation.machine}({{{self.operation.to_x_index()}}}, {self.k})_{self.qbit}\"\n",
    "    \n",
    "    def __eq__(self, __value: object) -> bool:\n",
    "        return type(__value) == type(self) and self.operation == __value.operation and self.k == __value.k\\\n",
    "            and self.name ==__value.name and self.qbit == __value.qbit\n",
    "    \n",
    "#Auxiliary variable for quadratic interactions between X'S\n",
    "class AuxQuadXs:\n",
    "    def __init__(self, operation1:Operation, operation2:Operation, k:int)->None:\n",
    "        self.operation1 = operation1\n",
    "        self.operation2 = operation2\n",
    "        self.k = k\n",
    "\n",
    "    def __str__(self) -> str:\n",
    "        return f\"w^{self.operation1.machine}({','.join((self.operation1.to_x_index(), self.operation2.to_x_index(), str(self.k)))})\"\n",
    "    \n",
    "    def __eq__(self, __value: object) -> bool:\n",
    "        return type(__value) == type(self) and self.operation1 == __value.operation1 and \\\n",
    "            self.operation2 == __value.operation2\n",
    "    \n",
    "class slack:\n",
    "    def __init__(self, constraint: str, id: any, qbit:int) -> None:\n",
    "        self.constraint = constraint\n",
    "        self.id = id\n",
    "        self.qbit = qbit\n",
    "\n",
    "    def __str__(self) -> str:\n",
    "        return f\"slack_{self.constraint}_{self.id}_{self.qbit}\"\n",
    "    \n",
    "    def __eq__(self, __value: object) -> bool:\n",
    "        return type(__value) == type(self) and self.constraint == __value.constraint \\\n",
    "            and self.id == __value.id and self.qbit == __value.qbit\n",
    "    \n",
    "    def same(self, __value: object) -> bool:\n",
    "        return type(__value) == type(self) and self.constraint == __value.constraint \\\n",
    "            and self.id == __value.id\n",
    "\n",
    "    def full_slack_string(self) -> str:\n",
    "        return f\"slack_{self.constraint}_{self.id}\""
   ]
  },
  {
   "cell_type": "code",
   "execution_count": 369,
   "id": "a55ff587",
   "metadata": {},
   "outputs": [],
   "source": [
    "x = []  # all variables vector"
   ]
  },
  {
   "attachments": {},
   "cell_type": "markdown",
   "id": "c35cbe18",
   "metadata": {},
   "source": [
    "### 2.1) Start Time: S_jpms (4qb)"
   ]
  },
  {
   "cell_type": "code",
   "execution_count": 370,
   "id": "a3e6c951",
   "metadata": {},
   "outputs": [],
   "source": [
    "S_list = []\n",
    "for o in O:\n",
    "    S_list.append(S(o))"
   ]
  },
  {
   "attachments": {},
   "cell_type": "markdown",
   "id": "0c05c391",
   "metadata": {},
   "source": [
    "2.1.1) qubit digits:\n",
    "\n",
    "    {S_jpms}_q (binary variable) for each q = 0,1,2,3\n",
    "    S_jpms = sum_q ( 2^q * {S_jpms}_q )"
   ]
  },
  {
   "cell_type": "code",
   "execution_count": 371,
   "id": "fef6e9d0",
   "metadata": {},
   "outputs": [],
   "source": [
    "S_q_list = []\n",
    "for s in S_list:\n",
    "    for q in range(qb_amount):\n",
    "        S_q_list.append(S_q(s,q))\n",
    "\n",
    "x.extend(S_q_list)"
   ]
  },
  {
   "attachments": {},
   "cell_type": "markdown",
   "id": "93f7ac7c",
   "metadata": {},
   "source": [
    "### 2.2) Time Interval: L_jpms (4qb)"
   ]
  },
  {
   "cell_type": "code",
   "execution_count": 372,
   "id": "a94eca95",
   "metadata": {},
   "outputs": [],
   "source": [
    "L_list = []\n",
    "for o in O:\n",
    "    L_list.append(L(o))"
   ]
  },
  {
   "attachments": {},
   "cell_type": "markdown",
   "id": "1b1eb973",
   "metadata": {},
   "source": [
    "2.2.1) qubit digits:\n",
    "\n",
    "    {L_jpms}_q (binary variable) for each q = 0,1,2,3\n",
    "    L_jpms = sum_q ( 2^q * {L_jpms}_q )"
   ]
  },
  {
   "cell_type": "code",
   "execution_count": 373,
   "id": "2b8ece19",
   "metadata": {},
   "outputs": [],
   "source": [
    "L_q_list = []\n",
    "for l in L_list:\n",
    "    for q in range(qb_amount):\n",
    "        L_q_list.append(L_q(l, q))\n",
    "\n",
    "x.extend(L_q_list)"
   ]
  },
  {
   "attachments": {},
   "cell_type": "markdown",
   "id": "c8c3166d",
   "metadata": {},
   "source": [
    "### 2.3) Job finish time / Dummy operation start time:\n",
    "\n",
    "    E_j (4qb)"
   ]
  },
  {
   "cell_type": "code",
   "execution_count": 374,
   "id": "2594af45",
   "metadata": {},
   "outputs": [],
   "source": [
    "E_list = []\n",
    "for j in J:\n",
    "    E_list.append(E(j))"
   ]
  },
  {
   "attachments": {},
   "cell_type": "markdown",
   "id": "cdbff535",
   "metadata": {},
   "source": [
    "2.3.1) qubit digits:\n",
    "\n",
    "    {E_j}_q (binary variable) for each q = 0,1,2,3\n",
    "      E_JB1 = sum_q ( 2^q * {E_JB1}_q )\n",
    "      E_JB2 = S_(JB2,B2,M2,1) + L_(JB2,B2,M2,1)   ((((DEFINED BY OTHER VARIABLES))))\n"
   ]
  },
  {
   "cell_type": "code",
   "execution_count": 375,
   "id": "803225bd",
   "metadata": {},
   "outputs": [],
   "source": [
    "E_q_list = []\n",
    "for e in E_list:\n",
    "    for q in range(qb_amount):\n",
    "        E_q_list.append(E_q(e,q))\n",
    "\n",
    "x.extend(E_q_list)"
   ]
  },
  {
   "attachments": {},
   "cell_type": "markdown",
   "id": "8735a62a",
   "metadata": {},
   "source": [
    "### 2.4) Job excess time:\n",
    "\n",
    "      delta_j^max = E_j - D_j    ((((Not needed, replaceable by E_j -  D_j ))))"
   ]
  },
  {
   "attachments": {},
   "cell_type": "markdown",
   "id": "932576a8",
   "metadata": {},
   "source": [
    "### 2.5) \"On time\" binary variable:\n",
    "\n",
    "      d_j = ( E_j <= D_j )"
   ]
  },
  {
   "cell_type": "code",
   "execution_count": 376,
   "id": "e2ce74e3",
   "metadata": {},
   "outputs": [],
   "source": [
    "d_list = []\n",
    "for j in J:\n",
    "    d_list.append(d(j))\n",
    "\n",
    "x.extend(d_list)"
   ]
  },
  {
   "attachments": {},
   "cell_type": "markdown",
   "id": "886099de",
   "metadata": {},
   "source": [
    "### 2.6) Operation not done / discarded / null operation:\n",
    "\n",
    "      bz_jpms = (\"O_jpms discarded\") = (L_jpms == 0)"
   ]
  },
  {
   "cell_type": "code",
   "execution_count": 377,
   "id": "e2cdc271",
   "metadata": {},
   "outputs": [],
   "source": [
    "bz_list = []\n",
    "for l in L_list:\n",
    "    bz_list.append(bz(l))\n",
    "    \n",
    "x.extend(bz_list)"
   ]
  },
  {
   "attachments": {},
   "cell_type": "markdown",
   "id": "b1df7418",
   "metadata": {},
   "source": [
    "### 2.7) Null operations amount in machine m:\n",
    "\n",
    "      ntz_m = sum_jps( bz_jpms )      (((always replaceable by the sum)))\n",
    "\n",
    "### 2.8) The X matrix: X^m, for each machine m\n",
    "\n",
    "      X^m_(jpms, k) = (\"O_jpms is done in k-th place in machine m\")\n",
    "      X^M1, 5x5       \n",
    "      X^M2, 2x2\n",
    "      X^M3, 1x1\n",
    "      (((( X^m_(jpms, k) = 0 if k > o_m - ntz_m ))))"
   ]
  },
  {
   "cell_type": "code",
   "execution_count": 378,
   "id": "824eaf42",
   "metadata": {},
   "outputs": [],
   "source": [
    "X_list = []\n",
    "\n",
    "for m in M:\n",
    "    for k in range(len(OM[M.index(m)])):\n",
    "        for o in OM[M.index(m)]:\n",
    "            X_list.append(X(o, k+1))\n",
    "\n",
    "\n",
    "x.extend(X_list)"
   ]
  },
  {
   "attachments": {},
   "cell_type": "markdown",
   "id": "ef38aef8",
   "metadata": {},
   "source": [
    "### 2.9) Null column indicator in X^m matrix\n",
    "\n",
    "      u_mk = ( k <= o_m - ntz_m)"
   ]
  },
  {
   "cell_type": "code",
   "execution_count": 379,
   "id": "8cc73d52",
   "metadata": {},
   "outputs": [],
   "source": [
    "u_list = []\n",
    "m_index = 0\n",
    "for m in M:\n",
    "    for k in range(len(OM[m_index])):\n",
    "        u_list.append(u(m, k+1))\n",
    "    m_index += 1\n",
    "\n",
    "x.extend(u_list)"
   ]
  },
  {
   "attachments": {},
   "cell_type": "markdown",
   "id": "10a75154",
   "metadata": {},
   "source": [
    "### 2.10) Auxiliary variables for quadratic constraints\n",
    "\n",
    "(*) i and j represents a set of indexes (j,p,m,s) of an operation\n",
    "\n",
    "2.10.1)\n",
    "\n",
    "    y^m_ikq = X^m_(i,k) * {S_i}_q\n",
    "\n",
    "2.10.2)\n",
    "\n",
    "    z^m_ikq = X^m_(i,k) * {L_i}_q"
   ]
  },
  {
   "cell_type": "code",
   "execution_count": 380,
   "id": "3e1372c0",
   "metadata": {},
   "outputs": [],
   "source": [
    "y = []\n",
    "z = []\n",
    "\n",
    "m_index = 0\n",
    "for m in M:\n",
    "    for o in OM[m_index]:\n",
    "        for k in range(len(OM[m_index])):\n",
    "            for q in range(qb_amount):\n",
    "                y.append(AuxQuadXLS(o,k+1,q,\"y\"))\n",
    "                z.append(AuxQuadXLS(o,k+1,q,\"z\"))\n",
    "    m_index += 1\n",
    "\n",
    "# x.extend(y)\n",
    "# x.extend(z)"
   ]
  },
  {
   "attachments": {},
   "cell_type": "markdown",
   "id": "497f212b",
   "metadata": {},
   "source": [
    "2.10.3)\n",
    "\n",
    "    w^m_ijk = X^m_(i,k) * X^m_(j,k+1)"
   ]
  },
  {
   "cell_type": "code",
   "execution_count": 381,
   "id": "f520b7d8",
   "metadata": {},
   "outputs": [],
   "source": [
    "w = []\n",
    "\n",
    "m_index = 0\n",
    "for m in M:\n",
    "    for o1 in OM[m_index]:\n",
    "        for o2 in OM[m_index]:\n",
    "            if len(OM[m_index])>1 and o1 != o2:\n",
    "                for k in range(len(OM[m_index])):\n",
    "                    w.append(AuxQuadXs(o1, o2, k+1))\n",
    "    m_index += 1\n",
    "\n",
    "# x.extend(w)\n"
   ]
  },
  {
   "attachments": {},
   "cell_type": "markdown",
   "id": "89448ee3",
   "metadata": {},
   "source": [
    "\n",
    "### 2.11) Slack variables"
   ]
  },
  {
   "cell_type": "code",
   "execution_count": 382,
   "id": "3aff514c",
   "metadata": {},
   "outputs": [],
   "source": [
    "for l_q in L_q_list:\n",
    "    x.append(slack(\"2\", l_q.l, l_q.qbit))\n",
    "\n",
    "for e in E_list:\n",
    "    for q in range(qb_amount):\n",
    "        x.append(slack(\"3\", e, q))\n",
    "\n",
    "for u_mk in u_list:\n",
    "    m_op_list = OM[M.index(u_mk.machine)]\n",
    "    n = math.ceil(math.log2(max(u_mk.k, len(m_op_list) - u_mk.k + 1)))\n",
    "    for q in range(n):\n",
    "        x.append(slack(\"6\", u_mk, q))\n",
    "\n",
    "for p in prec:\n",
    "    for q in range(qb_amount):\n",
    "        x.append(slack(\"7_1\", p[0], q))\n",
    "\n",
    "for j in J:\n",
    "    for of in j.final_operations:\n",
    "        for q in range(qb_amount):\n",
    "            x.append(slack(\"7_1_1\", of, q))\n"
   ]
  },
  {
   "cell_type": "code",
   "execution_count": 383,
   "id": "2e75b03d",
   "metadata": {},
   "outputs": [
    {
     "name": "stdout",
     "output_type": "stream",
     "text": [
      "['S{JB1,LAM1,M1,1}_0', 'S{JB1,LAM1,M1,1}_1', 'S{JB1,LAM1,M1,1}_2', 'S{JB1,LAM1,M1,1}_3', 'S{JB1,LAM1,M1,2}_0', 'S{JB1,LAM1,M1,2}_1', 'S{JB1,LAM1,M1,2}_2', 'S{JB1,LAM1,M1,2}_3', 'S{JB1,LAM2,M1,1}_0', 'S{JB1,LAM2,M1,1}_1', 'S{JB1,LAM2,M1,1}_2', 'S{JB1,LAM2,M1,1}_3', 'S{JB1,LAM2,M1,2}_0', 'S{JB1,LAM2,M1,2}_1', 'S{JB1,LAM2,M1,2}_2', 'S{JB1,LAM2,M1,2}_3', 'S{JB1,B1,M2}_0', 'S{JB1,B1,M2}_1', 'S{JB1,B1,M2}_2', 'S{JB1,B1,M2}_3', 'S{JB1,B1,M3}_0', 'S{JB1,B1,M3}_1', 'S{JB1,B1,M3}_2', 'S{JB1,B1,M3}_3', 'S{JB2,LAM1,M1}_0', 'S{JB2,LAM1,M1}_1', 'S{JB2,LAM1,M1}_2', 'S{JB2,LAM1,M1}_3', 'S{JB2,B2,M2}_0', 'S{JB2,B2,M2}_1', 'S{JB2,B2,M2}_2', 'S{JB2,B2,M2}_3', 'L{JB1,LAM1,M1,1}_0', 'L{JB1,LAM1,M1,1}_1', 'L{JB1,LAM1,M1,1}_2', 'L{JB1,LAM1,M1,1}_3', 'L{JB1,LAM1,M1,2}_0', 'L{JB1,LAM1,M1,2}_1', 'L{JB1,LAM1,M1,2}_2', 'L{JB1,LAM1,M1,2}_3', 'L{JB1,LAM2,M1,1}_0', 'L{JB1,LAM2,M1,1}_1', 'L{JB1,LAM2,M1,1}_2', 'L{JB1,LAM2,M1,1}_3', 'L{JB1,LAM2,M1,2}_0', 'L{JB1,LAM2,M1,2}_1', 'L{JB1,LAM2,M1,2}_2', 'L{JB1,LAM2,M1,2}_3', 'L{JB1,B1,M2}_0', 'L{JB1,B1,M2}_1', 'L{JB1,B1,M2}_2', 'L{JB1,B1,M2}_3', 'L{JB1,B1,M3}_0', 'L{JB1,B1,M3}_1', 'L{JB1,B1,M3}_2', 'L{JB1,B1,M3}_3', 'L{JB2,LAM1,M1}_0', 'L{JB2,LAM1,M1}_1', 'L{JB2,LAM1,M1}_2', 'L{JB2,LAM1,M1}_3', 'L{JB2,B2,M2}_0', 'L{JB2,B2,M2}_1', 'L{JB2,B2,M2}_2', 'L{JB2,B2,M2}_3', 'E{JB1}_0', 'E{JB1}_1', 'E{JB1}_2', 'E{JB1}_3', 'E{JB2}_0', 'E{JB2}_1', 'E{JB2}_2', 'E{JB2}_3', 'd{JB1}', 'd{JB2}', 'bz{L{JB1,LAM1,M1,1}}', 'bz{L{JB1,LAM1,M1,2}}', 'bz{L{JB1,LAM2,M1,1}}', 'bz{L{JB1,LAM2,M1,2}}', 'bz{L{JB1,B1,M2}}', 'bz{L{JB1,B1,M3}}', 'bz{L{JB2,LAM1,M1}}', 'bz{L{JB2,B2,M2}}', 'X^M1({JB1,LAM1,1}, 1)', 'X^M1({JB1,LAM1,2}, 1)', 'X^M1({JB1,LAM2,1}, 1)', 'X^M1({JB1,LAM2,2}, 1)', 'X^M1({JB2,LAM1}, 1)', 'X^M1({JB1,LAM1,1}, 2)', 'X^M1({JB1,LAM1,2}, 2)', 'X^M1({JB1,LAM2,1}, 2)', 'X^M1({JB1,LAM2,2}, 2)', 'X^M1({JB2,LAM1}, 2)', 'X^M1({JB1,LAM1,1}, 3)', 'X^M1({JB1,LAM1,2}, 3)', 'X^M1({JB1,LAM2,1}, 3)', 'X^M1({JB1,LAM2,2}, 3)', 'X^M1({JB2,LAM1}, 3)', 'X^M1({JB1,LAM1,1}, 4)', 'X^M1({JB1,LAM1,2}, 4)', 'X^M1({JB1,LAM2,1}, 4)', 'X^M1({JB1,LAM2,2}, 4)', 'X^M1({JB2,LAM1}, 4)', 'X^M1({JB1,LAM1,1}, 5)', 'X^M1({JB1,LAM1,2}, 5)', 'X^M1({JB1,LAM2,1}, 5)', 'X^M1({JB1,LAM2,2}, 5)', 'X^M1({JB2,LAM1}, 5)', 'X^M2({JB1,B1}, 1)', 'X^M2({JB2,B2}, 1)', 'X^M2({JB1,B1}, 2)', 'X^M2({JB2,B2}, 2)', 'X^M3({JB1,B1}, 1)', 'u_{M1,1}', 'u_{M1,2}', 'u_{M1,3}', 'u_{M1,4}', 'u_{M1,5}', 'u_{M2,1}', 'u_{M2,2}', 'u_{M3,1}', 'slack_2_L{JB1,LAM1,M1,1}_0', 'slack_2_L{JB1,LAM1,M1,1}_1', 'slack_2_L{JB1,LAM1,M1,1}_2', 'slack_2_L{JB1,LAM1,M1,1}_3', 'slack_2_L{JB1,LAM1,M1,2}_0', 'slack_2_L{JB1,LAM1,M1,2}_1', 'slack_2_L{JB1,LAM1,M1,2}_2', 'slack_2_L{JB1,LAM1,M1,2}_3', 'slack_2_L{JB1,LAM2,M1,1}_0', 'slack_2_L{JB1,LAM2,M1,1}_1', 'slack_2_L{JB1,LAM2,M1,1}_2', 'slack_2_L{JB1,LAM2,M1,1}_3', 'slack_2_L{JB1,LAM2,M1,2}_0', 'slack_2_L{JB1,LAM2,M1,2}_1', 'slack_2_L{JB1,LAM2,M1,2}_2', 'slack_2_L{JB1,LAM2,M1,2}_3', 'slack_2_L{JB1,B1,M2}_0', 'slack_2_L{JB1,B1,M2}_1', 'slack_2_L{JB1,B1,M2}_2', 'slack_2_L{JB1,B1,M2}_3', 'slack_2_L{JB1,B1,M3}_0', 'slack_2_L{JB1,B1,M3}_1', 'slack_2_L{JB1,B1,M3}_2', 'slack_2_L{JB1,B1,M3}_3', 'slack_2_L{JB2,LAM1,M1}_0', 'slack_2_L{JB2,LAM1,M1}_1', 'slack_2_L{JB2,LAM1,M1}_2', 'slack_2_L{JB2,LAM1,M1}_3', 'slack_2_L{JB2,B2,M2}_0', 'slack_2_L{JB2,B2,M2}_1', 'slack_2_L{JB2,B2,M2}_2', 'slack_2_L{JB2,B2,M2}_3', 'slack_3_E{JB1}_0', 'slack_3_E{JB1}_1', 'slack_3_E{JB1}_2', 'slack_3_E{JB1}_3', 'slack_3_E{JB2}_0', 'slack_3_E{JB2}_1', 'slack_3_E{JB2}_2', 'slack_3_E{JB2}_3', 'slack_6_u_{M1,1}_0', 'slack_6_u_{M1,1}_1', 'slack_6_u_{M1,1}_2', 'slack_6_u_{M1,2}_0', 'slack_6_u_{M1,2}_1', 'slack_6_u_{M1,3}_0', 'slack_6_u_{M1,3}_1', 'slack_6_u_{M1,4}_0', 'slack_6_u_{M1,4}_1', 'slack_6_u_{M1,5}_0', 'slack_6_u_{M1,5}_1', 'slack_6_u_{M1,5}_2', 'slack_6_u_{M2,1}_0', 'slack_6_u_{M2,2}_0', 'slack_7_1_JB1,LAM1,M1,1_0', 'slack_7_1_JB1,LAM1,M1,1_1', 'slack_7_1_JB1,LAM1,M1,1_2', 'slack_7_1_JB1,LAM1,M1,1_3', 'slack_7_1_JB1,LAM2,M1,1_0', 'slack_7_1_JB1,LAM2,M1,1_1', 'slack_7_1_JB1,LAM2,M1,1_2', 'slack_7_1_JB1,LAM2,M1,1_3', 'slack_7_1_JB1,LAM1,M1,2_0', 'slack_7_1_JB1,LAM1,M1,2_1', 'slack_7_1_JB1,LAM1,M1,2_2', 'slack_7_1_JB1,LAM1,M1,2_3', 'slack_7_1_JB1,LAM2,M1,2_0', 'slack_7_1_JB1,LAM2,M1,2_1', 'slack_7_1_JB1,LAM2,M1,2_2', 'slack_7_1_JB1,LAM2,M1,2_3', 'slack_7_1_JB2,LAM1,M1_0', 'slack_7_1_JB2,LAM1,M1_1', 'slack_7_1_JB2,LAM1,M1_2', 'slack_7_1_JB2,LAM1,M1_3', 'slack_7_1_1_JB1,B1,M2_0', 'slack_7_1_1_JB1,B1,M2_1', 'slack_7_1_1_JB1,B1,M2_2', 'slack_7_1_1_JB1,B1,M2_3', 'slack_7_1_1_JB1,B1,M3_0', 'slack_7_1_1_JB1,B1,M3_1', 'slack_7_1_1_JB1,B1,M3_2', 'slack_7_1_1_JB1,B1,M3_3', 'slack_7_1_1_JB2,B2,M2_0', 'slack_7_1_1_JB2,B2,M2_1', 'slack_7_1_1_JB2,B2,M2_2', 'slack_7_1_1_JB2,B2,M2_3']\n",
      "206\n"
     ]
    }
   ],
   "source": [
    "\n",
    "\n",
    "print([str(k) for k in x])\n",
    "print(len(x))\n"
   ]
  },
  {
   "attachments": {},
   "cell_type": "markdown",
   "id": "a1464a33",
   "metadata": {},
   "source": [
    "## (3) Cost: Objective Function (OF)\n",
    "\n",
    "minimize 3.1) + 3.2) + 3.3) = \n",
    "\n",
    "        sum_jpms( (1 - bz_jpms)*(K3_m + K4_m*L_jpms) ) +\n",
    "        sum_mk,jps,j'i's' ( X^m_jps,k-1 * TC^m_i,i' * X^m_j'i's',k ) +\n",
    "        sum_j( (1 - d_j) * ( K1_j + K2_j*(E_j - D_j) ) )"
   ]
  },
  {
   "cell_type": "code",
   "execution_count": 384,
   "id": "9cf6f211",
   "metadata": {},
   "outputs": [],
   "source": [
    "#initializar matriz Q\n",
    "Q = np.zeros((len(x), len(x)))"
   ]
  },
  {
   "attachments": {},
   "cell_type": "markdown",
   "id": "cb089e6f",
   "metadata": {},
   "source": [
    "\n",
    "<h3>3.1) production cost</h3>\n"
   ]
  },
  {
   "cell_type": "code",
   "execution_count": 385,
   "id": "49c091bc",
   "metadata": {},
   "outputs": [],
   "source": [
    "Q_FO1 = [] # lista de indices y valor a sumar, ejemplo: [[1,2,16], [1,1,31], [4,3,-10]]\n",
    "# para cada valor nuevo de Q para la dupla de variables i,j se agrega a la lista de Q_FO1 con add_Q_value(x, q_list, i, j, value)"
   ]
  },
  {
   "attachments": {},
   "cell_type": "markdown",
   "id": "da6fe429",
   "metadata": {},
   "source": [
    "$$\\sum_{jpms}( (1 - bz_{jpms})*(K3_m + K4_m*\\sum_{q}(2^q*{L_{jpms}}_q)) ) = $$\n",
    "\n",
    "  sum_jpms {\n",
    "\n",
    "      K3_m                   //constant, NOT CONSIDERED IN THE OF\n",
    "\n",
    "    }\n"
   ]
  },
  {
   "cell_type": "code",
   "execution_count": 386,
   "id": "9686741b",
   "metadata": {},
   "outputs": [
    {
     "name": "stdout",
     "output_type": "stream",
     "text": [
      "9600\n"
     ]
    }
   ],
   "source": [
    "C_FO1 = K3*len(O)   # constant of FO1\n",
    "print(C_FO1)"
   ]
  },
  {
   "attachments": {},
   "cell_type": "markdown",
   "id": "ada92cb0",
   "metadata": {},
   "source": [
    "\n",
    "  \\+ sum_jpms {\n",
    "\n",
    "      - K3_m * bz_jpms\n",
    "\n",
    "    }\n",
    "    \n",
    "      -> Q_{bz_jpms, bz_jpms} = - K3_m         for all operation jpms"
   ]
  },
  {
   "cell_type": "code",
   "execution_count": 387,
   "id": "526bf3ef",
   "metadata": {},
   "outputs": [],
   "source": [
    "for var in bz_list:\n",
    "    add_Q_value(x, Q_FO1, var, var, -K3)"
   ]
  },
  {
   "attachments": {},
   "cell_type": "markdown",
   "id": "a9b4a44f",
   "metadata": {},
   "source": [
    "\\+ sum_jpmsq {\n",
    "  \n",
    "    K4_m * 2^q * {L_jpms}_q\n",
    "\n",
    "  }\n",
    "  \n",
    "    -> Q_{L_jpms_q, L_jpms_q} = K4_m * 2^q         for all operation jpms, and bit q\n"
   ]
  },
  {
   "cell_type": "code",
   "execution_count": 388,
   "id": "198151f5",
   "metadata": {},
   "outputs": [],
   "source": [
    "# for lq in L_q:\n",
    "#     add_Q_value(x, Q_FO1, lq, lq, K4 * 2 ** (int(lq[-1])))\n",
    "\n",
    "for l in L_list:\n",
    "    for q in range(qb_amount):\n",
    "        lq = L_q(l, q)\n",
    "        add_Q_value(x, Q_FO1, lq, lq, K4 * 2**q)"
   ]
  },
  {
   "attachments": {},
   "cell_type": "markdown",
   "id": "aac3a00c",
   "metadata": {},
   "source": [
    "\\+ sum_jpmsq {\n",
    "\n",
    "    - K4_m * bz_jpms * 2^q * {L_jpms}_q\n",
    "\n",
    "  }\n",
    "  \n",
    "    -> Q_{bz_jpms, L_jpms_q} = -1/2 * K4_m * 2^q         for all operation jpms, and bit q\n"
   ]
  },
  {
   "cell_type": "code",
   "execution_count": 389,
   "id": "c411a5dc",
   "metadata": {},
   "outputs": [],
   "source": [
    "\n",
    "for i in range(len(O)):\n",
    "    var = bz_list[i]\n",
    "    l = L_list[i]\n",
    "    for q in range(qb_amount):\n",
    "        add_Q_value(x, Q_FO1, var, L_q(l,q) , -(1/2) * K4 * 2**q)\n",
    "\n",
    "# print(Q_FO1)\n",
    "# update_Q(Q, Q_FO1)"
   ]
  },
  {
   "attachments": {},
   "cell_type": "markdown",
   "id": "aea96d49",
   "metadata": {},
   "source": [
    "<h3>3.2) transition cost</h3>\n",
    "\n",
    "$$\\sum_{mk,jps,j'i's'} ( X^{m}_{jps,k-1} * TC^{m}_{i,i'} * X^{m}_{j'i's',k} ) = $$\n",
    "\n",
    "    sum_m {\n",
    "      sum_k {\n",
    "        sum_i,i' {\n",
    "          TC^m_i,i' * sum_(js)(j's') {\n",
    "            X^m_(jps, k - 1) * X^m_(j'i's', k)   //quadratic (X^2)\n",
    "          }\n",
    "        }\n",
    "      }\n",
    "    }\n",
    "\n",
    "    -> Q_{X^m_(jps, k - 1), X^m_(j'i's', k)} = 1/2 * TC^m_i,i'  \n",
    "    \n",
    "         for all m=1,2,3; column k; i,i'=1,2,...8; j,j'=1,2; s,s'=1,2\n",
    "         \n",
    "      ~ add_Q_value(x, Q_FO2, X^m_(jps, k-1)), X^m_(j'i's', k), 1/2 * TC^m_i,i')"
   ]
  },
  {
   "cell_type": "code",
   "execution_count": 390,
   "id": "2c273fbd",
   "metadata": {},
   "outputs": [],
   "source": [
    "\n",
    "Q_FO2 = []\n",
    "\n",
    "m_index = 0\n",
    "for m in M:\n",
    "    if len(OM[m_index])>1:\n",
    "        for k in range(len(OM[m_index])):\n",
    "            for o1 in OM[m_index]:\n",
    "                for o2 in OM[m_index]:\n",
    "                    new_value = (1/2) * TC[m_index] [get_index(P,o1.product)] [get_index(P,o2.product)]\n",
    "                    if o1 != o2 and new_value != 0:\n",
    "                        add_Q_value(x,Q_FO2,\n",
    "                                    X(o1,k),\n",
    "                                    X(o2,k+1),\n",
    "                                    new_value)\n",
    "    m_index += 1\n",
    "            \n",
    "# update_Q(Q, Q_FO2)"
   ]
  },
  {
   "attachments": {},
   "cell_type": "markdown",
   "id": "4e1650c3",
   "metadata": {},
   "source": [
    "<h3>3.3) out of time cost</h3>"
   ]
  },
  {
   "cell_type": "code",
   "execution_count": 391,
   "id": "d87731fc",
   "metadata": {},
   "outputs": [],
   "source": [
    "Q_FO3 = []"
   ]
  },
  {
   "attachments": {},
   "cell_type": "markdown",
   "id": "aff7d636",
   "metadata": {},
   "source": [
    "  $$\\sum_{j}( (1 - d_j) * ( K1_j + K2_j*(E_j - D_j) ) ) =$$\n",
    "\n",
    "    sum_j {\n",
    "      K1^j - K2^j * D_j       //constant, NOT CONSIDERED IN THE OF\n",
    "    }\n"
   ]
  },
  {
   "cell_type": "code",
   "execution_count": 392,
   "id": "c21b28f5",
   "metadata": {},
   "outputs": [
    {
     "name": "stdout",
     "output_type": "stream",
     "text": [
      "-1100\n"
     ]
    }
   ],
   "source": [
    "C_FO3 = 0    \n",
    "\n",
    "for j in J:\n",
    "    C_FO3 += K1 - K2*j.deadline     # constant of FO3\n",
    "\n",
    "print(C_FO3)"
   ]
  },
  {
   "attachments": {},
   "cell_type": "markdown",
   "id": "2e53c955",
   "metadata": {},
   "source": [
    "\n",
    "  \\+ sum_j {\n",
    "\n",
    "    - ( K1^j - K2^j * D_j ) * d_j   //linear (d_j)\n",
    "\n",
    "  }\n",
    "  \n",
    "      -> Q_{d_j} = K2^j * D_j - K1^j   for all j=1,2\n",
    "\n"
   ]
  },
  {
   "cell_type": "code",
   "execution_count": 393,
   "id": "ec1171d8",
   "metadata": {},
   "outputs": [],
   "source": [
    "for d_j in d_list:\n",
    "    job = d_j.job\n",
    "    new_value = K2 * job.deadline - K1\n",
    "    add_Q_value(x, Q_FO3, d_j, d_j, new_value)"
   ]
  },
  {
   "attachments": {},
   "cell_type": "markdown",
   "id": "201efdf1",
   "metadata": {},
   "source": [
    "\\+ sum_jq {\n",
    "\n",
    "    2^q * K2^j * {E_j}_q   //linear (digits of E_j)\n",
    "\n",
    "  }\n",
    "  \n",
    "      -> Q_{E_j_q} = 2^q * K2^j   for all j=1,2; q=0,1,2,3"
   ]
  },
  {
   "cell_type": "code",
   "execution_count": 394,
   "id": "391c5726",
   "metadata": {},
   "outputs": [],
   "source": [
    "for e in E_list:\n",
    "    for q in range(qb_amount):\n",
    "        new_value = (2**q) * K2\n",
    "        e_q = E_q(e,q)\n",
    "        add_Q_value(x, Q_FO3, e_q, e_q, new_value)"
   ]
  },
  {
   "attachments": {},
   "cell_type": "markdown",
   "id": "73f87231",
   "metadata": {},
   "source": [
    "\\+ sum_jq {\n",
    "\n",
    "    - 2^q * K2^j * d_j * {E_j}_q    //quadratic (d*E)\n",
    "    \n",
    "  }\n",
    "\n",
    "      -> Q_{d_j, E_j_q} = -1/2 * 2^q * K2^j   for all j=1,2; q=0,1,2,3"
   ]
  },
  {
   "cell_type": "code",
   "execution_count": 395,
   "id": "f3354d47",
   "metadata": {},
   "outputs": [
    {
     "name": "stdout",
     "output_type": "stream",
     "text": [
      "None\n",
      "None\n",
      "None\n",
      "74\n"
     ]
    }
   ],
   "source": [
    "for e in E_list:\n",
    "    d_j = d_list[E_list.index(e)]\n",
    "    for q in range(qb_amount):\n",
    "        new_value = -(1/2) * (2**q) * K2\n",
    "        add_Q_value(x, Q_FO3, d_j, E_q(e,q), new_value)\n",
    "        # print(Q_FO3)\n",
    "\n",
    "# update_Q(Q, Q_FO3)\n",
    "\n",
    "print(get_Q_value(Q, x, X(Operation(\"JB1\",\"LAM1\",\"M1\",1),1), X(Operation(\"JB1\",\"LAM1\",\"M1\",2),2)))\n",
    "print(get_Q_value(Q, x, X(Operation(\"JB1\",\"LAM1\",\"M1\",1),1), X(Operation(\"JB1\",\"LAM1\",\"M1\",1),2)))\n",
    "print(get_Q_value(Q, x, d(\"JB2\"), d(\"JB2\")))\n",
    "print(get_variable_index(x, bz_list[0]))\n",
    "\n",
    "# print_Q_nonZero(Q, x)\n"
   ]
  },
  {
   "cell_type": "code",
   "execution_count": 396,
   "id": "522a5c53",
   "metadata": {},
   "outputs": [
    {
     "name": "stdout",
     "output_type": "stream",
     "text": [
      "8500\n"
     ]
    }
   ],
   "source": [
    "C_FO = C_FO1 + C_FO3 # constant of FO\n",
    "print(C_FO)"
   ]
  },
  {
   "cell_type": "code",
   "execution_count": 397,
   "id": "6dfd2802",
   "metadata": {},
   "outputs": [],
   "source": [
    "# sampleset = sendToDwave(Q, 10)\n",
    "# samples_dict = count_elements(sampleset, len(Q))\n",
    "# make_histogram(samples_dict)\n",
    "\n"
   ]
  },
  {
   "cell_type": "code",
   "execution_count": 398,
   "id": "586999a1",
   "metadata": {},
   "outputs": [],
   "source": [
    "# for i in x:\n",
    "#     print(f\"{i} = {lowest_energy(sampleset)[0][x.index(i)]}\")"
   ]
  },
  {
   "cell_type": "code",
   "execution_count": 399,
   "id": "46c496bf",
   "metadata": {},
   "outputs": [],
   "source": [
    "# vector=[]\n",
    "# for i in x:\n",
    "#     vector.append(1 if (isinstance(i, bz) or isinstance(i, d) or isinstance(i, E_q)) else 0)\n",
    "# print(vector)\n",
    "# print(np.sum(vector))\n",
    "# vector = np.array(vector)\n",
    "# print(vector.T@Q@vector)\n",
    "# vector = np.array(lowest_energy(sampleset)[0])\n",
    "# print(vector.T@Q@vector)"
   ]
  },
  {
   "attachments": {},
   "cell_type": "markdown",
   "id": "1873aded",
   "metadata": {},
   "source": [
    "## (4) Constraints\n"
   ]
  },
  {
   "attachments": {},
   "cell_type": "markdown",
   "id": "3e3edb05",
   "metadata": {},
   "source": [
    "\n",
    "### 4.1) Products demands"
   ]
  },
  {
   "attachments": {},
   "cell_type": "markdown",
   "id": "31bf516e",
   "metadata": {},
   "source": [
    "#### 4.1.1) Precedent operations\n",
    "\n",
    "$$ L_{jpms} = \\sum_{s'} { L_{jp'm's'}} $$\n",
    "for all precedent operations O_{jp'm'}\n",
    "    \n",
    "    (*) speed = 1 always\n",
    "    (*) alpha = 1 always (precedent product requirements)\n",
    "\n",
    "    L_(JB1,B1,M2,1) = L_(JB1,LAM1,M1,1)\n",
    "    L_(JB1,B1,M2,1) = L_(JB1,LAM2,M1,1)\n",
    "\n",
    "    L_(JB1,B1,M3,1) = L_(JB1,LAM1,M1,2)\n",
    "    L_(JB1,B1,M3,1) = L_(JB1,LAM2,M1,2)\n",
    "\n",
    "    L_(JB2,B2,M2,1) = L_(JB2,LAM1,M1,1)\n"
   ]
  },
  {
   "cell_type": "code",
   "execution_count": 400,
   "id": "6f18af81",
   "metadata": {},
   "outputs": [],
   "source": [
    "# Q = np.zeros((len(x), len(x)))\n",
    "Q_C1 = []\n",
    "for p in prec:\n",
    "    \n",
    "    pre = p[0]\n",
    "    suc = p[1]\n",
    "    \n",
    "    vars = []\n",
    "    a = []\n",
    "    for q in range(qb_amount):\n",
    "        vars.append(L_q(L(suc), q))\n",
    "        a.append(2**q)\n",
    "    for q in range(qb_amount):\n",
    "        vars.append(L_q(L(pre), q))\n",
    "        a.append(-2**q)\n",
    "\n",
    "    Q_C1.extend(linear_constraint(x, vars, a))\n",
    "\n",
    "# print(Q_C1)\n",
    "P_C1 = 2000\n",
    "update_Q(Q, Q_C1, P_C1)\n",
    "# print_Q_nonZero(Q, x)\n"
   ]
  },
  {
   "attachments": {},
   "cell_type": "markdown",
   "id": "502be265",
   "metadata": {},
   "source": [
    "##### 4.1.1.1) Precedent constraints on variables bz (optional)\n",
    "  \n",
    "    bz_i' = 1 if bz_i = 1 for all precedent operations i' -> i\n",
    "\n",
    "  Penalty: bz_i *(1 - bz_i')\n",
    "  \n",
    "    bz_(JB1,B1,M2,1) * (1 - bz_(JB1,LAM1,M1,1) )\n",
    "    bz_(JB1,B1,M2,1) * (1 - bz_(JB1,LAM2,M1,1) )\n",
    "    bz_(JB1,B1,M3,1) * (1 - bz_(JB1,LAM1,M1,2) )\n",
    "    bz_(JB1,B1,M3,1) * (1 - bz_(JB1,LAM2,M1,2) )\n",
    "    bz_(JB2,B2,M2,1) * (1 - bz_(JB2,LAM1,M1,1) )"
   ]
  },
  {
   "attachments": {},
   "cell_type": "markdown",
   "id": "f0799d34",
   "metadata": {},
   "source": [
    "#### 4.1.2) Total amount of job\n",
    "\n",
    "  $$ a_j = \\sum_{ms} {L_{j(p_j)ms}} $$\n",
    "    \n",
    "  (*) p_j = final product of job j\n",
    "\n",
    "    a_j = sum_ms {L_j(p_j)ms}\n",
    "    a_JB1 = L_(JB1,B1,M2,1) + L_(JB1,B1,M3,1)\n",
    "    a_JB2 = L_(jB2,B2,M2,1)"
   ]
  },
  {
   "cell_type": "code",
   "execution_count": 401,
   "id": "e98743c9",
   "metadata": {},
   "outputs": [],
   "source": [
    "# Q = np.zeros((len(x), len(x)))\n",
    "\n",
    "Q_C1_2 = []\n",
    "\n",
    "for j in J:\n",
    "    b = j.amount\n",
    "    vars = []\n",
    "    a = []\n",
    "    for of in j.final_operations:\n",
    "        for q in range(qb_amount):\n",
    "            vars.append(L_q(L(of), q))\n",
    "            a.append(2**q)\n",
    "    \n",
    "    Q_C1_2.extend(linear_constraint(x, vars, a, b))\n",
    "\n",
    "P_C1_2 = P_C1\n",
    "# print(Q_C1_2)\n",
    "update_Q(Q, Q_C1_2, P_C1_2)\n",
    "# print_Q_nonZero(Q, x)\n"
   ]
  },
  {
   "attachments": {},
   "cell_type": "markdown",
   "id": "d246ea0a",
   "metadata": {},
   "source": [
    "\n",
    "### 4.2) Definition of bz\n",
    "\n",
    "$$ bz_{jpms} = 1\\times(L_{jpms} = 0) $$\n",
    "\n",
    "    bz := (L <= 0)\n",
    "    (L + Mbz - 1 - slack)^2\n",
    "    M >= {L_max; 1 - L_min}\n",
    "         -> M = 16\n",
    "    slack_max = M - 1 = 15 (4qb)\n",
    "\n",
    "$$ P {(L_{jpms} + M \\times bz_{jpms} - 1 - slack)} ^2 $$"
   ]
  },
  {
   "cell_type": "code",
   "execution_count": 402,
   "id": "15c093ab",
   "metadata": {},
   "outputs": [],
   "source": [
    "# (L + M*bz - 1 - slack)^2\n",
    "M0 = 16\n",
    "Q_C2 = []\n",
    "\n",
    "b = 1\n",
    "\n",
    "for bz_var in bz_list:\n",
    "\n",
    "    vars = []\n",
    "    a = []\n",
    "    \n",
    "    for q in range(qb_amount):\n",
    "        vars.append(L_q(bz_var.l, q))\n",
    "        a.append(2**q)\n",
    "    \n",
    "    vars.append(bz_var)\n",
    "    a.append(M0)\n",
    "\n",
    "    for q in range(qb_amount):\n",
    "        vars.append(slack(\"2\", bz_var.l, q))\n",
    "        a.append(-2**q)\n",
    "    \n",
    "    Q_C2.extend(linear_constraint(x, vars, a, b))\n",
    "\n",
    "\n",
    "# print(Q_C2)\n",
    "# print(len(Q_C2))\n",
    "# for q in Q_C2:\n",
    "#     print(x[q[0]], x[q[1]], q[2])\n",
    "P_C2 = P_C1\n",
    "update_Q(Q, Q_C2, P_C2)\n",
    "# print_Q_nonZero(Q,x)\n",
    "\n"
   ]
  },
  {
   "cell_type": "code",
   "execution_count": 403,
   "id": "9b367b97",
   "metadata": {},
   "outputs": [],
   "source": [
    "# Q_coef = 1\n",
    "# sampleset = sendToDwave(Q_coef * Q, 150, beta_range=(0.01, 7))\n",
    "# samples_dict = count_elements(sampleset, len(Q))\n",
    "# make_histogram(samples_dict)\n",
    "\n",
    "# for i in x:\n",
    "#     print(f\"{i} = {lowest_energy(sampleset)[0][x.index(i)]}\")\n",
    "\n"
   ]
  },
  {
   "cell_type": "code",
   "execution_count": 404,
   "id": "4db197ba",
   "metadata": {},
   "outputs": [],
   "source": [
    "# print(lowest_energy(sampleset)[1])\n",
    "# print_all_variables(lowest_energy(sampleset)[0], x, S_q, L_q, E_q, slack, qb_amount)"
   ]
  },
  {
   "attachments": {},
   "cell_type": "markdown",
   "id": "510a0dd3",
   "metadata": {},
   "source": [
    "  \n",
    "### 4.3) Definition of d_j\n",
    "\n",
    "$$ d_j = 1 \\times ( E_j \\leq D_j ) $$\n",
    "\n",
    "(delta_j^max not considered)\n",
    "\n",
    "    E_j - D_j >= 1 - M*d_j\n",
    "    -> (E_j - D_j + M*d_j - 1 - slack)^2\n",
    "  con slack <= M - 1      \\\\\\\\ con M = 16, alcanza un slack de 4 qb (slack maximo = 15)\n"
   ]
  },
  {
   "cell_type": "code",
   "execution_count": 405,
   "id": "a69ea1d9",
   "metadata": {},
   "outputs": [],
   "source": [
    "# (E_j - D_j + M*d_j - 1 - slack)^2\n",
    "\n",
    "# FALTA CHEQUEAR !!!!!!\n",
    "M0 = 16\n",
    "Q_C3 = []\n",
    "\n",
    "for e in E_list:\n",
    "    j = e.job\n",
    "\n",
    "    b = 1 + j.deadline\n",
    "    vars = []\n",
    "    a = []\n",
    "    \n",
    "    for q in range(qb_amount):\n",
    "        vars.append(E_q(e, q))\n",
    "        a.append(2**q)\n",
    "    \n",
    "    vars.append(d(j))\n",
    "    a.append(M0)\n",
    "\n",
    "    for q in range(qb_amount):\n",
    "        vars.append(slack(\"3\", e, q))\n",
    "        a.append(-2**q)\n",
    "    \n",
    "    Q_C3.extend(linear_constraint(x, vars, a, b))\n",
    "\n",
    "\n",
    "P_C3 = 2000\n",
    "update_Q(Q, Q_C3, P_C3)\n"
   ]
  },
  {
   "attachments": {},
   "cell_type": "markdown",
   "id": "608b6936",
   "metadata": {},
   "source": [
    "\n",
    "### 4.4) Definition of ntz_m\n",
    "\n",
    "    ntz_m = sum_jps( bz_jpms )  (((((( not necessary ))))))\n"
   ]
  },
  {
   "attachments": {},
   "cell_type": "markdown",
   "id": "c89804c4",
   "metadata": {},
   "source": [
    "\n",
    "<h3>4.5) Definition of X^m matrices.</h3>\n",
    "Null row for each null operation\n",
    "\n",
    "    sum_k ( X^m_(jps,k) ) = 1 - bz_jpms\n"
   ]
  },
  {
   "cell_type": "code",
   "execution_count": 406,
   "id": "ef7313a8",
   "metadata": {},
   "outputs": [],
   "source": [
    "# (sum_k ( X^m_(jps,k) ) + bz_jpms - 1)^2\n",
    "# Q = np.zeros((len(x), len(x)))\n",
    "\n",
    "Q_C5 = []\n",
    "\n",
    "for o in O:\n",
    "\n",
    "    b = 1\n",
    "    vars = []\n",
    "    a = []\n",
    "    \n",
    "    for k in range(len(OM[M.index(o.machine)])):\n",
    "        vars.append(X(o, k+1))\n",
    "        a.append(1)\n",
    "\n",
    "    vars.append(bz(L(o)))\n",
    "    a.append(1)\n",
    "    \n",
    "    Q_C5.extend(linear_constraint(x, vars, a, b))\n",
    "\n",
    "\n",
    "P_C5 = 2000\n",
    "# print(Q_C5)\n",
    "update_Q(Q, Q_C5, P_C5)\n",
    "# print_Q_nonZero(Q,x)\n"
   ]
  },
  {
   "attachments": {},
   "cell_type": "markdown",
   "id": "2d6c8a5b",
   "metadata": {},
   "source": [
    "\n",
    "### 4.6) Definition of u_mk\n",
    "\n",
    "$$ u_{mk} = 1\\times( k <= o_m - \\sum_{jps} {bz_{jpms}} ) $$\n",
    "\n",
    "    for all m and k\n",
    "    \n",
    "      k <= o_m - sum(bz)\n",
    "      -> (k - o_m + sum(bz) + M * u_mk - 1 - slack)^2\n",
    "      -> slack_max = M - 1\n",
    "      -> M >= max{ k , 1 - k + o_m }"
   ]
  },
  {
   "cell_type": "code",
   "execution_count": 407,
   "id": "c01c7ce3",
   "metadata": {},
   "outputs": [],
   "source": [
    "Q_C6 = []\n",
    "\n",
    "# for all m and k    \n",
    "# (k - o_m + sum(bz) + M * u_mk - 1 - slack)^2\n",
    "# slack_max = M - 1\n",
    "# M >= max{ k , 1 - k + o_m }\n",
    "# b = o_m - k + 1\n",
    "# slack de n qubits:\n",
    "#   M = 2^n\n",
    "#   n = techo{ log2(max{k,1-k+o_m}) } = techo{ log2(max{k,b}) }\n",
    "\n",
    "for u_mk in u_list:\n",
    "\n",
    "    m = u_mk.machine\n",
    "    k = u_mk.k\n",
    "\n",
    "    m_op_list = OM[M.index(m)]\n",
    "    \n",
    "    b = len(m_op_list) - k + 1\n",
    "    vars = []\n",
    "    a = []\n",
    "\n",
    "    n = math.ceil(math.log2(max(k, b)))\n",
    "    M_u = 2**n\n",
    "\n",
    "    for o in m_op_list:\n",
    "        vars.append(bz(L(o)))\n",
    "        a.append(1)\n",
    "\n",
    "    for q in range(n):\n",
    "        vars.append(slack(\"6\", u_mk, q))\n",
    "        a.append(-2**q)\n",
    "\n",
    "    vars.append(u_mk)\n",
    "    a.append(M_u)\n",
    "\n",
    "    Q_C6.extend(linear_constraint(x, vars, a, b))\n",
    "    \n",
    "\n",
    "P_C6 = P_C5\n",
    "# print(Q_C6)\n",
    "update_Q(Q, Q_C6, P_C6)\n",
    "# print_Q_nonZero(Q,x)\n",
    "      \n"
   ]
  },
  {
   "attachments": {},
   "cell_type": "markdown",
   "id": "abfe880a",
   "metadata": {},
   "source": [
    "\n",
    "#### 4.6.1) X columns with only one \"1\" or none\n",
    "  $$ \\sum_{jps} { X^m_{jps,k} } = u_{mk} $$\n",
    "    for all m and k\n"
   ]
  },
  {
   "cell_type": "code",
   "execution_count": 408,
   "id": "33f722e5",
   "metadata": {},
   "outputs": [],
   "source": [
    "Q_C6_1 = []\n",
    "\n",
    "# ( sum_jps {X^m_(jps,k)} - u_mk )^2\n",
    "\n",
    "for u_mk in u_list:\n",
    "\n",
    "    m = u_mk.machine\n",
    "    k = u_mk.k\n",
    "\n",
    "    m_op_list = OM[M.index(m)]\n",
    "        \n",
    "    vars = []\n",
    "    a = []\n",
    "\n",
    "    for o in m_op_list:\n",
    "        vars.append(X(o,k))\n",
    "        a.append(1)\n",
    "        \n",
    "    vars.append(u_mk)\n",
    "    a.append(-1)\n",
    "\n",
    "    Q_C6_1.extend(linear_constraint(x, vars, a))\n",
    "\n",
    "P_C6_1 = P_C6\n",
    "# print(Q_C6_1)\n",
    "update_Q(Q, Q_C6_1, P_C6_1)\n",
    "# print_Q_nonZero(Q,x)"
   ]
  },
  {
   "cell_type": "code",
   "execution_count": 409,
   "id": "29a9b814",
   "metadata": {},
   "outputs": [],
   "source": [
    "# gp_model = gp.Model()\n",
    "# xv = np.array([[gp_model.addVar(vtype = gp.GRB.BINARY, name = f'x{i}') for i in range(len(x))]])\n",
    "# obj = (xv*np.matrix(Q)*np.transpose(xv))[0,0]\n",
    "# gp_model.params.NonConvex = -1\n",
    "# gp_model.setParam(\"TimeLimit\", 120)\n",
    "# gp_model.setObjective(obj, gp.GRB.MINIMIZE)\n",
    "# gp_model.optimize()\n",
    "# result = np.array([var.x for var in gp_model.getVars()])"
   ]
  },
  {
   "cell_type": "code",
   "execution_count": 410,
   "id": "bc2d354c",
   "metadata": {},
   "outputs": [],
   "source": [
    "# print((result@np.matrix(Q)@np.transpose(result))[0,0])\n",
    "# print_all_variables(result, x, S_q, L_q, E_q, slack, X, qb_amount)\n"
   ]
  },
  {
   "cell_type": "code",
   "execution_count": 411,
   "id": "8dde3486",
   "metadata": {},
   "outputs": [],
   "source": [
    "# result_2 = [[x[gp_model.getVars().index(var)], var.x] for var in gp_model.getVars()]\n",
    "# i = 0\n",
    "# for v in result_2:\n",
    "#     x_var = x[result_2.index(v)]\n",
    "#     print(x_var)\n",
    "#     if x_var == u(M[1], 1):\n",
    "#         v = 1\n",
    "#         i = result_2.index(v)\n",
    "\n",
    "# print(i)\n",
    "# print(result_2[i])\n",
    "\n",
    "# print((result_2@np.matrix(Q)@np.transpose(result_2))[0,0])\n",
    "# print_all_variables(result, x, S_q, L_q, E_q, slack, X, qb_amount)\n"
   ]
  },
  {
   "attachments": {},
   "cell_type": "markdown",
   "id": "ac7f5083",
   "metadata": {},
   "source": [
    "\n",
    "### 4.7) Precedence restriction\n",
    "\n",
    "#### 4.7.1) By precedence\n",
    "\n",
    "$$ S_{jp'm's'} \\geq S_{jpms} + L_{jpms} $$\n",
    "    for all precedences pms -> p'm's'\n",
    "\n",
    "    (S_jp'm's' - S_jpms - L_jpms - slack)^2\n"
   ]
  },
  {
   "cell_type": "code",
   "execution_count": 412,
   "id": "d6401fa7",
   "metadata": {},
   "outputs": [],
   "source": [
    "\n",
    "Q_C7_1 = []\n",
    "for p in prec:\n",
    "    \n",
    "    pre = p[0]\n",
    "    suc = p[1]\n",
    "    \n",
    "    vars = []\n",
    "    a = []\n",
    "    for q in range(qb_amount):\n",
    "        vars.append(S_q(S(suc), q))\n",
    "        a.append(2**q)\n",
    "    for q in range(qb_amount):\n",
    "        vars.append(S_q(S(pre), q))\n",
    "        a.append(-2**q)\n",
    "    for q in range(qb_amount):\n",
    "        vars.append(L_q(L(pre), q))\n",
    "        a.append(-2**q)\n",
    "    for q in range(qb_amount):\n",
    "        vars.append(slack(\"7_1\", pre, q))\n",
    "        a.append(-2**q)\n",
    "\n",
    "    Q_C7_1.extend(linear_constraint(x, vars, a))\n",
    "\n",
    "# print(Q_C7_1)\n",
    "P_C7_1 = 2000\n",
    "update_Q(Q, Q_C7_1, P_C7_1)\n",
    "# print_Q_nonZero(Q, x)"
   ]
  },
  {
   "attachments": {},
   "cell_type": "markdown",
   "id": "c201d3d3",
   "metadata": {},
   "source": [
    "\n",
    "##### 4.7.1.1) Final dummy operation\n",
    "\n",
    "$$ E_j \\geq S_{jp_{j}ms} + L_{jp_{j}ms} $$\n",
    "\n",
    "    (E_j - S_j(p_j)ms - L_j(p_j)ms - slack)^2\n",
    "    (*) p_j is the final product of job j\n"
   ]
  },
  {
   "cell_type": "code",
   "execution_count": 413,
   "id": "411af320",
   "metadata": {},
   "outputs": [],
   "source": [
    "\n",
    "Q_C7_1_1 = []\n",
    "\n",
    "for j in J:\n",
    "    for of in j.final_operations:\n",
    "        \n",
    "        vars = []\n",
    "        a = []\n",
    "\n",
    "        for q in range(qb_amount):\n",
    "            vars.append(E_q(E(j), q))\n",
    "            a.append(2**q)\n",
    "        for q in range(qb_amount):\n",
    "            vars.append(S_q(S(of), q))\n",
    "            a.append(-2**q)\n",
    "        for q in range(qb_amount):\n",
    "            vars.append(L_q(L(of), q))\n",
    "            a.append(-2**q)\n",
    "        for q in range(qb_amount):\n",
    "            vars.append(slack(\"7_1_1\", of, q))\n",
    "            a.append(-2**q)\n",
    "\n",
    "    Q_C7_1_1.extend(linear_constraint(x, vars, a))\n",
    "\n",
    "# print(Q_C7_1_1)\n",
    "P_C7_1_1 = 2000\n",
    "update_Q(Q, Q_C7_1_1, P_C7_1_1)\n",
    "# print_Q_nonZero(Q, x)"
   ]
  },
  {
   "attachments": {},
   "cell_type": "markdown",
   "id": "ea73578b",
   "metadata": {},
   "source": [
    "\n",
    "#### 4.7.2) Alternatively (+M)\n",
    "\n",
    "$$ S_{jp'm's'} \\geq S_{jpms} + L_{jpms} - M \\times bz_{jpms} $$\n",
    "    \n",
    "    //for all precedences pms -> p'm's'\n",
    "    S_jp'm's' = S_jpms + L_jpms - M * bz_jpms + slack\n",
    "    -> slack_max = max{ S' - S + M } = 15 + M ~ 2*M (5qb)\n",
    "\n",
    "    S' >= S - M\n",
    "    M >= max{S-S'} = 15 -> M = 15 o 16\n"
   ]
  },
  {
   "attachments": {},
   "cell_type": "markdown",
   "id": "fba5c78f",
   "metadata": {},
   "source": [
    "\n",
    "##### 4.7.2.1) Final dummy operation\n",
    "\n",
    "$$ E_j \\geq S_{jp_{j}ms} + L_{jp_{j}ms} - M \\times bz_{jp_{j}ms} $$\n",
    "    for all m, s\n",
    "    E_j = S_j(p_j)ms + L_j(p_j)ms - M * bz_j(p_j)ms + slack\n",
    "    -> slack_max = max{ E - S + M } = 15 + M ~ 2*M (5qb)\n",
    "\n",
    "    M >= S - E iff M >= max{S-E} = 15 -> M = 15 or 16\n"
   ]
  },
  {
   "attachments": {},
   "cell_type": "markdown",
   "id": "073e9f1b",
   "metadata": {},
   "source": [
    "\n",
    "#### 4.7.3) A possible reinforcing constraint\n",
    "\n",
    "$$ \\sum_{k} {X^{m}_{(jp's'),k} \\times k} + M \\times bz_{jp'ms'} \\geq \\sum_{k} {X^m_{(jps)k}\\times k} - M\\times bz_{jpms} $$\n"
   ]
  },
  {
   "cell_type": "code",
   "execution_count": null,
   "id": "6ee2b76e",
   "metadata": {},
   "outputs": [],
   "source": [
    "sampleset = sendToDwaveSampler(Q, 150, beta_range=(0.01, 7))\n",
    "samples_dict = count_elements(sampleset, len(Q))\n",
    "make_histogram(samples_dict)\n",
    "\n",
    "for i in x:\n",
    "    print(f\"{i} = {lowest_energy(sampleset)[0][x.index(i)]}\")"
   ]
  },
  {
   "cell_type": "code",
   "execution_count": 414,
   "id": "f9097a27",
   "metadata": {},
   "outputs": [
    {
     "name": "stdout",
     "output_type": "stream",
     "text": [
      "Set parameter TimeLimit to value 1200\n",
      "Gurobi Optimizer version 10.0.2 build v10.0.2rc0 (win64)\n",
      "\n",
      "CPU model: Intel(R) Core(TM) i7-9750H CPU @ 2.60GHz, instruction set [SSE2|AVX|AVX2]\n",
      "Thread count: 6 physical cores, 12 logical processors, using up to 12 threads\n",
      "\n",
      "Optimize a model with 0 rows, 206 columns and 0 nonzeros\n",
      "Model fingerprint: 0x74573eaa\n",
      "Model has 1680 quadratic objective terms\n",
      "Variable types: 0 continuous, 206 integer (206 binary)\n",
      "Coefficient statistics:\n",
      "  Matrix range     [0e+00, 0e+00]\n",
      "  Objective range  [0e+00, 0e+00]\n",
      "  QObjective range [4e+03, 1e+06]\n",
      "  Bounds range     [1e+00, 1e+00]\n",
      "  RHS range        [0e+00, 0e+00]\n",
      "Found heuristic solution: objective 0.0000000\n",
      "Found heuristic solution: objective -676000.0000\n",
      "Found heuristic solution: objective -680000.0000\n",
      "Presolve removed 0 rows and 6 columns\n",
      "Presolve time: 0.01s\n",
      "Presolved: 0 rows, 200 columns, 0 nonzeros\n",
      "Presolved model has 1707 quadratic objective terms\n",
      "Variable types: 0 continuous, 200 integer (200 binary)\n",
      "\n",
      "Root relaxation: objective -7.268980e+06, 161 iterations, 0.00 seconds (0.00 work units)\n",
      "\n",
      "    Nodes    |    Current Node    |     Objective Bounds      |     Work\n",
      " Expl Unexpl |  Obj  Depth IntInf | Incumbent    BestBd   Gap | It/Node Time\n",
      "\n",
      "     0     0 -7268980.1    0  133 -680000.00 -7268980.1   969%     -    0s\n",
      "H    0     0                    -696000.0000 -7268980.1   944%     -    0s\n",
      "     0     0 -7268980.1    0  133 -696000.00 -7268980.1   944%     -    0s\n",
      "     0     2 -7268980.1    0  133 -696000.00 -7268980.1   944%     -    0s\n",
      "H    3     8                    -700000.0000 -5241831.7   649%   7.0    0s\n",
      "H   33    44                    -710000.0000 -3762445.9   430%   5.0    0s\n",
      "H  112   128                    -712000.0000 -3762445.9   428%   5.9    0s\n",
      "H  167   194                    -716000.0000 -3762445.9   425%   5.9    0s\n",
      "H 1215  1208                    -720000.0000 -3151776.5   338%   4.1    0s\n",
      "H 1374  1193                    -722000.0000 -3151776.5   337%   4.2    0s\n",
      "  1399  1211 -753125.11   53 1169 -722000.00 -3151776.5   337%   4.3    5s\n",
      "  1422  1240 -2847006.4   24 1100 -722000.00 -2956004.8   309%  29.6   10s\n"
     ]
    },
    {
     "name": "stdout",
     "output_type": "stream",
     "text": [
      "  1717  1433 -2351286.9   33  927 -722000.00 -2851012.5   295%  89.6   15s\n",
      "  2009  1575 -2243756.2   38  890 -722000.00 -2851012.5   295%   125   20s\n",
      "  2704  2016 -1718916.4   50  720 -722000.00 -2851012.5   295%   150   25s\n",
      "  3908  2569 -2708896.7   25 1113 -722000.00 -2800544.6   288%   149   30s\n",
      "  4996  3048 -2014808.1   42  741 -722000.00 -2713516.4   276%   146   35s\n",
      "  6245  4299 -1592919.6   39  707 -722000.00 -2676929.8   271%   145   40s\n",
      "  7596  5471 -1737196.6   41  712 -722000.00 -2613238.8   262%   144   46s\n",
      "  9159  6710 -962609.81   63  399 -722000.00 -2592579.1   259%   138   50s\n",
      " 10724  7959 -2285222.1   30  890 -722000.00 -2569389.6   256%   136   56s\n",
      " 13186  9420 -2161073.3   33  875 -722000.00 -2534333.5   251%   130   61s\n",
      " 14081 10191 -2065104.0   31  883 -722000.00 -2525231.3   250%   133   66s\n",
      " 15121 11099 -1827136.0   36  726 -722000.00 -2506419.3   247%   136   71s\n",
      " 16916 12629 -1949605.2   31  979 -722000.00 -2492450.7   245%   134   76s\n",
      " 18431 13836 -1726797.4   39  721 -722000.00 -2480922.9   244%   132   81s\n",
      " 20254 15313 -2252500.5   32  969 -722000.00 -2473234.2   243%   132   87s\n",
      " 21055 16097 -2027457.4   31  985 -722000.00 -2461741.4   241%   131   90s\n",
      " 23299 17840 -2045055.3   32  928 -722000.00 -2445622.5   239%   129   95s\n",
      " 24835 19574 -1718930.5   34  774 -722000.00 -2435768.7   237%   130  101s\n",
      " 27158 21036 -1289988.4   52  526 -722000.00 -2421682.6   235%   129  108s\n",
      " 27969 21817 -1845696.0   36  864 -722000.00 -2413940.9   234%   129  112s\n",
      " 29028 22631 -2014883.1   34  949 -722000.00 -2401695.1   233%   129  116s\n",
      " 30073 23849 -2142259.1   35  865 -722000.00 -2396266.5   232%   129  120s\n",
      " 32908 25925 -1938235.9   34  778 -722000.00 -2384521.3   230%   127  128s\n",
      " 34223 25935 -1932458.4   32  915 -722000.00 -2376345.1   229%   127  145s\n",
      " 35088 26817 -806897.68   70  306 -722000.00 -2370678.4   228%   127  155s\n",
      " 36789 27953 -863045.25   48  133 -722000.00 -2359596.2   227%   126  210s\n",
      " 36799 27960 -2012710.9   33 1249 -722000.00 -2282089.7   216%   126  215s\n",
      " 36814 27970 -888799.89   71 1284 -722000.00 -2153345.3   198%   126  220s\n",
      " 36830 27980 -1050132.0   66 1278 -722000.00 -2106317.9   192%   126  225s\n",
      " 36850 27994 -1010763.2   72 1307 -722000.00 -2060714.5   185%   126  230s\n",
      " 36868 28006 -804666.67   87 1320 -722000.00 -2053096.3   184%   126  235s\n",
      " 36888 28019 -1011085.1   71 1326 -722000.00 -2044942.3   183%   126  240s\n",
      " 36910 28034 -1313276.2   52 1329 -722000.00 -2033342.9   182%   126  245s\n",
      " 36932 28048 -1802332.5   38 1329 -722000.00 -2025341.5   181%   126  250s\n",
      " 36952 28062 -802000.00   80 1330 -722000.00 -2018703.4   180%   126  255s\n",
      " 36974 28076 -2014725.5   32 1320 -722000.00 -2014725.5   179%   126  260s\n",
      " 36993 28089 -1300651.2   57 1322 -722000.00 -2010585.1   178%   126  265s\n",
      " 36999 28098 -1939988.6   32 1171 -722000.00 -2005998.3   178%   127  270s\n",
      " 37035 28130 -1856636.9   35 1143 -722000.00 -1958740.2   171%   128  275s\n",
      " 37158 28217 -1708444.6   39  963 -722000.00 -1958483.7   171%   130  280s\n",
      " 37407 28341 -1546419.8   44  854 -722000.00 -1958483.7   171%   130  286s\n",
      " 37518 28430 -1176015.8   48  667 -722000.00 -1958483.7   171%   132  290s\n",
      " 37851 28632 -1097945.6   56  668 -722000.00 -1958483.7   171%   133  296s\n",
      " 38372 28921 -768928.88   81  360 -722000.00 -1958483.7   171%   133  300s\n",
      " 39012 29230 -1516834.0   44  929 -722000.00 -1921675.2   166%   133  306s\n",
      " 39456 29560 -1704461.8   41  990 -722000.00 -1883824.3   161%   134  310s\n",
      " 40109 29766 -1784452.7   37 1101 -722000.00 -1861426.4   158%   134  315s\n",
      " 40890 30087 -1639172.7   40 1056 -722000.00 -1841747.2   155%   135  321s\n",
      " 41206 30313 -1393543.8   46  812 -722000.00 -1841747.2   155%   135  325s\n",
      " 42010 31058 -1528145.7   44  932 -722000.00 -1816215.6   152%   136  331s\n",
      " 43277 31618 -1358412.8   48  825 -722000.00 -1794384.3   149%   136  336s\n",
      " 44330 31926 -1522669.5   42  955 -722000.00 -1788757.5   148%   136  341s\n",
      " 45845 32646 -1603151.5   38 1111 -722000.00 -1782282.4   147%   135  346s\n",
      " 46914 33364 -1547583.7   42  779 -722000.00 -1765472.1   145%   134  353s\n",
      " 47650 33647 -1702566.9   37 1059 -722000.00 -1758054.7   143%   134  357s\n",
      " 48576 33755     cutoff   73      -722000.00 -1755412.4   143%   134  361s\n",
      " 49649 34273 -1563332.6   42  964 -722000.00 -1742859.2   141%   135  369s\n",
      " 50274 34563 -1543466.6   41  922 -722000.00 -1739472.0   141%   135  373s\n",
      " 51105 34774 -1598113.7   38  935 -722000.00 -1733413.4   140%   135  377s\n",
      " 52362 35387 -1516807.6   40  945 -722000.00 -1723431.1   139%   136  383s\n",
      " 53053 35651 -1566895.0   39  927 -722000.00 -1719410.5   138%   136  387s\n",
      " 53672 35888 -1456852.7   41  935 -722000.00 -1716509.0   138%   136  390s\n",
      " 54240 36925 -1370991.2   49  767 -722000.00 -1712048.8   137%   136  395s\n",
      " 56458 38134 -1408251.3   44  806 -722000.00 -1707131.9   136%   136  403s\n",
      " 57947 38181 -1616912.9   40  991 -722000.00 -1704460.3   136%   136  407s\n",
      " 58652 38446 -1507351.1   43  924 -722000.00 -1698753.0   135%   136  411s\n",
      " 59321 38984 -1436461.9   43  923 -722000.00 -1696753.4   135%   136  418s\n",
      " 60319 39261 -1404901.6   44  925 -722000.00 -1693498.6   135%   136  424s\n",
      " 61146 39744 -1494163.1   42 1009 -722000.00 -1689010.4   134%   137  430s\n",
      " 62140 40629 -1433804.3   41  837 -722000.00 -1683681.9   133%   137  438s\n",
      " 63574 41054 -1432700.6   41  961 -722000.00 -1680321.6   133%   137  445s\n",
      " 64707 41642 -796406.41   97  314 -722000.00 -1676138.6   132%   137  453s\n",
      " 65925 41887 -1462921.2   38  942 -722000.00 -1671860.2   132%   137  459s\n",
      " 66847 42775 -1514972.0   41  868 -722000.00 -1669850.0   131%   137  466s\n",
      " 68327 43676 -1536898.1   43  901 -722000.00 -1664391.3   131%   137  475s\n",
      " 69924 44153 -1301878.3   54  729 -722000.00 -1661905.8   130%   137  484s\n",
      " 71199 44830 -1311588.2   43  763 -722000.00 -1656352.4   129%   137  492s\n",
      " 72835 45336 -1220537.6   46  676 -722000.00 -1654032.9   129%   137  499s\n",
      " 73773 45023 -1272860.7   51  644 -722000.00 -1651044.9   129%   138  500s\n",
      " 74111 46044 -1325106.6   43  831 -722000.00 -1650468.2   129%   138  508s\n",
      " 75604 46276 -1279716.6   44  872 -722000.00 -1646455.1   128%   138  515s\n",
      " 76637 46987 -1481588.5   44  940 -722000.00 -1640255.3   127%   138  523s\n",
      " 77907 47672 -1363322.0   44  759 -722000.00 -1637270.0   127%   138  532s\n",
      " 79288 48305 -1532569.4   41  931 -722000.00 -1633773.4   126%   138  540s\n",
      " 80672 48870 -1467525.2   39  924 -722000.00 -1629740.6   126%   138  547s\n",
      " 81956 48904 -1417562.6   45  999 -722000.00 -1625917.0   125%   138  555s\n",
      " 82528 50060 -1463679.4   41 1011 -722000.00 -1625440.9   125%   138  563s\n",
      " 84115 50147 -1037787.6   79  420 -722000.00 -1623711.6   125%   138  571s\n",
      " 85162 50642 -817104.97   73  522 -722000.00 -1620615.1   124%   138  579s\n",
      " 86309 51323 -1112620.4   49  721 -722000.00 -1617357.8   124%   138  587s\n",
      " 87682 51589 -1448656.3   41  867 -722000.00 -1614125.1   124%   137  595s\n",
      " 88713 52340 -1370129.2   47  886 -722000.00 -1611786.2   123%   138  604s\n",
      " 90150 52875 -1486043.9   43  920 -722000.00 -1607570.0   123%   138  612s\n",
      " 91447 54157 -1362137.4   47  792 -722000.00 -1604610.2   122%   138  621s\n",
      " 94038 54298 -1379495.0   42  793 -722000.00 -1602020.3   122%   137  629s\n",
      " 95341 54959 -1462178.9   42  913 -722000.00 -1598545.6   121%   137  637s\n",
      " 96744 55431 -1327823.8   45  964 -722000.00 -1595182.2   121%   137  646s\n",
      " 97934 56152 -1390431.9   43  867 -722000.00 -1592792.2   121%   137  653s\n",
      " 99295 56815 -1342493.3   43  937 -722000.00 -1588891.2   120%   137  660s\n",
      " 100670 57641 -1406755.6   43  905 -722000.00 -1585916.0   120%   137  668s\n",
      " 102175 58232 -1376122.9   41  911 -722000.00 -1584994.9   120%   137  675s\n",
      " 103560 58771 -1420456.1   43  971 -722000.00 -1581231.1   119%   137  682s\n",
      " 104811 59411 -1365585.2   44  889 -722000.00 -1578699.5   119%   137  687s\n",
      " 106161 59600 -1338708.6   47  828 -722000.00 -1576341.6   118%   137  693s\n",
      " 106980 60271 -1253673.3   52  880 -722000.00 -1574261.5   118%   137  699s\n",
      " 108189 61024 -986183.62   64  513 -722000.00 -1571729.5   118%   137  705s\n",
      " 109590 61554 -1303283.7   51  770 -722000.00 -1569657.0   117%   137  711s\n",
      " 110907 61935 -1353024.4   41  880 -722000.00 -1567276.2   117%   137  718s\n",
      " 111979 62909     cutoff   63      -722000.00 -1566102.2   117%   137  724s\n",
      " 113690 62966 -1303881.0   46  877 -722000.00 -1563119.1   116%   137  728s\n",
      " 114616 63565 -1297652.8   51  780 -722000.00 -1560341.9   116%   137  734s\n",
      " 115794 64423 -1389479.5   43  835 -722000.00 -1558000.3   116%   137  740s\n",
      " 117375 65069 -1205898.5   45  909 -722000.00 -1555857.6   115%   137  746s\n",
      " 118814 66172 -1373022.9   45  871 -722000.00 -1553198.2   115%   137  751s\n",
      " 120708 66582 -1345026.2   44  953 -722000.00 -1551657.8   115%   136  757s\n",
      " 122013 67201 -1037876.0   67  642 -722000.00 -1549263.4   115%   136  763s\n",
      " 123101 68291 -1394828.0   42 1015 -722000.00 -1547243.1   114%   136  769s\n",
      " 124431 68462 -777998.33   75  323 -722000.00 -1545895.4   114%   136  789s\n",
      " 124675 69601 -1302904.3   47  747 -722000.00 -1545791.2   114%   136  794s\n",
      " 126107 70479 -1309597.6   45  876 -722000.00 -1543797.9   114%   136  801s\n",
      " 127220 71042 -1262687.1   43  743 -722000.00 -1540531.2   113%   136  806s\n",
      " 128048 71997 -1351792.7   41  942 -722000.00 -1538667.3   113%   136  812s\n",
      " 129386 73049 -1286313.5   42  806 -722000.00 -1536411.5   113%   136  817s\n",
      " 130707 74071 -1391663.7   42  961 -722000.00 -1534002.3   112%   136  824s\n",
      " 132068 75299 -1366907.5   42  853 -722000.00 -1532442.4   112%   136  831s\n",
      " 133611 76322 -1340972.8   43  714 -722000.00 -1530721.5   112%   136  836s\n",
      " 134953 77376 -942689.37   62  594 -722000.00 -1528114.7   112%   136  842s\n",
      " 136325 78280 -1000516.3   64  589 -722000.00 -1526214.0   111%   136  848s\n",
      " 137821 79131 -909109.09   53  600 -722000.00 -1524341.3   111%   136  854s\n",
      " 138969 80459 -845582.28   74  323 -722000.00 -1522291.1   111%   136  860s\n",
      " 140578 81064 -1197672.0   42  858 -722000.00 -1520586.0   111%   135  865s\n",
      " 141445 82073 -1269417.5   51  737 -722000.00 -1519397.8   110%   136  872s\n",
      " 142737 83166 -1369598.1   44  873 -722000.00 -1517312.3   110%   136  878s\n",
      " 144090 84738 -1157938.0   54  700 -722000.00 -1516308.9   110%   136  886s\n",
      " 145974 85798 -1236521.6   41  821 -722000.00 -1514426.2   110%   135  891s\n",
      " 147308 86806 -1333587.5   42  888 -722000.00 -1513374.0   110%   135  897s\n",
      " 148606 87997 -887699.73   57  505 -722000.00 -1511903.9   109%   135  903s\n",
      " 150130 89047 -1014693.0   71  491 -722000.00 -1510726.9   109%   135  910s\n",
      " 151456 89813     cutoff   62      -722000.00 -1509162.2   109%   135  915s\n",
      " 152505 91235 -1145472.2   59  761 -722000.00 -1507644.3   109%   135  922s\n",
      " 154229 92171 -1171365.4   46  911 -722000.00 -1506749.1   109%   134  928s\n",
      " 155363 93139 -734685.24   83  328 -722000.00 -1505514.1   109%   134  934s\n",
      " 156802 94000 -1229817.0   46  814 -722000.00 -1504315.5   108%   134  939s\n",
      " 158090 94967 -1289034.1   47  948 -722000.00 -1503185.9   108%   134  944s\n",
      " 159386 96128 -1228090.0   46  839 -722000.00 -1501888.2   108%   134  951s\n",
      " 160756 97018 -1267265.3   44  830 -722000.00 -1501229.8   108%   134  956s\n",
      " 161923 97874 -1003859.3   57  566 -722000.00 -1499594.3   108%   134  961s\n",
      " 163039 98723 -733385.29   70  265 -722000.00 -1498746.0   108%   134  967s\n",
      " 164139 99943 -1356007.9   43  828 -722000.00 -1497999.2   107%   134  973s\n",
      " 165655 100788 -1122430.2   50  775 -722000.00 -1497038.0   107%   134  978s\n",
      " 166847 102004 -1327285.6   43  883 -722000.00 -1495932.8   107%   134  985s\n",
      " 168428 102739 -1149283.2   56  701 -722000.00 -1494943.7   107%   134  990s\n",
      " 169406 103697 -1341968.9   46  959 -722000.00 -1493846.5   107%   134  995s\n",
      " 170628 104815 -1264864.0   47  820 -722000.00 -1492285.4   107%   134 1001s\n",
      " 172023 106111 -1298633.3   48  971 -722000.00 -1490901.8   106%   134 1006s\n",
      " 173638 107226 -1300225.7   46  821 -722000.00 -1489867.7   106%   133 1012s\n",
      " 175055 108279 -1324410.9   46  838 -722000.00 -1488093.9   106%   133 1017s\n",
      " 176386 109191 -1299986.6   43  965 -722000.00 -1487175.4   106%   133 1022s\n",
      " 177578 109880 -1173371.9   47  745 -722000.00 -1486285.6   106%   133 1027s\n",
      " 178615 110632 -1314949.2   40 1008 -722000.00 -1484966.7   106%   133 1033s\n",
      " 179898 111825 -1380318.7   47  962 -722000.00 -1484138.9   106%   133 1039s\n",
      " 181428 112628 -1357829.0   44  967 -722000.00 -1483218.8   105%   133 1043s\n",
      " 182521 113975 -1328271.2   44  767 -722000.00 -1482446.3   105%   133 1049s\n",
      " 184145 114730 -1294882.1   43  917 -722000.00 -1481990.9   105%   133 1055s\n",
      " 185208 116147 -1260072.8   47  751 -722000.00 -1480550.8   105%   133 1061s\n",
      " 186956 116923 -1092262.1   63  693 -722000.00 -1479504.5   105%   133 1065s\n",
      " 187986 117998 -1182041.7   49  797 -722000.00 -1478775.1   105%   133 1070s\n",
      " 189348 119317 -1023741.8   56  586 -722000.00 -1477260.3   105%   133 1076s\n",
      " 190972 120316 -1338692.3   42  996 -722000.00 -1476156.8   104%   132 1081s\n",
      " 192275 121158 -1386959.5   44  937 -722000.00 -1475166.7   104%   132 1086s\n",
      " 193656 121906 -1048433.4   55  718 -722000.00 -1474694.7   104%   132 1091s\n",
      " 194752 122849 -1355521.5   43  964 -722000.00 -1473332.2   104%   132 1096s\n",
      " 196606 123519 -1372106.7   43  889 -722000.00 -1472731.9   104%   131 1100s\n",
      " 197528 124288 -1226241.2   45  834 -722000.00 -1471731.4   104%   131 1105s\n",
      " 198561 125514 -1308388.1   43  841 -722000.00 -1470782.6   104%   131 1111s\n",
      " 200083 126446 -1215425.0   44  867 -722000.00 -1470104.7   104%   131 1116s\n",
      " 201307 127434 -1177733.2   44  831 -722000.00 -1469533.7   104%   131 1122s\n",
      " 202489 128611 -962948.97   52  577 -722000.00 -1469350.5   104%   131 1128s\n",
      " 203946 129630 -1129057.8   49  706 -722000.00 -1468296.0   103%   131 1135s\n",
      " 205290 130532 -747161.57   48  464 -722000.00 -1467666.0   103%   131 1142s\n",
      " 206869 131399 -1264378.5   47  875 -722000.00 -1467348.0   103%   131 1148s\n",
      " 208334 132045 -1355921.4   43  933 -722000.00 -1466240.2   103%   131 1154s\n",
      " 209264 132868     cutoff   72      -722000.00 -1465538.5   103%   131 1160s\n",
      " 210363 133633 -1287890.8   52  841 -722000.00 -1464297.8   103%   131 1166s\n",
      " 211458 134581 -1227570.1   51  692 -722000.00 -1463293.8   103%   131 1171s\n",
      " 212709 135533 -1191131.9   46  715 -722000.00 -1462021.8   102%   131 1177s\n",
      " 214065 136887 -1301972.5   49  830 -722000.00 -1460740.0   102%   131 1183s\n",
      " 216081 137504 -1060108.1   43  697 -722000.00 -1459902.5   102%   130 1189s\n",
      " 216906 138537 -1362027.6   42  979 -722000.00 -1459434.2   102%   130 1194s\n",
      " 218251 139545 -1211296.8   55  807 -722000.00 -1458429.8   102%   130 1200s\n",
      "\n",
      "Cutting planes:\n",
      "  Gomory: 14\n",
      "  Clique: 2\n",
      "  MIR: 86\n",
      "  StrongCG: 1\n",
      "  Flow cover: 1328\n",
      "  Inf proof: 6\n",
      "  Zero half: 213\n",
      "  RLT: 537\n",
      "  BQP: 584\n",
      "  PSD: 335\n",
      "\n",
      "Explored 219497 nodes (28591644 simplex iterations) in 1200.16 seconds (788.54 work units)\n",
      "Thread count was 12 (of 12 available processors)\n",
      "\n",
      "Solution count 10: -722000 -720000 -716000 ... 0\n",
      "\n",
      "Time limit reached\n",
      "Best objective -7.220000000000e+05, best bound -1.456000000000e+06, gap 101.6620%\n"
     ]
    }
   ],
   "source": [
    "# gp_model = gp.Model()\n",
    "# xv = np.array([[gp_model.addVar(vtype = gp.GRB.BINARY, name = f'x{i}') for i in range(len(x))]])\n",
    "# obj = (xv*np.matrix(Q)*np.transpose(xv))[0,0]\n",
    "# gp_model.params.NonConvex = -1\n",
    "# gp_model.setParam(\"TimeLimit\", 1200)\n",
    "# gp_model.setObjective(obj, gp.GRB.MINIMIZE)\n",
    "# gp_model.optimize()\n",
    "# result = np.array([var.x for var in gp_model.getVars()])"
   ]
  },
  {
   "cell_type": "code",
   "execution_count": 415,
   "id": "bea02d06",
   "metadata": {},
   "outputs": [
    {
     "name": "stdout",
     "output_type": "stream",
     "text": [
      "-722000.0\n",
      "206\n",
      "S{JB1,LAM1,M1,1} = 3.0\n",
      "S{JB1,LAM1,M1,2} = 2.0\n",
      "S{JB1,LAM2,M1,1} = 7.0\n",
      "S{JB1,LAM2,M1,2} = 2.0\n",
      "S{JB1,B1,M2} = 11.0\n",
      "S{JB1,B1,M3} = 8.0\n",
      "S{JB2,LAM1,M1} = 0.0\n",
      "S{JB2,B2,M2} = 10.0\n",
      "L{JB1,LAM1,M1,1} = 0.0\n",
      "L{JB1,LAM1,M1,2} = 4.0\n",
      "L{JB1,LAM2,M1,1} = 0.0\n",
      "L{JB1,LAM2,M1,2} = 4.0\n",
      "L{JB1,B1,M2} = 0.0\n",
      "L{JB1,B1,M3} = 4.0\n",
      "L{JB2,LAM1,M1} = 2.0\n",
      "L{JB2,B2,M2} = 2.0\n",
      "E{JB1} = 12.0\n",
      "E{JB2} = 12.0\n",
      "d{JB1} = 0.0\n",
      "d{JB2} = 1.0\n",
      "bz{L{JB1,LAM1,M1,1}} = 1.0\n",
      "bz{L{JB1,LAM1,M1,2}} = 0.0\n",
      "bz{L{JB1,LAM2,M1,1}} = 1.0\n",
      "bz{L{JB1,LAM2,M1,2}} = 0.0\n",
      "bz{L{JB1,B1,M2}} = 1.0\n",
      "bz{L{JB1,B1,M3}} = 0.0\n",
      "bz{L{JB2,LAM1,M1}} = 0.0\n",
      "bz{L{JB2,B2,M2}} = 0.0\n",
      "X^M1 =\n",
      "[[0 0 0 0 0]\n",
      " [0 0 1 0 0]\n",
      " [0 0 0 0 0]\n",
      " [1 0 0 0 0]\n",
      " [0 1 0 0 0]]\n",
      "X^M2 =\n",
      "[[0 0]\n",
      " [1 0]]\n",
      "X^M3 =\n",
      "[[1]]\n",
      "u_{M1,1} = 1.0\n",
      "u_{M1,2} = 1.0\n",
      "u_{M1,3} = 1.0\n",
      "u_{M1,4} = 0.0\n",
      "u_{M1,5} = 0.0\n",
      "u_{M2,1} = 1.0\n",
      "u_{M2,2} = 0.0\n",
      "u_{M3,1} = 1.0\n",
      "slack_2_L{JB1,LAM1,M1,1} = 15.0\n",
      "slack_2_L{JB1,LAM1,M1,2} = 3.0\n",
      "slack_2_L{JB1,LAM2,M1,1} = 15.0\n",
      "slack_2_L{JB1,LAM2,M1,2} = 3.0\n",
      "slack_2_L{JB1,B1,M2} = 15.0\n",
      "slack_2_L{JB1,B1,M3} = 3.0\n",
      "slack_2_L{JB2,LAM1,M1} = 1.0\n",
      "slack_2_L{JB2,B2,M2} = 1.0\n",
      "slack_3_E{JB1} = 1.0\n",
      "slack_3_E{JB2} = 15.0\n",
      "slack_6_u_{M1,1} = 5.0\n",
      "slack_6_u_{M1,2} = 2.0\n",
      "slack_6_u_{M1,3} = 3.0\n",
      "slack_6_u_{M1,4} = 0.0\n",
      "slack_6_u_{M1,5} = 1.0\n",
      "slack_6_u_{M2,1} = 1.0\n",
      "slack_6_u_{M2,2} = 0.0\n",
      "slack_7_1_JB1,LAM1,M1,1 = 8.0\n",
      "slack_7_1_JB1,LAM2,M1,1 = 4.0\n",
      "slack_7_1_JB1,LAM1,M1,2 = 2.0\n",
      "slack_7_1_JB1,LAM2,M1,2 = 2.0\n",
      "slack_7_1_JB2,LAM1,M1 = 8.0\n",
      "slack_7_1_1_JB1,B1,M2 = 0.0\n",
      "slack_7_1_1_JB1,B1,M3 = 0.0\n",
      "slack_7_1_1_JB2,B2,M2 = 0.0\n"
     ]
    }
   ],
   "source": [
    "# print((result@np.matrix(Q)@np.transpose(result))[0,0])\n",
    "# print_all_variables(result, x, S_q, L_q, E_q, slack, X, qb_amount)"
   ]
  },
  {
   "cell_type": "code",
   "execution_count": 419,
   "id": "5a63d199",
   "metadata": {},
   "outputs": [
    {
     "name": "stdout",
     "output_type": "stream",
     "text": [
      "206\n",
      "-722000.0\n",
      "-724000.0\n",
      "206\n",
      "S{JB1,LAM1,M1,1} = 3.0\n",
      "S{JB1,LAM1,M1,2} = 2.0\n",
      "S{JB1,LAM2,M1,1} = 7.0\n",
      "S{JB1,LAM2,M1,2} = 2.0\n",
      "S{JB1,B1,M2} = 11.0\n",
      "S{JB1,B1,M3} = 8.0\n",
      "S{JB2,LAM1,M1} = 0.0\n",
      "S{JB2,B2,M2} = 10.0\n",
      "L{JB1,LAM1,M1,1} = 0.0\n",
      "L{JB1,LAM1,M1,2} = 4.0\n",
      "L{JB1,LAM2,M1,1} = 0.0\n",
      "L{JB1,LAM2,M1,2} = 4.0\n",
      "L{JB1,B1,M2} = 0.0\n",
      "L{JB1,B1,M3} = 4.0\n",
      "L{JB2,LAM1,M1} = 2.0\n",
      "L{JB2,B2,M2} = 2.0\n",
      "E{JB1} = 12.0\n",
      "E{JB2} = 12.0\n",
      "d{JB1} = 0.0\n",
      "d{JB2} = 0.0\n",
      "bz{L{JB1,LAM1,M1,1}} = 1.0\n",
      "bz{L{JB1,LAM1,M1,2}} = 0.0\n",
      "bz{L{JB1,LAM2,M1,1}} = 1.0\n",
      "bz{L{JB1,LAM2,M1,2}} = 0.0\n",
      "bz{L{JB1,B1,M2}} = 1.0\n",
      "bz{L{JB1,B1,M3}} = 0.0\n",
      "bz{L{JB2,LAM1,M1}} = 0.0\n",
      "bz{L{JB2,B2,M2}} = 0.0\n",
      "X^M1 =\n",
      "[[0 0 0 0 0]\n",
      " [0 0 1 0 0]\n",
      " [0 0 0 0 0]\n",
      " [1 0 0 0 0]\n",
      " [0 1 0 0 0]]\n",
      "X^M2 =\n",
      "[[0 0]\n",
      " [1 0]]\n",
      "X^M3 =\n",
      "[[1]]\n",
      "u_{M1,1} = 1.0\n",
      "u_{M1,2} = 1.0\n",
      "u_{M1,3} = 1.0\n",
      "u_{M1,4} = 0.0\n",
      "u_{M1,5} = 0.0\n",
      "u_{M2,1} = 1.0\n",
      "u_{M2,2} = 0.0\n",
      "u_{M3,1} = 1.0\n",
      "slack_2_L{JB1,LAM1,M1,1} = 15.0\n",
      "slack_2_L{JB1,LAM1,M1,2} = 3.0\n",
      "slack_2_L{JB1,LAM2,M1,1} = 15.0\n",
      "slack_2_L{JB1,LAM2,M1,2} = 3.0\n",
      "slack_2_L{JB1,B1,M2} = 15.0\n",
      "slack_2_L{JB1,B1,M3} = 3.0\n",
      "slack_2_L{JB2,LAM1,M1} = 1.0\n",
      "slack_2_L{JB2,B2,M2} = 1.0\n",
      "slack_3_E{JB1} = 1.0\n",
      "slack_3_E{JB2} = 0.0\n",
      "slack_6_u_{M1,1} = 5.0\n",
      "slack_6_u_{M1,2} = 2.0\n",
      "slack_6_u_{M1,3} = 3.0\n",
      "slack_6_u_{M1,4} = 0.0\n",
      "slack_6_u_{M1,5} = 1.0\n",
      "slack_6_u_{M2,1} = 1.0\n",
      "slack_6_u_{M2,2} = 0.0\n",
      "slack_7_1_JB1,LAM1,M1,1 = 8.0\n",
      "slack_7_1_JB1,LAM2,M1,1 = 4.0\n",
      "slack_7_1_JB1,LAM1,M1,2 = 2.0\n",
      "slack_7_1_JB1,LAM2,M1,2 = 2.0\n",
      "slack_7_1_JB2,LAM1,M1 = 8.0\n",
      "slack_7_1_1_JB1,B1,M2 = 0.0\n",
      "slack_7_1_1_JB1,B1,M3 = 0.0\n",
      "slack_7_1_1_JB2,B2,M2 = 0.0\n"
     ]
    }
   ],
   "source": [
    "# result_2 = result.copy()\n",
    "# for v in x:\n",
    "#     if v == d(J[1]) or (isinstance(v, slack) and v.same(slack('3',E(J[1]),0))):\n",
    "#         result_2[x.index(v)] = 0\n",
    "        \n",
    "# print(len(result_2))\n",
    "# print((result@np.matrix(Q)@np.transpose(result))[0,0])\n",
    "# print((result_2@np.matrix(Q)@np.transpose(result_2))[0,0])\n",
    "# print_all_variables(result_2, x, S_q, L_q, E_q, slack, X, qb_amount)"
   ]
  },
  {
   "attachments": {},
   "cell_type": "markdown",
   "id": "4df35aa8",
   "metadata": {},
   "source": [
    "\n",
    "### 4.8) Non-superposition of operations:\n",
    "for each machine m, k = 2,...o_m\n",
    "\n",
    "    sum_jps{\n",
    "      S_jpms * X^m_(jps,k)\n",
    "    }\n",
    "\n",
    "    >= sum_jps {\n",
    "      ( S_jpms + Ljpms ) * X^m_(jps,k-1)\n",
    "    }\n",
    "\n",
    "    + sum_(jps, j'p's') {\n",
    "      X^m_(jps,k-1) * TT^m_p,p' * X^m_(j'p's',k)\n",
    "    }\n",
    "    \n",
    "    - M * (1 - u_mk)\n",
    "\n"
   ]
  },
  {
   "attachments": {},
   "cell_type": "markdown",
   "id": "830fb3a5",
   "metadata": {},
   "source": [
    "\n",
    "#### 4.8.1) Avoiding the quadratic terms\n",
    "  \n",
    "    sum_jps{\n",
    "      y^m_(jps,k)\n",
    "    }\n",
    "    >= sum_jps {\n",
    "      y^m_(jps,k-1) + Ljpms * z^m_(jps,k-1)\n",
    "    }\n",
    "    + sum_(jps, j'p's') {\n",
    "      TT^m_p,p' w^m_(jps,j'p's',k-1)\n",
    "    }\n",
    "    - M * (1 - u_mk)\n",
    "\n"
   ]
  },
  {
   "attachments": {},
   "cell_type": "markdown",
   "id": "60e21cf5",
   "metadata": {},
   "source": [
    "\n",
    "### 4.9) Quadratic constraint auxiliary variables\n"
   ]
  },
  {
   "attachments": {},
   "cell_type": "markdown",
   "id": "9a3c392e",
   "metadata": {},
   "source": [
    "\n",
    "#### 4.9.1) X and S\n",
    "\n",
    "$$ y^m_{jps,k,q} = X^m_{jps,k} * {S_{jpms}}_q $$\n",
    "$$ P \\times ( 3 \\times y^m_{jps,k,q} + X^m_{jps,k} \\times {S_{jpms}}_q - 2 \\times {S_{jpms}}_q \\times y^m_{jps,k,q} - 2 \\times X^m_{jps,k} \\times y^m_{jps,k,q} ) $$\n"
   ]
  },
  {
   "attachments": {},
   "cell_type": "markdown",
   "id": "b3eb8223",
   "metadata": {},
   "source": [
    "\n",
    "#### 4.9.2) X and L\n",
    "$$ z^m_{jps,k,q} = X^m_{jps,k} * {L_{jpms}}_q $$\n",
    "$$ P \\times ( 3 \\times z^m_{jps,k,q} + X^m_{jps,k} \\times {L_{jpms}}_q - 2 \\times {L_{jpms}}_q \\times z^m_{jps,k,q} - 2 \\times X^m_{jps,k} \\times z^m_{jps,k,q} ) $$\n"
   ]
  },
  {
   "attachments": {},
   "cell_type": "markdown",
   "id": "e7691d1d",
   "metadata": {},
   "source": [
    "\n",
    "#### 4.9.3) X and X\n",
    "$$ w^m_{(jps),(j'p's'),k} = X^m_{jps,k} * X^m_{j'p's',k+1} $$\n",
    "$$ P \\times ( 3 \\times w^m_{(jps),(j'p's'),k} + X^m_{jps,k} \\times X^m_{j'p's',k+1} - 2 \\times X^m_{j'p's',k+1} \\times w^m_{(jps),(j'p's'),k} - 2 \\times X^m_{jps,k} \\times w^m_{(jps),(j'p's'),k} ) $$\n"
   ]
  },
  {
   "cell_type": "code",
   "execution_count": 416,
   "id": "6188a57c",
   "metadata": {},
   "outputs": [],
   "source": [
    "# sampleset = sendToDwave(Q, 10)\n",
    "# print(sampleset)\n",
    "# samples_dict = count_elements(sampleset, len(Q))\n",
    "# make_histogram(samples_dict)\n",
    "\n"
   ]
  }
 ],
 "metadata": {
  "kernelspec": {
   "display_name": "Python 3",
   "language": "python",
   "name": "python3"
  },
  "language_info": {
   "codemirror_mode": {
    "name": "ipython",
    "version": 3
   },
   "file_extension": ".py",
   "mimetype": "text/x-python",
   "name": "python",
   "nbconvert_exporter": "python",
   "pygments_lexer": "ipython3",
   "version": "3.10.8"
  },
  "vscode": {
   "interpreter": {
    "hash": "369f2c481f4da34e4445cda3fffd2e751bd1c4d706f27375911949ba6bb62e1c"
   }
  }
 },
 "nbformat": 4,
 "nbformat_minor": 5
}
